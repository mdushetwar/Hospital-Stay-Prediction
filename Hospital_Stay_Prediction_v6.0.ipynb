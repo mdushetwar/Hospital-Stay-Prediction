{
  "cells": [
    {
      "cell_type": "markdown",
      "id": "c8f3c056",
      "metadata": {
        "id": "c8f3c056"
      },
      "source": [
        "# Souces and literature \n",
        "\n",
        "type of admission column: https://www.providence.org/services/emergency-care/emergency-trauma-or-urgent-care\n",
        "\n",
        "hospital type code: https://resdac.org/cms-data/variables/hospital-type-code\n",
        "\n",
        "Performance metrics: https://www.arxiv-vanity.com/papers/2008.05756/"
      ]
    },
    {
      "cell_type": "markdown",
      "id": "05c89659",
      "metadata": {
        "id": "05c89659"
      },
      "source": [
        "# Business Case"
      ]
    },
    {
      "cell_type": "markdown",
      "id": "b44a42a7",
      "metadata": {
        "id": "b44a42a7"
      },
      "source": [
        "Data science have the potential to revolutionize the healthcare sector, by enabling more accurate and efficient decision making. In the current scenario, where the healthcare system is under immense pressure due to the COVID-19 pandemic, the use of data science and machine learning can help us to better understand the spread of the virus and its impact on patients. By analyzing large amounts of data, we can identify patterns and trends that would be difficult to discern through traditional methods. This can help us to make more informed decisions about how to allocate resources, and to develop more effective treatment strategies.\n",
        "\n",
        "The COVID-19 pandemic has brought to light the dire need for effective hospital bed management. With the rapid spread of the virus, hospitals across India faced a shortage of beds, leaving patients struggling to find a place to receive care. This not only resulted in long wait times, but also led to patients being forced to pay exorbitant amounts of money for a bed. In light of these challenges, it is clear that there is a critical need for a system that can predict how long patients will stay in the hospital. Such a system would enable hospitals to better manage their bed capacity, ensuring that beds are available for those who need them most. By leveraging the power of machine learning, this project aims to develop a predictive model that can accurately forecast a patient's hospital stay. This will not only help patients avoid extra waiting and money, but also enable hospitals to optimize their resources and provide better care for all.\n",
        "\n",
        "<p style='font-size:1.3em; color:tomato'> Accurately predicting the length of stay for each patient on a case-by-case basis can greatly benefit hospitals by allowing for optimal resource allocation and improved overall functioning. By utilizing this information, hospitals can better plan and allocate resources, such as beds and staff, leading to increased efficiency and cost savings. Additionally, knowing the expected length of stay for each patient can also improve patient care and outcomes by ensuring that they receive the appropriate level of care during their stay. The 11 different length of stay classes, ranging from 0-10 days to over 100 days, provide a comprehensive understanding of patient needs and allows for tailored resource allocation. Investing in a system to predict length of stay can ultimately lead to improved patient outcomes and cost savings for the hospital."
      ]
    },
    {
      "cell_type": "markdown",
      "id": "34dc6052",
      "metadata": {
        "id": "34dc6052"
      },
      "source": [
        "### Length of Stay (LoS)"
      ]
    },
    {
      "cell_type": "markdown",
      "id": "9591db5c",
      "metadata": {
        "id": "9591db5c"
      },
      "source": [
        "The length of stay (LOS) in a hospital, or the number of days from a patient’s admission to release, serves as a strong indicator of both medical and financial efficiency. A shorter LOS reduces the risk of acquiring staph infections and other healthcare-related conditions, frees up vital bed spaces, and cuts overall medical expenses — to name just key advantages."
      ]
    },
    {
      "cell_type": "markdown",
      "id": "a1735211",
      "metadata": {
        "id": "a1735211"
      },
      "source": [
        "# Dataset"
      ]
    },
    {
      "cell_type": "markdown",
      "id": "8ac4aedd",
      "metadata": {
        "id": "8ac4aedd"
      },
      "source": [
        "The dataset contains following attributes. Many of them are self explainatory. However, let's put down each of them into simple words.\n",
        "\n",
        "- case_id: A unique identifier for each case in the dataset\n",
        "\n",
        "- Hospital_code: The code assigned to the hospital where the case was treated [ 8,  2, 10, 26, 23, 32,  1, 22, 16,  9,  6, 29, 12,  3, 21, 28, 27,\n",
        "       19,  5, 14, 13, 31, 24, 17, 25, 15, 11, 30, 18,  4,  7, 20]\n",
        "\n",
        "- Hospital_type_code: The type of hospital ['c', 'e', 'b', 'a', 'f', 'd', 'g']\n",
        "\n",
        "- City_Code_Hospital: The code assigned to the city where the hospital is located [ 3,  5,  1,  2,  6,  9, 10,  4, 11,  7, 13]\n",
        "\n",
        "- Hospital_region_code: The code assigned to the region where the hospital is located ['Z', 'X', 'Y']\n",
        "\n",
        "- Available_Extra_Rooms_in_Hospital: The number of extra rooms available in the hospital\n",
        "\n",
        "- Department: The department within the hospital where the patient was treated\n",
        "\n",
        "- Ward_Type: The type of ward where the patient was treated ['R', 'S', 'Q', 'P', 'T', 'U']\n",
        "\n",
        "- Ward_Facility_Code: The code assigned to the ward where the patient was treated ['F', 'E', 'D', 'B', 'A', 'C']\n",
        "\n",
        "- Bed_Grade: The grade assigned to the bed where the patient was treated [ 2.,  3.,  4.,  1.]\n",
        "\n",
        "- patientid: A unique identifier for the patient\n",
        "\n",
        "- City_Code_Patient: The code assigned to the city where the patient is from [ 7.,  8.,  2.,  5.,  6.,  3.,  4.,  1.,  9., 14., nan, 25., 15.,\n",
        "       12., 10., 28., 24., 23., 20., 11., 13., 21., 18., 16., 26., 27., 22., 19., 31., 34., 32., 30., 29., 37., 33., 35., 36., 38.]\n",
        "\n",
        "- Type_of_Admission: The type of admission ['Emergency', 'Trauma', 'Urgent']\n",
        "\n",
        "- Severity_of_Illness: A rating of the severity of the patient's illness ['Extreme', 'Moderate', 'Minor']\n",
        "\n",
        "- Visitors_with_Patient: The number of visitors allowed with the patient\n",
        "\n",
        "- Age: The age of the patient\n",
        "\n",
        "- Admission_Deposit: The amount of deposit paid at the time of admission\n",
        "\n",
        "- Stay: The length of stay in the hospital for the patient. This is our target. It is given in the form of groups such as 0-10, 11,20, 21-30 etc."
      ]
    },
    {
      "cell_type": "markdown",
      "id": "eb4aab23",
      "metadata": {
        "id": "eb4aab23"
      },
      "source": [
        "# Performance Metrix"
      ]
    },
    {
      "cell_type": "markdown",
      "id": "8f5b7a5f",
      "metadata": {
        "id": "8f5b7a5f"
      },
      "source": [
        "By looking at the target column, we understand that the project falls in classification type. Here we have to predict the length of stay category (0 to 10, 11 to 20 and so on). \n",
        "\n",
        "\n",
        "From top level, we have understood that this business problem fall into multiclass classification problem. For classification problem, we use different metrics such as accuracy, precisioon, recall, F1 score, AUC score, etc. Many metrics are based on the Confusion Matrix, since it encloses all the relevant information about the algorithm and classification rule performance. We will primarily look at Accuracy score as the metric is very intuitive and easy to understand. Both in binary cases and multi-class cases the Accuracy assumes values between values 0 and 1, while the quantity missing to reach 1 is called Misclassification Rate. \n"
      ]
    },
    {
      "cell_type": "code",
      "execution_count": 58,
      "id": "51ac1f56",
      "metadata": {
        "id": "51ac1f56"
      },
      "outputs": [],
      "source": [
        "#basics libraries\n",
        "import numpy as np\n",
        "import pandas as pd\n",
        "from scipy import stats\n",
        "\n",
        "#visualisation libraries\n",
        "import matplotlib.pyplot as plt\n",
        "import seaborn as sns\n",
        "import missingno as msno\n",
        "\n",
        "#data preprocessing\n",
        "from sklearn. model_selection import StratifiedShuffleSplit\n",
        "from sklearn.preprocessing import OrdinalEncoder, StandardScaler\n",
        "\n",
        "#model development\n",
        "from sklearn.linear_model import LogisticRegression\n",
        "from sklearn.neighbors import KNeighborsClassifier\n",
        "from sklearn.tree import DecisionTreeClassifier\n",
        "from sklearn.ensemble import RandomForestClassifier, GradientBoostingClassifier\n",
        "from xgboost import XGBClassifier\n",
        "from sklearn.neural_network import MLPClassifier\n",
        "\n",
        "#performance metrics\n",
        "from sklearn.metrics import accuracy_score, classification_report\n",
        "from sklearn.model_selection import cross_val_score\n",
        "\n",
        "#hyperparameter tuning\n",
        "from sklearn.model_selection import RandomizedSearchCV\n",
        "\n",
        "#model deployment\n",
        "import pickle\n",
        "\n",
        "#warnings\n",
        "import warnings\n",
        "warnings.filterwarnings('ignore')\n"
      ]
    },
    {
      "cell_type": "code",
      "execution_count": 59,
      "id": "ca4ce8d3",
      "metadata": {
        "id": "ca4ce8d3"
      },
      "outputs": [],
      "source": [
        "df= pd.read_csv('HealthCareAnalytics.csv')"
      ]
    },
    {
      "cell_type": "code",
      "execution_count": 60,
      "id": "ca27b3d7",
      "metadata": {
        "colab": {
          "base_uri": "https://localhost:8080/",
          "height": 357
        },
        "id": "ca27b3d7",
        "outputId": "7a4767c8-98db-42f7-df7e-05dd8f5d4078"
      },
      "outputs": [
        {
          "data": {
            "text/html": [
              "<div>\n",
              "<style scoped>\n",
              "    .dataframe tbody tr th:only-of-type {\n",
              "        vertical-align: middle;\n",
              "    }\n",
              "\n",
              "    .dataframe tbody tr th {\n",
              "        vertical-align: top;\n",
              "    }\n",
              "\n",
              "    .dataframe thead th {\n",
              "        text-align: right;\n",
              "    }\n",
              "</style>\n",
              "<table border=\"1\" class=\"dataframe\">\n",
              "  <thead>\n",
              "    <tr style=\"text-align: right;\">\n",
              "      <th></th>\n",
              "      <th>case_id</th>\n",
              "      <th>Hospital_code</th>\n",
              "      <th>Hospital_type_code</th>\n",
              "      <th>City_Code_Hospital</th>\n",
              "      <th>Hospital_region_code</th>\n",
              "      <th>Available_Extra_Rooms_in_Hospital</th>\n",
              "      <th>Department</th>\n",
              "      <th>Ward_Type</th>\n",
              "      <th>Ward_Facility_Code</th>\n",
              "      <th>Bed_Grade</th>\n",
              "      <th>patientid</th>\n",
              "      <th>City_Code_Patient</th>\n",
              "      <th>Type_of_Admission</th>\n",
              "      <th>Severity_of_Illness</th>\n",
              "      <th>Visitors_with_Patient</th>\n",
              "      <th>Age</th>\n",
              "      <th>Admission_Deposit</th>\n",
              "      <th>Stay</th>\n",
              "    </tr>\n",
              "  </thead>\n",
              "  <tbody>\n",
              "    <tr>\n",
              "      <th>0</th>\n",
              "      <td>1</td>\n",
              "      <td>8</td>\n",
              "      <td>c</td>\n",
              "      <td>3</td>\n",
              "      <td>Z</td>\n",
              "      <td>3</td>\n",
              "      <td>radiotherapy</td>\n",
              "      <td>R</td>\n",
              "      <td>F</td>\n",
              "      <td>2.0</td>\n",
              "      <td>31397</td>\n",
              "      <td>7.0</td>\n",
              "      <td>Emergency</td>\n",
              "      <td>Extreme</td>\n",
              "      <td>2</td>\n",
              "      <td>51-60</td>\n",
              "      <td>4911</td>\n",
              "      <td>0-10</td>\n",
              "    </tr>\n",
              "    <tr>\n",
              "      <th>1</th>\n",
              "      <td>2</td>\n",
              "      <td>2</td>\n",
              "      <td>c</td>\n",
              "      <td>5</td>\n",
              "      <td>Z</td>\n",
              "      <td>2</td>\n",
              "      <td>radiotherapy</td>\n",
              "      <td>S</td>\n",
              "      <td>F</td>\n",
              "      <td>2.0</td>\n",
              "      <td>31397</td>\n",
              "      <td>7.0</td>\n",
              "      <td>Trauma</td>\n",
              "      <td>Extreme</td>\n",
              "      <td>2</td>\n",
              "      <td>51-60</td>\n",
              "      <td>5954</td>\n",
              "      <td>41-50</td>\n",
              "    </tr>\n",
              "    <tr>\n",
              "      <th>2</th>\n",
              "      <td>3</td>\n",
              "      <td>10</td>\n",
              "      <td>e</td>\n",
              "      <td>1</td>\n",
              "      <td>X</td>\n",
              "      <td>2</td>\n",
              "      <td>anesthesia</td>\n",
              "      <td>S</td>\n",
              "      <td>E</td>\n",
              "      <td>2.0</td>\n",
              "      <td>31397</td>\n",
              "      <td>7.0</td>\n",
              "      <td>Trauma</td>\n",
              "      <td>Extreme</td>\n",
              "      <td>2</td>\n",
              "      <td>51-60</td>\n",
              "      <td>4745</td>\n",
              "      <td>31-40</td>\n",
              "    </tr>\n",
              "    <tr>\n",
              "      <th>3</th>\n",
              "      <td>4</td>\n",
              "      <td>26</td>\n",
              "      <td>b</td>\n",
              "      <td>2</td>\n",
              "      <td>Y</td>\n",
              "      <td>2</td>\n",
              "      <td>radiotherapy</td>\n",
              "      <td>R</td>\n",
              "      <td>D</td>\n",
              "      <td>2.0</td>\n",
              "      <td>31397</td>\n",
              "      <td>7.0</td>\n",
              "      <td>Trauma</td>\n",
              "      <td>Extreme</td>\n",
              "      <td>2</td>\n",
              "      <td>51-60</td>\n",
              "      <td>7272</td>\n",
              "      <td>41-50</td>\n",
              "    </tr>\n",
              "    <tr>\n",
              "      <th>4</th>\n",
              "      <td>5</td>\n",
              "      <td>26</td>\n",
              "      <td>b</td>\n",
              "      <td>2</td>\n",
              "      <td>Y</td>\n",
              "      <td>2</td>\n",
              "      <td>radiotherapy</td>\n",
              "      <td>S</td>\n",
              "      <td>D</td>\n",
              "      <td>2.0</td>\n",
              "      <td>31397</td>\n",
              "      <td>7.0</td>\n",
              "      <td>Trauma</td>\n",
              "      <td>Extreme</td>\n",
              "      <td>2</td>\n",
              "      <td>51-60</td>\n",
              "      <td>5558</td>\n",
              "      <td>41-50</td>\n",
              "    </tr>\n",
              "  </tbody>\n",
              "</table>\n",
              "</div>"
            ],
            "text/plain": [
              "   case_id  Hospital_code Hospital_type_code  City_Code_Hospital  \\\n",
              "0        1              8                  c                   3   \n",
              "1        2              2                  c                   5   \n",
              "2        3             10                  e                   1   \n",
              "3        4             26                  b                   2   \n",
              "4        5             26                  b                   2   \n",
              "\n",
              "  Hospital_region_code  Available_Extra_Rooms_in_Hospital    Department  \\\n",
              "0                    Z                                  3  radiotherapy   \n",
              "1                    Z                                  2  radiotherapy   \n",
              "2                    X                                  2    anesthesia   \n",
              "3                    Y                                  2  radiotherapy   \n",
              "4                    Y                                  2  radiotherapy   \n",
              "\n",
              "  Ward_Type Ward_Facility_Code  Bed_Grade  patientid  City_Code_Patient  \\\n",
              "0         R                  F        2.0      31397                7.0   \n",
              "1         S                  F        2.0      31397                7.0   \n",
              "2         S                  E        2.0      31397                7.0   \n",
              "3         R                  D        2.0      31397                7.0   \n",
              "4         S                  D        2.0      31397                7.0   \n",
              "\n",
              "  Type_of_Admission Severity_of_Illness  Visitors_with_Patient    Age  \\\n",
              "0         Emergency             Extreme                      2  51-60   \n",
              "1            Trauma             Extreme                      2  51-60   \n",
              "2            Trauma             Extreme                      2  51-60   \n",
              "3            Trauma             Extreme                      2  51-60   \n",
              "4            Trauma             Extreme                      2  51-60   \n",
              "\n",
              "   Admission_Deposit   Stay  \n",
              "0               4911   0-10  \n",
              "1               5954  41-50  \n",
              "2               4745  31-40  \n",
              "3               7272  41-50  \n",
              "4               5558  41-50  "
            ]
          },
          "execution_count": 60,
          "metadata": {},
          "output_type": "execute_result"
        }
      ],
      "source": [
        "df.head()"
      ]
    },
    {
      "cell_type": "code",
      "execution_count": 61,
      "id": "2c516be7",
      "metadata": {
        "colab": {
          "base_uri": "https://localhost:8080/"
        },
        "id": "2c516be7",
        "outputId": "5eddb94b-c1f0-4715-8dfd-32be95a2db97"
      },
      "outputs": [
        {
          "data": {
            "text/plain": [
              "(318438, 18)"
            ]
          },
          "execution_count": 61,
          "metadata": {},
          "output_type": "execute_result"
        }
      ],
      "source": [
        "df.shape"
      ]
    },
    {
      "cell_type": "markdown",
      "id": "d964746a",
      "metadata": {
        "id": "d964746a"
      },
      "source": [
        "There are 318438 records and 18 columns in the dataset"
      ]
    },
    {
      "cell_type": "code",
      "execution_count": 62,
      "id": "97080625",
      "metadata": {
        "colab": {
          "base_uri": "https://localhost:8080/"
        },
        "id": "97080625",
        "outputId": "e95484f1-88d7-451f-b030-304b8bc37d40"
      },
      "outputs": [
        {
          "data": {
            "text/plain": [
              "Index(['case_id', 'Hospital_code', 'Hospital_type_code', 'City_Code_Hospital',\n",
              "       'Hospital_region_code', 'Available_Extra_Rooms_in_Hospital',\n",
              "       'Department', 'Ward_Type', 'Ward_Facility_Code', 'Bed_Grade',\n",
              "       'patientid', 'City_Code_Patient', 'Type_of_Admission',\n",
              "       'Severity_of_Illness', 'Visitors_with_Patient', 'Age',\n",
              "       'Admission_Deposit', 'Stay'],\n",
              "      dtype='object')"
            ]
          },
          "execution_count": 62,
          "metadata": {},
          "output_type": "execute_result"
        }
      ],
      "source": [
        "df.columns"
      ]
    },
    {
      "cell_type": "code",
      "execution_count": 63,
      "id": "37de0042",
      "metadata": {
        "id": "37de0042"
      },
      "outputs": [],
      "source": [
        "# Making column names to lowercase\n",
        "df.columns=[x.lower() for x in df.columns]"
      ]
    },
    {
      "cell_type": "code",
      "execution_count": 64,
      "id": "83f3418e",
      "metadata": {
        "colab": {
          "base_uri": "https://localhost:8080/",
          "height": 357
        },
        "id": "83f3418e",
        "outputId": "494d6056-aa04-4d1d-d866-23bf354da886"
      },
      "outputs": [
        {
          "data": {
            "text/html": [
              "<div>\n",
              "<style scoped>\n",
              "    .dataframe tbody tr th:only-of-type {\n",
              "        vertical-align: middle;\n",
              "    }\n",
              "\n",
              "    .dataframe tbody tr th {\n",
              "        vertical-align: top;\n",
              "    }\n",
              "\n",
              "    .dataframe thead th {\n",
              "        text-align: right;\n",
              "    }\n",
              "</style>\n",
              "<table border=\"1\" class=\"dataframe\">\n",
              "  <thead>\n",
              "    <tr style=\"text-align: right;\">\n",
              "      <th></th>\n",
              "      <th>case_id</th>\n",
              "      <th>hospital_code</th>\n",
              "      <th>hospital_type_code</th>\n",
              "      <th>city_code_hospital</th>\n",
              "      <th>hospital_region_code</th>\n",
              "      <th>available_extra_rooms_in_hospital</th>\n",
              "      <th>department</th>\n",
              "      <th>ward_type</th>\n",
              "      <th>ward_facility_code</th>\n",
              "      <th>bed_grade</th>\n",
              "      <th>patientid</th>\n",
              "      <th>city_code_patient</th>\n",
              "      <th>type_of_admission</th>\n",
              "      <th>severity_of_illness</th>\n",
              "      <th>visitors_with_patient</th>\n",
              "      <th>age</th>\n",
              "      <th>admission_deposit</th>\n",
              "      <th>stay</th>\n",
              "    </tr>\n",
              "  </thead>\n",
              "  <tbody>\n",
              "    <tr>\n",
              "      <th>0</th>\n",
              "      <td>1</td>\n",
              "      <td>8</td>\n",
              "      <td>c</td>\n",
              "      <td>3</td>\n",
              "      <td>Z</td>\n",
              "      <td>3</td>\n",
              "      <td>radiotherapy</td>\n",
              "      <td>R</td>\n",
              "      <td>F</td>\n",
              "      <td>2.0</td>\n",
              "      <td>31397</td>\n",
              "      <td>7.0</td>\n",
              "      <td>Emergency</td>\n",
              "      <td>Extreme</td>\n",
              "      <td>2</td>\n",
              "      <td>51-60</td>\n",
              "      <td>4911</td>\n",
              "      <td>0-10</td>\n",
              "    </tr>\n",
              "    <tr>\n",
              "      <th>1</th>\n",
              "      <td>2</td>\n",
              "      <td>2</td>\n",
              "      <td>c</td>\n",
              "      <td>5</td>\n",
              "      <td>Z</td>\n",
              "      <td>2</td>\n",
              "      <td>radiotherapy</td>\n",
              "      <td>S</td>\n",
              "      <td>F</td>\n",
              "      <td>2.0</td>\n",
              "      <td>31397</td>\n",
              "      <td>7.0</td>\n",
              "      <td>Trauma</td>\n",
              "      <td>Extreme</td>\n",
              "      <td>2</td>\n",
              "      <td>51-60</td>\n",
              "      <td>5954</td>\n",
              "      <td>41-50</td>\n",
              "    </tr>\n",
              "    <tr>\n",
              "      <th>2</th>\n",
              "      <td>3</td>\n",
              "      <td>10</td>\n",
              "      <td>e</td>\n",
              "      <td>1</td>\n",
              "      <td>X</td>\n",
              "      <td>2</td>\n",
              "      <td>anesthesia</td>\n",
              "      <td>S</td>\n",
              "      <td>E</td>\n",
              "      <td>2.0</td>\n",
              "      <td>31397</td>\n",
              "      <td>7.0</td>\n",
              "      <td>Trauma</td>\n",
              "      <td>Extreme</td>\n",
              "      <td>2</td>\n",
              "      <td>51-60</td>\n",
              "      <td>4745</td>\n",
              "      <td>31-40</td>\n",
              "    </tr>\n",
              "    <tr>\n",
              "      <th>3</th>\n",
              "      <td>4</td>\n",
              "      <td>26</td>\n",
              "      <td>b</td>\n",
              "      <td>2</td>\n",
              "      <td>Y</td>\n",
              "      <td>2</td>\n",
              "      <td>radiotherapy</td>\n",
              "      <td>R</td>\n",
              "      <td>D</td>\n",
              "      <td>2.0</td>\n",
              "      <td>31397</td>\n",
              "      <td>7.0</td>\n",
              "      <td>Trauma</td>\n",
              "      <td>Extreme</td>\n",
              "      <td>2</td>\n",
              "      <td>51-60</td>\n",
              "      <td>7272</td>\n",
              "      <td>41-50</td>\n",
              "    </tr>\n",
              "    <tr>\n",
              "      <th>4</th>\n",
              "      <td>5</td>\n",
              "      <td>26</td>\n",
              "      <td>b</td>\n",
              "      <td>2</td>\n",
              "      <td>Y</td>\n",
              "      <td>2</td>\n",
              "      <td>radiotherapy</td>\n",
              "      <td>S</td>\n",
              "      <td>D</td>\n",
              "      <td>2.0</td>\n",
              "      <td>31397</td>\n",
              "      <td>7.0</td>\n",
              "      <td>Trauma</td>\n",
              "      <td>Extreme</td>\n",
              "      <td>2</td>\n",
              "      <td>51-60</td>\n",
              "      <td>5558</td>\n",
              "      <td>41-50</td>\n",
              "    </tr>\n",
              "  </tbody>\n",
              "</table>\n",
              "</div>"
            ],
            "text/plain": [
              "   case_id  hospital_code hospital_type_code  city_code_hospital  \\\n",
              "0        1              8                  c                   3   \n",
              "1        2              2                  c                   5   \n",
              "2        3             10                  e                   1   \n",
              "3        4             26                  b                   2   \n",
              "4        5             26                  b                   2   \n",
              "\n",
              "  hospital_region_code  available_extra_rooms_in_hospital    department  \\\n",
              "0                    Z                                  3  radiotherapy   \n",
              "1                    Z                                  2  radiotherapy   \n",
              "2                    X                                  2    anesthesia   \n",
              "3                    Y                                  2  radiotherapy   \n",
              "4                    Y                                  2  radiotherapy   \n",
              "\n",
              "  ward_type ward_facility_code  bed_grade  patientid  city_code_patient  \\\n",
              "0         R                  F        2.0      31397                7.0   \n",
              "1         S                  F        2.0      31397                7.0   \n",
              "2         S                  E        2.0      31397                7.0   \n",
              "3         R                  D        2.0      31397                7.0   \n",
              "4         S                  D        2.0      31397                7.0   \n",
              "\n",
              "  type_of_admission severity_of_illness  visitors_with_patient    age  \\\n",
              "0         Emergency             Extreme                      2  51-60   \n",
              "1            Trauma             Extreme                      2  51-60   \n",
              "2            Trauma             Extreme                      2  51-60   \n",
              "3            Trauma             Extreme                      2  51-60   \n",
              "4            Trauma             Extreme                      2  51-60   \n",
              "\n",
              "   admission_deposit   stay  \n",
              "0               4911   0-10  \n",
              "1               5954  41-50  \n",
              "2               4745  31-40  \n",
              "3               7272  41-50  \n",
              "4               5558  41-50  "
            ]
          },
          "execution_count": 64,
          "metadata": {},
          "output_type": "execute_result"
        }
      ],
      "source": [
        "df.head()"
      ]
    },
    {
      "cell_type": "code",
      "execution_count": 65,
      "id": "11aff3ba",
      "metadata": {
        "colab": {
          "base_uri": "https://localhost:8080/"
        },
        "id": "11aff3ba",
        "outputId": "bdbc8171-fc9a-438a-b68b-6651557fafd7"
      },
      "outputs": [
        {
          "name": "stdout",
          "output_type": "stream",
          "text": [
            "<class 'pandas.core.frame.DataFrame'>\n",
            "RangeIndex: 318438 entries, 0 to 318437\n",
            "Data columns (total 18 columns):\n",
            " #   Column                             Non-Null Count   Dtype  \n",
            "---  ------                             --------------   -----  \n",
            " 0   case_id                            318438 non-null  int64  \n",
            " 1   hospital_code                      318438 non-null  int64  \n",
            " 2   hospital_type_code                 318438 non-null  object \n",
            " 3   city_code_hospital                 318438 non-null  int64  \n",
            " 4   hospital_region_code               318438 non-null  object \n",
            " 5   available_extra_rooms_in_hospital  318438 non-null  int64  \n",
            " 6   department                         318438 non-null  object \n",
            " 7   ward_type                          318438 non-null  object \n",
            " 8   ward_facility_code                 318438 non-null  object \n",
            " 9   bed_grade                          318325 non-null  float64\n",
            " 10  patientid                          318438 non-null  int64  \n",
            " 11  city_code_patient                  313906 non-null  float64\n",
            " 12  type_of_admission                  318438 non-null  object \n",
            " 13  severity_of_illness                318438 non-null  object \n",
            " 14  visitors_with_patient              318438 non-null  int64  \n",
            " 15  age                                318438 non-null  object \n",
            " 16  admission_deposit                  318438 non-null  int64  \n",
            " 17  stay                               318438 non-null  object \n",
            "dtypes: float64(2), int64(7), object(9)\n",
            "memory usage: 43.7+ MB\n"
          ]
        }
      ],
      "source": [
        "df.info()"
      ]
    },
    {
      "cell_type": "markdown",
      "id": "13a1284f",
      "metadata": {
        "id": "13a1284f"
      },
      "source": [
        "- There are total 318438 entries\n",
        "- Dataset contains mixed data types ie. float64(x2), int64(x7), object(x9)\n",
        "- bed-grade and city_code_patient columns contain missing values"
      ]
    },
    {
      "cell_type": "code",
      "execution_count": 66,
      "id": "0440cfef",
      "metadata": {
        "colab": {
          "base_uri": "https://localhost:8080/",
          "height": 300
        },
        "id": "0440cfef",
        "outputId": "61c759f9-dc18-4080-f2d5-9b5916b19c41"
      },
      "outputs": [
        {
          "data": {
            "text/html": [
              "<div>\n",
              "<style scoped>\n",
              "    .dataframe tbody tr th:only-of-type {\n",
              "        vertical-align: middle;\n",
              "    }\n",
              "\n",
              "    .dataframe tbody tr th {\n",
              "        vertical-align: top;\n",
              "    }\n",
              "\n",
              "    .dataframe thead th {\n",
              "        text-align: right;\n",
              "    }\n",
              "</style>\n",
              "<table border=\"1\" class=\"dataframe\">\n",
              "  <thead>\n",
              "    <tr style=\"text-align: right;\">\n",
              "      <th></th>\n",
              "      <th>available_extra_rooms_in_hospital</th>\n",
              "      <th>visitors_with_patient</th>\n",
              "      <th>admission_deposit</th>\n",
              "    </tr>\n",
              "  </thead>\n",
              "  <tbody>\n",
              "    <tr>\n",
              "      <th>count</th>\n",
              "      <td>318438.000000</td>\n",
              "      <td>318438.000000</td>\n",
              "      <td>318438.000000</td>\n",
              "    </tr>\n",
              "    <tr>\n",
              "      <th>mean</th>\n",
              "      <td>3.197627</td>\n",
              "      <td>3.284099</td>\n",
              "      <td>4880.749392</td>\n",
              "    </tr>\n",
              "    <tr>\n",
              "      <th>std</th>\n",
              "      <td>1.168171</td>\n",
              "      <td>1.764061</td>\n",
              "      <td>1086.776254</td>\n",
              "    </tr>\n",
              "    <tr>\n",
              "      <th>min</th>\n",
              "      <td>0.000000</td>\n",
              "      <td>0.000000</td>\n",
              "      <td>1800.000000</td>\n",
              "    </tr>\n",
              "    <tr>\n",
              "      <th>25%</th>\n",
              "      <td>2.000000</td>\n",
              "      <td>2.000000</td>\n",
              "      <td>4186.000000</td>\n",
              "    </tr>\n",
              "    <tr>\n",
              "      <th>50%</th>\n",
              "      <td>3.000000</td>\n",
              "      <td>3.000000</td>\n",
              "      <td>4741.000000</td>\n",
              "    </tr>\n",
              "    <tr>\n",
              "      <th>75%</th>\n",
              "      <td>4.000000</td>\n",
              "      <td>4.000000</td>\n",
              "      <td>5409.000000</td>\n",
              "    </tr>\n",
              "    <tr>\n",
              "      <th>max</th>\n",
              "      <td>24.000000</td>\n",
              "      <td>32.000000</td>\n",
              "      <td>11008.000000</td>\n",
              "    </tr>\n",
              "  </tbody>\n",
              "</table>\n",
              "</div>"
            ],
            "text/plain": [
              "       available_extra_rooms_in_hospital  visitors_with_patient  \\\n",
              "count                      318438.000000          318438.000000   \n",
              "mean                            3.197627               3.284099   \n",
              "std                             1.168171               1.764061   \n",
              "min                             0.000000               0.000000   \n",
              "25%                             2.000000               2.000000   \n",
              "50%                             3.000000               3.000000   \n",
              "75%                             4.000000               4.000000   \n",
              "max                            24.000000              32.000000   \n",
              "\n",
              "       admission_deposit  \n",
              "count      318438.000000  \n",
              "mean         4880.749392  \n",
              "std          1086.776254  \n",
              "min          1800.000000  \n",
              "25%          4186.000000  \n",
              "50%          4741.000000  \n",
              "75%          5409.000000  \n",
              "max         11008.000000  "
            ]
          },
          "execution_count": 66,
          "metadata": {},
          "output_type": "execute_result"
        }
      ],
      "source": [
        "df[['available_extra_rooms_in_hospital', 'visitors_with_patient', 'admission_deposit']].describe()"
      ]
    },
    {
      "cell_type": "markdown",
      "id": "1babfc5d",
      "metadata": {
        "id": "1babfc5d"
      },
      "source": [
        "- Running .describe() method on caseID and patientID columns does not make much sense even though they are numberical columns. Hence we have selected 3 particular columns.\n",
        "- On an average there are 3 extra rooms are available in the hospital. Minimum O and maximum 24 extra rooms are available\n",
        "- There is a patient with 32 visitors accompanying him. It is the highest number of visitors among all. When we see it on average scale, a patient is accompanied with 3 visitors. \n",
        "- Highest deposit paid for admission is 11008 INR"
      ]
    },
    {
      "cell_type": "code",
      "execution_count": 67,
      "id": "1e6989e1",
      "metadata": {
        "colab": {
          "base_uri": "https://localhost:8080/",
          "height": 175
        },
        "id": "1e6989e1",
        "outputId": "dca918c2-0e94-43b0-c41e-6c4c622ddba3"
      },
      "outputs": [
        {
          "data": {
            "text/html": [
              "<div>\n",
              "<style scoped>\n",
              "    .dataframe tbody tr th:only-of-type {\n",
              "        vertical-align: middle;\n",
              "    }\n",
              "\n",
              "    .dataframe tbody tr th {\n",
              "        vertical-align: top;\n",
              "    }\n",
              "\n",
              "    .dataframe thead th {\n",
              "        text-align: right;\n",
              "    }\n",
              "</style>\n",
              "<table border=\"1\" class=\"dataframe\">\n",
              "  <thead>\n",
              "    <tr style=\"text-align: right;\">\n",
              "      <th></th>\n",
              "      <th>hospital_type_code</th>\n",
              "      <th>hospital_region_code</th>\n",
              "      <th>department</th>\n",
              "      <th>ward_type</th>\n",
              "      <th>ward_facility_code</th>\n",
              "      <th>type_of_admission</th>\n",
              "      <th>severity_of_illness</th>\n",
              "      <th>age</th>\n",
              "      <th>stay</th>\n",
              "    </tr>\n",
              "  </thead>\n",
              "  <tbody>\n",
              "    <tr>\n",
              "      <th>count</th>\n",
              "      <td>318438</td>\n",
              "      <td>318438</td>\n",
              "      <td>318438</td>\n",
              "      <td>318438</td>\n",
              "      <td>318438</td>\n",
              "      <td>318438</td>\n",
              "      <td>318438</td>\n",
              "      <td>318438</td>\n",
              "      <td>318438</td>\n",
              "    </tr>\n",
              "    <tr>\n",
              "      <th>unique</th>\n",
              "      <td>7</td>\n",
              "      <td>3</td>\n",
              "      <td>5</td>\n",
              "      <td>6</td>\n",
              "      <td>6</td>\n",
              "      <td>3</td>\n",
              "      <td>3</td>\n",
              "      <td>10</td>\n",
              "      <td>11</td>\n",
              "    </tr>\n",
              "    <tr>\n",
              "      <th>top</th>\n",
              "      <td>a</td>\n",
              "      <td>X</td>\n",
              "      <td>gynecology</td>\n",
              "      <td>R</td>\n",
              "      <td>F</td>\n",
              "      <td>Trauma</td>\n",
              "      <td>Moderate</td>\n",
              "      <td>41-50</td>\n",
              "      <td>21-30</td>\n",
              "    </tr>\n",
              "    <tr>\n",
              "      <th>freq</th>\n",
              "      <td>143425</td>\n",
              "      <td>133336</td>\n",
              "      <td>249486</td>\n",
              "      <td>127947</td>\n",
              "      <td>112753</td>\n",
              "      <td>152261</td>\n",
              "      <td>175843</td>\n",
              "      <td>63749</td>\n",
              "      <td>87491</td>\n",
              "    </tr>\n",
              "  </tbody>\n",
              "</table>\n",
              "</div>"
            ],
            "text/plain": [
              "       hospital_type_code hospital_region_code  department ward_type  \\\n",
              "count              318438               318438      318438    318438   \n",
              "unique                  7                    3           5         6   \n",
              "top                     a                    X  gynecology         R   \n",
              "freq               143425               133336      249486    127947   \n",
              "\n",
              "       ward_facility_code type_of_admission severity_of_illness     age  \\\n",
              "count              318438            318438              318438  318438   \n",
              "unique                  6                 3                   3      10   \n",
              "top                     F            Trauma            Moderate   41-50   \n",
              "freq               112753            152261              175843   63749   \n",
              "\n",
              "          stay  \n",
              "count   318438  \n",
              "unique      11  \n",
              "top      21-30  \n",
              "freq     87491  "
            ]
          },
          "execution_count": 67,
          "metadata": {},
          "output_type": "execute_result"
        }
      ],
      "source": [
        "df.describe(include='O')"
      ]
    },
    {
      "cell_type": "markdown",
      "id": "d4cbfd41",
      "metadata": {
        "id": "d4cbfd41"
      },
      "source": [
        "- A significant portion of patients are seen in the Gynecology department.\n",
        "- Many patients exhibit signs of trauma.\n",
        "- The majority of patients admitted have moderate levels of illness.\n",
        "- The age group with the highest representation among patients is 41-50 years old."
      ]
    },
    {
      "cell_type": "code",
      "execution_count": 68,
      "id": "426a4fdf",
      "metadata": {
        "colab": {
          "base_uri": "https://localhost:8080/"
        },
        "id": "426a4fdf",
        "outputId": "bf938226-7423-4ec8-f0af-7bc0c65e824b"
      },
      "outputs": [
        {
          "data": {
            "text/plain": [
              "0"
            ]
          },
          "execution_count": 68,
          "metadata": {},
          "output_type": "execute_result"
        }
      ],
      "source": [
        "df.duplicated().sum()"
      ]
    },
    {
      "cell_type": "markdown",
      "id": "46caf910",
      "metadata": {
        "id": "46caf910"
      },
      "source": [
        "There are no duplicates in the dataset"
      ]
    },
    {
      "cell_type": "markdown",
      "id": "1703092f",
      "metadata": {
        "id": "1703092f"
      },
      "source": [
        "# Exploratory Data Analysis"
      ]
    },
    {
      "cell_type": "markdown",
      "id": "35df813a",
      "metadata": {},
      "source": [
        "## Univariate Analysis"
      ]
    },
    {
      "cell_type": "markdown",
      "id": "c442cb47",
      "metadata": {
        "id": "c442cb47"
      },
      "source": [
        "### Uniques values in each categorical column"
      ]
    },
    {
      "cell_type": "code",
      "execution_count": 69,
      "id": "2c2f4e35",
      "metadata": {
        "colab": {
          "base_uri": "https://localhost:8080/"
        },
        "id": "2c2f4e35",
        "outputId": "0c3f625c-a736-4d7f-a6f0-d32f5aa0148e"
      },
      "outputs": [
        {
          "name": "stdout",
          "output_type": "stream",
          "text": [
            "Unique values in 'hospital_type_code' column are\n",
            "['c', 'e', 'b', 'a', 'f', 'd', 'g']\n",
            "Number of unique values: 7\n",
            "=================================================================================\n",
            "Unique values in 'hospital_region_code' column are\n",
            "['Z', 'X', 'Y']\n",
            "Number of unique values: 3\n",
            "=================================================================================\n",
            "Unique values in 'department' column are\n",
            "['radiotherapy', 'anesthesia', 'gynecology', 'TB & Chest disease', 'surgery']\n",
            "Number of unique values: 5\n",
            "=================================================================================\n",
            "Unique values in 'ward_type' column are\n",
            "['R', 'S', 'Q', 'P', 'T', 'U']\n",
            "Number of unique values: 6\n",
            "=================================================================================\n",
            "Unique values in 'ward_facility_code' column are\n",
            "['F', 'E', 'D', 'B', 'A', 'C']\n",
            "Number of unique values: 6\n",
            "=================================================================================\n",
            "Unique values in 'type_of_admission' column are\n",
            "['Emergency', 'Trauma', 'Urgent']\n",
            "Number of unique values: 3\n",
            "=================================================================================\n",
            "Unique values in 'severity_of_illness' column are\n",
            "['Extreme', 'Moderate', 'Minor']\n",
            "Number of unique values: 3\n",
            "=================================================================================\n",
            "Unique values in 'age' column are\n",
            "['51-60', '71-80', '31-40', '41-50', '81-90', '61-70', '21-30', 'Nov-20', '0-10', '91-100']\n",
            "Number of unique values: 10\n",
            "=================================================================================\n",
            "Unique values in 'stay' column are\n",
            "['0-10', '41-50', '31-40', 'Nov-20', '51-60', '21-30', '71-80', 'More than 100 Days', '81-90', '61-70', '91-100']\n",
            "Number of unique values: 11\n",
            "=================================================================================\n"
          ]
        }
      ],
      "source": [
        "for column in df:\n",
        "    if df[column].dtype=='object':\n",
        "        print('Unique values in \\'{}\\' column are'.format(column))\n",
        "        unique=list(df[column].unique())\n",
        "        print(unique)\n",
        "        print('Number of unique values: {}'.format(len(unique)))\n",
        "        print('=================================================================================')"
      ]
    },
    {
      "cell_type": "markdown",
      "id": "fN1YHrVV8BiC",
      "metadata": {
        "id": "fN1YHrVV8BiC"
      },
      "source": [
        "Even though, hospital_code and city_code_hospital contain numeric values, they can be regarded as categorical values which will be repeated in the datasets in respective columns"
      ]
    },
    {
      "cell_type": "markdown",
      "id": "3e674b13",
      "metadata": {
        "id": "3e674b13"
      },
      "source": [
        "### Value counts in each categorical column"
      ]
    },
    {
      "cell_type": "code",
      "execution_count": 70,
      "id": "x6uaJRBz8u9j",
      "metadata": {
        "colab": {
          "base_uri": "https://localhost:8080/",
          "height": 357
        },
        "id": "x6uaJRBz8u9j",
        "outputId": "c46e8fc9-15c8-4a33-af7a-8528eff4b280"
      },
      "outputs": [
        {
          "data": {
            "text/html": [
              "<div>\n",
              "<style scoped>\n",
              "    .dataframe tbody tr th:only-of-type {\n",
              "        vertical-align: middle;\n",
              "    }\n",
              "\n",
              "    .dataframe tbody tr th {\n",
              "        vertical-align: top;\n",
              "    }\n",
              "\n",
              "    .dataframe thead th {\n",
              "        text-align: right;\n",
              "    }\n",
              "</style>\n",
              "<table border=\"1\" class=\"dataframe\">\n",
              "  <thead>\n",
              "    <tr style=\"text-align: right;\">\n",
              "      <th></th>\n",
              "      <th>case_id</th>\n",
              "      <th>hospital_code</th>\n",
              "      <th>hospital_type_code</th>\n",
              "      <th>city_code_hospital</th>\n",
              "      <th>hospital_region_code</th>\n",
              "      <th>available_extra_rooms_in_hospital</th>\n",
              "      <th>department</th>\n",
              "      <th>ward_type</th>\n",
              "      <th>ward_facility_code</th>\n",
              "      <th>bed_grade</th>\n",
              "      <th>patientid</th>\n",
              "      <th>city_code_patient</th>\n",
              "      <th>type_of_admission</th>\n",
              "      <th>severity_of_illness</th>\n",
              "      <th>visitors_with_patient</th>\n",
              "      <th>age</th>\n",
              "      <th>admission_deposit</th>\n",
              "      <th>stay</th>\n",
              "    </tr>\n",
              "  </thead>\n",
              "  <tbody>\n",
              "    <tr>\n",
              "      <th>0</th>\n",
              "      <td>1</td>\n",
              "      <td>8</td>\n",
              "      <td>c</td>\n",
              "      <td>3</td>\n",
              "      <td>Z</td>\n",
              "      <td>3</td>\n",
              "      <td>radiotherapy</td>\n",
              "      <td>R</td>\n",
              "      <td>F</td>\n",
              "      <td>2.0</td>\n",
              "      <td>31397</td>\n",
              "      <td>7.0</td>\n",
              "      <td>Emergency</td>\n",
              "      <td>Extreme</td>\n",
              "      <td>2</td>\n",
              "      <td>51-60</td>\n",
              "      <td>4911</td>\n",
              "      <td>0-10</td>\n",
              "    </tr>\n",
              "    <tr>\n",
              "      <th>1</th>\n",
              "      <td>2</td>\n",
              "      <td>2</td>\n",
              "      <td>c</td>\n",
              "      <td>5</td>\n",
              "      <td>Z</td>\n",
              "      <td>2</td>\n",
              "      <td>radiotherapy</td>\n",
              "      <td>S</td>\n",
              "      <td>F</td>\n",
              "      <td>2.0</td>\n",
              "      <td>31397</td>\n",
              "      <td>7.0</td>\n",
              "      <td>Trauma</td>\n",
              "      <td>Extreme</td>\n",
              "      <td>2</td>\n",
              "      <td>51-60</td>\n",
              "      <td>5954</td>\n",
              "      <td>41-50</td>\n",
              "    </tr>\n",
              "    <tr>\n",
              "      <th>2</th>\n",
              "      <td>3</td>\n",
              "      <td>10</td>\n",
              "      <td>e</td>\n",
              "      <td>1</td>\n",
              "      <td>X</td>\n",
              "      <td>2</td>\n",
              "      <td>anesthesia</td>\n",
              "      <td>S</td>\n",
              "      <td>E</td>\n",
              "      <td>2.0</td>\n",
              "      <td>31397</td>\n",
              "      <td>7.0</td>\n",
              "      <td>Trauma</td>\n",
              "      <td>Extreme</td>\n",
              "      <td>2</td>\n",
              "      <td>51-60</td>\n",
              "      <td>4745</td>\n",
              "      <td>31-40</td>\n",
              "    </tr>\n",
              "    <tr>\n",
              "      <th>3</th>\n",
              "      <td>4</td>\n",
              "      <td>26</td>\n",
              "      <td>b</td>\n",
              "      <td>2</td>\n",
              "      <td>Y</td>\n",
              "      <td>2</td>\n",
              "      <td>radiotherapy</td>\n",
              "      <td>R</td>\n",
              "      <td>D</td>\n",
              "      <td>2.0</td>\n",
              "      <td>31397</td>\n",
              "      <td>7.0</td>\n",
              "      <td>Trauma</td>\n",
              "      <td>Extreme</td>\n",
              "      <td>2</td>\n",
              "      <td>51-60</td>\n",
              "      <td>7272</td>\n",
              "      <td>41-50</td>\n",
              "    </tr>\n",
              "    <tr>\n",
              "      <th>4</th>\n",
              "      <td>5</td>\n",
              "      <td>26</td>\n",
              "      <td>b</td>\n",
              "      <td>2</td>\n",
              "      <td>Y</td>\n",
              "      <td>2</td>\n",
              "      <td>radiotherapy</td>\n",
              "      <td>S</td>\n",
              "      <td>D</td>\n",
              "      <td>2.0</td>\n",
              "      <td>31397</td>\n",
              "      <td>7.0</td>\n",
              "      <td>Trauma</td>\n",
              "      <td>Extreme</td>\n",
              "      <td>2</td>\n",
              "      <td>51-60</td>\n",
              "      <td>5558</td>\n",
              "      <td>41-50</td>\n",
              "    </tr>\n",
              "  </tbody>\n",
              "</table>\n",
              "</div>"
            ],
            "text/plain": [
              "   case_id  hospital_code hospital_type_code  city_code_hospital  \\\n",
              "0        1              8                  c                   3   \n",
              "1        2              2                  c                   5   \n",
              "2        3             10                  e                   1   \n",
              "3        4             26                  b                   2   \n",
              "4        5             26                  b                   2   \n",
              "\n",
              "  hospital_region_code  available_extra_rooms_in_hospital    department  \\\n",
              "0                    Z                                  3  radiotherapy   \n",
              "1                    Z                                  2  radiotherapy   \n",
              "2                    X                                  2    anesthesia   \n",
              "3                    Y                                  2  radiotherapy   \n",
              "4                    Y                                  2  radiotherapy   \n",
              "\n",
              "  ward_type ward_facility_code  bed_grade  patientid  city_code_patient  \\\n",
              "0         R                  F        2.0      31397                7.0   \n",
              "1         S                  F        2.0      31397                7.0   \n",
              "2         S                  E        2.0      31397                7.0   \n",
              "3         R                  D        2.0      31397                7.0   \n",
              "4         S                  D        2.0      31397                7.0   \n",
              "\n",
              "  type_of_admission severity_of_illness  visitors_with_patient    age  \\\n",
              "0         Emergency             Extreme                      2  51-60   \n",
              "1            Trauma             Extreme                      2  51-60   \n",
              "2            Trauma             Extreme                      2  51-60   \n",
              "3            Trauma             Extreme                      2  51-60   \n",
              "4            Trauma             Extreme                      2  51-60   \n",
              "\n",
              "   admission_deposit   stay  \n",
              "0               4911   0-10  \n",
              "1               5954  41-50  \n",
              "2               4745  31-40  \n",
              "3               7272  41-50  \n",
              "4               5558  41-50  "
            ]
          },
          "execution_count": 70,
          "metadata": {},
          "output_type": "execute_result"
        }
      ],
      "source": [
        "df.head()"
      ]
    },
    {
      "cell_type": "code",
      "execution_count": 71,
      "id": "9520c640",
      "metadata": {
        "colab": {
          "base_uri": "https://localhost:8080/",
          "height": 1000
        },
        "id": "9520c640",
        "outputId": "587d48c3-5dfb-4358-f924-31b706332f27"
      },
      "outputs": [
        {
          "data": {
            "image/png": "[encoded data removed]",
            "text/plain": [
              "<Figure size 1080x1440 with 10 Axes>"
            ]
          },
          "metadata": {
            "needs_background": "light"
          },
          "output_type": "display_data"
        }
      ],
      "source": [
        "fig, ax= plt.subplots(5,2, figsize=(15,20))\n",
        "columns=['hospital_code', 'hospital_type_code', 'city_code_hospital', 'hospital_region_code', 'department', 'ward_type', 'ward_facility_code', 'type_of_admission', 'severity_of_illness', 'stay']\n",
        "\n",
        "for column, ax in zip(columns, ax.flatten()):\n",
        "    #if df[column].dtype=='object':\n",
        "      sns.countplot(column,data=df, ax=ax);\n",
        "\n",
        "      if column=='department' or column=='stay':\n",
        "          ax.set_xticklabels(labels=df[column].unique(), rotation=90)\n",
        "plt.tight_layout()"
      ]
    },
    {
      "cell_type": "markdown",
      "id": "bd1a66e7",
      "metadata": {
        "id": "bd1a66e7"
      },
      "source": [
        "These countplots will be very crucial in preparing training data for the model. As we can already see there are lot of imbalanced between categories of almost all the features. Stratified Sampling of the data becomes imperative before training the model. Otherwise, the categories with highest proportion will bring bias and hence will not be accurate."
      ]
    },
    {
      "cell_type": "code",
      "execution_count": 72,
      "id": "9c23cdcb",
      "metadata": {
        "colab": {
          "base_uri": "https://localhost:8080/",
          "height": 390
        },
        "id": "9c23cdcb",
        "outputId": "233bfa14-6432-4383-8f67-c35d320a27e4"
      },
      "outputs": [
        {
          "data": {
            "image/png": "[encoded data removed]",
            "text/plain": [
              "<Figure size 1440x720 with 4 Axes>"
            ]
          },
          "metadata": {
            "needs_background": "light"
          },
          "output_type": "display_data"
        }
      ],
      "source": [
        "df[['available_extra_rooms_in_hospital','visitors_with_patient', 'admission_deposit']].hist(figsize=(20, 10));"
      ]
    },
    {
      "cell_type": "markdown",
      "id": "3QOn3PDB-IyV",
      "metadata": {
        "id": "3QOn3PDB-IyV"
      },
      "source": [
        "- Number of available extra rooms are distibuted with right skewed nature. Most number of available rooms lie in between 0 to 5\n",
        "- Distribution of admission_deposit looks normal with it mean around 4966 and standard deviation of 1047\n",
        "- On the contrary, the distribution of visitors_with_patient is highly right skewed. It means, number of visitors accompanying patients is more between 0 to 6 but the numbers also goes till 32"
      ]
    },
    {
      "cell_type": "code",
      "execution_count": 73,
      "id": "3f9fc664",
      "metadata": {
        "colab": {
          "base_uri": "https://localhost:8080/",
          "height": 578
        },
        "id": "3f9fc664",
        "outputId": "4fc9fc23-efff-46dd-9495-f42ea8985071"
      },
      "outputs": [
        {
          "data": {
            "image/png": "[encoded data removed]",
            "text/plain": [
              "<Figure size 1080x360 with 3 Axes>"
            ]
          },
          "metadata": {
            "needs_background": "light"
          },
          "output_type": "display_data"
        }
      ],
      "source": [
        "fig, ax= plt.subplots(1,3, figsize=(15, 5))\n",
        "hist_cols= ['available_extra_rooms_in_hospital','visitors_with_patient', 'admission_deposit']\n",
        "\n",
        "for col, ax in zip(hist_cols, ax.flatten()):\n",
        "    sns.boxplot(y=col, data=df, ax=ax)\n",
        "    ax.set_title(col.title(), fontsize=15);\n",
        "\n",
        "plt.tight_layout()"
      ]
    },
    {
      "cell_type": "markdown",
      "id": "60268c0f",
      "metadata": {
        "id": "60268c0f"
      },
      "source": [
        "##### Visitors_with_patient\n",
        "- Column for number of visitors with patient contain outliers. Median value lies at 3.\n",
        "\n",
        "##### Admission_deposit\n",
        "- Mean admission deposit amount is 4880.75 and median is 4741. \n",
        "- 'admission_deposit' column also contains lot of outliers"
      ]
    },
    {
      "cell_type": "markdown",
      "id": "88578a1a",
      "metadata": {},
      "source": [
        "## Bivariate Analysis"
      ]
    },
    {
      "cell_type": "code",
      "execution_count": 74,
      "id": "0bf02089",
      "metadata": {},
      "outputs": [
        {
          "data": {
            "image/png": "[encoded data removed]",
            "text/plain": [
              "<Figure size 720x1440 with 7 Axes>"
            ]
          },
          "metadata": {
            "needs_background": "light"
          },
          "output_type": "display_data"
        }
      ],
      "source": [
        "fig, ax= plt.subplots(7, 1 , figsize=(10, 20))\n",
        "hue_cols=['hospital_type_code', 'hospital_region_code', 'department', 'ward_type', 'ward_facility_code', 'type_of_admission', 'severity_of_illness']\n",
        "\n",
        "for col, ax in zip(hue_cols, ax.flatten()):\n",
        "    sns.countplot(x='stay', hue=col, data=df, ax=ax)\n",
        "    ax.set_title(col.title(), fontsize=15)\n",
        "plt.tight_layout()\n"
      ]
    },
    {
      "cell_type": "code",
      "execution_count": 75,
      "id": "e96e442f",
      "metadata": {},
      "outputs": [],
      "source": [
        "### WRITE INSIHTS HERE"
      ]
    },
    {
      "cell_type": "markdown",
      "id": "bac474a9",
      "metadata": {},
      "source": [
        "## Multivariate Analysis"
      ]
    },
    {
      "cell_type": "code",
      "execution_count": 76,
      "id": "ce149ff1",
      "metadata": {
        "colab": {
          "base_uri": "https://localhost:8080/",
          "height": 332
        },
        "id": "ce149ff1",
        "outputId": "15bc56c5-3e4d-4464-d1a6-b5bad0293516"
      },
      "outputs": [
        {
          "data": {
            "text/html": [
              "<div>\n",
              "<style scoped>\n",
              "    .dataframe tbody tr th:only-of-type {\n",
              "        vertical-align: middle;\n",
              "    }\n",
              "\n",
              "    .dataframe tbody tr th {\n",
              "        vertical-align: top;\n",
              "    }\n",
              "\n",
              "    .dataframe thead th {\n",
              "        text-align: right;\n",
              "    }\n",
              "</style>\n",
              "<table border=\"1\" class=\"dataframe\">\n",
              "  <thead>\n",
              "    <tr style=\"text-align: right;\">\n",
              "      <th></th>\n",
              "      <th>case_id</th>\n",
              "      <th>hospital_code</th>\n",
              "      <th>city_code_hospital</th>\n",
              "      <th>available_extra_rooms_in_hospital</th>\n",
              "      <th>bed_grade</th>\n",
              "      <th>patientid</th>\n",
              "      <th>city_code_patient</th>\n",
              "      <th>visitors_with_patient</th>\n",
              "      <th>admission_deposit</th>\n",
              "    </tr>\n",
              "  </thead>\n",
              "  <tbody>\n",
              "    <tr>\n",
              "      <th>case_id</th>\n",
              "      <td>1.000000</td>\n",
              "      <td>-0.043023</td>\n",
              "      <td>-0.011352</td>\n",
              "      <td>0.042580</td>\n",
              "      <td>0.013702</td>\n",
              "      <td>-0.004150</td>\n",
              "      <td>0.065196</td>\n",
              "      <td>0.001309</td>\n",
              "      <td>-0.045972</td>\n",
              "    </tr>\n",
              "    <tr>\n",
              "      <th>hospital_code</th>\n",
              "      <td>-0.043023</td>\n",
              "      <td>1.000000</td>\n",
              "      <td>0.128294</td>\n",
              "      <td>-0.059638</td>\n",
              "      <td>-0.013739</td>\n",
              "      <td>0.002291</td>\n",
              "      <td>-0.015530</td>\n",
              "      <td>-0.028500</td>\n",
              "      <td>0.045446</td>\n",
              "    </tr>\n",
              "    <tr>\n",
              "      <th>city_code_hospital</th>\n",
              "      <td>-0.011352</td>\n",
              "      <td>0.128294</td>\n",
              "      <td>1.000000</td>\n",
              "      <td>-0.045771</td>\n",
              "      <td>-0.049309</td>\n",
              "      <td>0.000750</td>\n",
              "      <td>-0.023988</td>\n",
              "      <td>0.018184</td>\n",
              "      <td>-0.034455</td>\n",
              "    </tr>\n",
              "    <tr>\n",
              "      <th>available_extra_rooms_in_hospital</th>\n",
              "      <td>0.042580</td>\n",
              "      <td>-0.059638</td>\n",
              "      <td>-0.045771</td>\n",
              "      <td>1.000000</td>\n",
              "      <td>-0.115868</td>\n",
              "      <td>0.000921</td>\n",
              "      <td>-0.009681</td>\n",
              "      <td>0.096714</td>\n",
              "      <td>-0.143739</td>\n",
              "    </tr>\n",
              "    <tr>\n",
              "      <th>bed_grade</th>\n",
              "      <td>0.013702</td>\n",
              "      <td>-0.013739</td>\n",
              "      <td>-0.049309</td>\n",
              "      <td>-0.115868</td>\n",
              "      <td>1.000000</td>\n",
              "      <td>0.001645</td>\n",
              "      <td>-0.008105</td>\n",
              "      <td>0.088945</td>\n",
              "      <td>0.073833</td>\n",
              "    </tr>\n",
              "    <tr>\n",
              "      <th>patientid</th>\n",
              "      <td>-0.004150</td>\n",
              "      <td>0.002291</td>\n",
              "      <td>0.000750</td>\n",
              "      <td>0.000921</td>\n",
              "      <td>0.001645</td>\n",
              "      <td>1.000000</td>\n",
              "      <td>0.002002</td>\n",
              "      <td>0.006889</td>\n",
              "      <td>-0.000877</td>\n",
              "    </tr>\n",
              "    <tr>\n",
              "      <th>city_code_patient</th>\n",
              "      <td>0.065196</td>\n",
              "      <td>-0.015530</td>\n",
              "      <td>-0.023988</td>\n",
              "      <td>-0.009681</td>\n",
              "      <td>-0.008105</td>\n",
              "      <td>0.002002</td>\n",
              "      <td>1.000000</td>\n",
              "      <td>-0.012074</td>\n",
              "      <td>0.025837</td>\n",
              "    </tr>\n",
              "    <tr>\n",
              "      <th>visitors_with_patient</th>\n",
              "      <td>0.001309</td>\n",
              "      <td>-0.028500</td>\n",
              "      <td>0.018184</td>\n",
              "      <td>0.096714</td>\n",
              "      <td>0.088945</td>\n",
              "      <td>0.006889</td>\n",
              "      <td>-0.012074</td>\n",
              "      <td>1.000000</td>\n",
              "      <td>-0.150358</td>\n",
              "    </tr>\n",
              "    <tr>\n",
              "      <th>admission_deposit</th>\n",
              "      <td>-0.045972</td>\n",
              "      <td>0.045446</td>\n",
              "      <td>-0.034455</td>\n",
              "      <td>-0.143739</td>\n",
              "      <td>0.073833</td>\n",
              "      <td>-0.000877</td>\n",
              "      <td>0.025837</td>\n",
              "      <td>-0.150358</td>\n",
              "      <td>1.000000</td>\n",
              "    </tr>\n",
              "  </tbody>\n",
              "</table>\n",
              "</div>"
            ],
            "text/plain": [
              "                                    case_id  hospital_code  \\\n",
              "case_id                            1.000000      -0.043023   \n",
              "hospital_code                     -0.043023       1.000000   \n",
              "city_code_hospital                -0.011352       0.128294   \n",
              "available_extra_rooms_in_hospital  0.042580      -0.059638   \n",
              "bed_grade                          0.013702      -0.013739   \n",
              "patientid                         -0.004150       0.002291   \n",
              "city_code_patient                  0.065196      -0.015530   \n",
              "visitors_with_patient              0.001309      -0.028500   \n",
              "admission_deposit                 -0.045972       0.045446   \n",
              "\n",
              "                                   city_code_hospital  \\\n",
              "case_id                                     -0.011352   \n",
              "hospital_code                                0.128294   \n",
              "city_code_hospital                           1.000000   \n",
              "available_extra_rooms_in_hospital           -0.045771   \n",
              "bed_grade                                   -0.049309   \n",
              "patientid                                    0.000750   \n",
              "city_code_patient                           -0.023988   \n",
              "visitors_with_patient                        0.018184   \n",
              "admission_deposit                           -0.034455   \n",
              "\n",
              "                                   available_extra_rooms_in_hospital  \\\n",
              "case_id                                                     0.042580   \n",
              "hospital_code                                              -0.059638   \n",
              "city_code_hospital                                         -0.045771   \n",
              "available_extra_rooms_in_hospital                           1.000000   \n",
              "bed_grade                                                  -0.115868   \n",
              "patientid                                                   0.000921   \n",
              "city_code_patient                                          -0.009681   \n",
              "visitors_with_patient                                       0.096714   \n",
              "admission_deposit                                          -0.143739   \n",
              "\n",
              "                                   bed_grade  patientid  city_code_patient  \\\n",
              "case_id                             0.013702  -0.004150           0.065196   \n",
              "hospital_code                      -0.013739   0.002291          -0.015530   \n",
              "city_code_hospital                 -0.049309   0.000750          -0.023988   \n",
              "available_extra_rooms_in_hospital  -0.115868   0.000921          -0.009681   \n",
              "bed_grade                           1.000000   0.001645          -0.008105   \n",
              "patientid                           0.001645   1.000000           0.002002   \n",
              "city_code_patient                  -0.008105   0.002002           1.000000   \n",
              "visitors_with_patient               0.088945   0.006889          -0.012074   \n",
              "admission_deposit                   0.073833  -0.000877           0.025837   \n",
              "\n",
              "                                   visitors_with_patient  admission_deposit  \n",
              "case_id                                         0.001309          -0.045972  \n",
              "hospital_code                                  -0.028500           0.045446  \n",
              "city_code_hospital                              0.018184          -0.034455  \n",
              "available_extra_rooms_in_hospital               0.096714          -0.143739  \n",
              "bed_grade                                       0.088945           0.073833  \n",
              "patientid                                       0.006889          -0.000877  \n",
              "city_code_patient                              -0.012074           0.025837  \n",
              "visitors_with_patient                           1.000000          -0.150358  \n",
              "admission_deposit                              -0.150358           1.000000  "
            ]
          },
          "execution_count": 76,
          "metadata": {},
          "output_type": "execute_result"
        }
      ],
      "source": [
        "#checking pearson's correlation\n",
        "df.corr()"
      ]
    },
    {
      "cell_type": "code",
      "execution_count": 77,
      "id": "9ec71c6a",
      "metadata": {
        "colab": {
          "base_uri": "https://localhost:8080/",
          "height": 648
        },
        "id": "9ec71c6a",
        "outputId": "0b803778-3dbd-44ca-9234-ff796f72fcec"
      },
      "outputs": [
        {
          "data": {
            "image/png": "[encoded data removed]",
            "text/plain": [
              "<Figure size 720x576 with 2 Axes>"
            ]
          },
          "metadata": {
            "needs_background": "light"
          },
          "output_type": "display_data"
        }
      ],
      "source": [
        "plt.figure(figsize=(10,8))\n",
        "sns.heatmap(df.corr(), annot=True, cmap='flare');"
      ]
    },
    {
      "cell_type": "markdown",
      "id": "1a6e1b76",
      "metadata": {
        "id": "1a6e1b76"
      },
      "source": [
        "- We have keep in mind that the pearson's correlation coefficient is measure of linear relationship between the variables. However, for non-linear, it might not be correct measure to look at the correlation.\n",
        "\n",
        "- As expected, the features are not strongly correlated with each other"
      ]
    },
    {
      "cell_type": "markdown",
      "id": "b5a4f458",
      "metadata": {
        "id": "b5a4f458"
      },
      "source": [
        "# Data Preprocessing"
      ]
    },
    {
      "cell_type": "code",
      "execution_count": 78,
      "id": "9e2706eb",
      "metadata": {
        "colab": {
          "base_uri": "https://localhost:8080/",
          "height": 211
        },
        "id": "9e2706eb",
        "outputId": "5557a3b8-4a41-421d-b38b-b74b12c654ba"
      },
      "outputs": [
        {
          "data": {
            "text/html": [
              "<div>\n",
              "<style scoped>\n",
              "    .dataframe tbody tr th:only-of-type {\n",
              "        vertical-align: middle;\n",
              "    }\n",
              "\n",
              "    .dataframe tbody tr th {\n",
              "        vertical-align: top;\n",
              "    }\n",
              "\n",
              "    .dataframe thead th {\n",
              "        text-align: right;\n",
              "    }\n",
              "</style>\n",
              "<table border=\"1\" class=\"dataframe\">\n",
              "  <thead>\n",
              "    <tr style=\"text-align: right;\">\n",
              "      <th></th>\n",
              "      <th>case_id</th>\n",
              "      <th>hospital_code</th>\n",
              "      <th>hospital_type_code</th>\n",
              "      <th>city_code_hospital</th>\n",
              "      <th>hospital_region_code</th>\n",
              "      <th>available_extra_rooms_in_hospital</th>\n",
              "      <th>department</th>\n",
              "      <th>ward_type</th>\n",
              "      <th>ward_facility_code</th>\n",
              "      <th>bed_grade</th>\n",
              "      <th>patientid</th>\n",
              "      <th>city_code_patient</th>\n",
              "      <th>type_of_admission</th>\n",
              "      <th>severity_of_illness</th>\n",
              "      <th>visitors_with_patient</th>\n",
              "      <th>age</th>\n",
              "      <th>admission_deposit</th>\n",
              "      <th>stay</th>\n",
              "    </tr>\n",
              "  </thead>\n",
              "  <tbody>\n",
              "    <tr>\n",
              "      <th>0</th>\n",
              "      <td>1</td>\n",
              "      <td>8</td>\n",
              "      <td>c</td>\n",
              "      <td>3</td>\n",
              "      <td>Z</td>\n",
              "      <td>3</td>\n",
              "      <td>radiotherapy</td>\n",
              "      <td>R</td>\n",
              "      <td>F</td>\n",
              "      <td>2.0</td>\n",
              "      <td>31397</td>\n",
              "      <td>7.0</td>\n",
              "      <td>Emergency</td>\n",
              "      <td>Extreme</td>\n",
              "      <td>2</td>\n",
              "      <td>51-60</td>\n",
              "      <td>4911</td>\n",
              "      <td>0-10</td>\n",
              "    </tr>\n",
              "    <tr>\n",
              "      <th>1</th>\n",
              "      <td>2</td>\n",
              "      <td>2</td>\n",
              "      <td>c</td>\n",
              "      <td>5</td>\n",
              "      <td>Z</td>\n",
              "      <td>2</td>\n",
              "      <td>radiotherapy</td>\n",
              "      <td>S</td>\n",
              "      <td>F</td>\n",
              "      <td>2.0</td>\n",
              "      <td>31397</td>\n",
              "      <td>7.0</td>\n",
              "      <td>Trauma</td>\n",
              "      <td>Extreme</td>\n",
              "      <td>2</td>\n",
              "      <td>51-60</td>\n",
              "      <td>5954</td>\n",
              "      <td>41-50</td>\n",
              "    </tr>\n",
              "  </tbody>\n",
              "</table>\n",
              "</div>"
            ],
            "text/plain": [
              "   case_id  hospital_code hospital_type_code  city_code_hospital  \\\n",
              "0        1              8                  c                   3   \n",
              "1        2              2                  c                   5   \n",
              "\n",
              "  hospital_region_code  available_extra_rooms_in_hospital    department  \\\n",
              "0                    Z                                  3  radiotherapy   \n",
              "1                    Z                                  2  radiotherapy   \n",
              "\n",
              "  ward_type ward_facility_code  bed_grade  patientid  city_code_patient  \\\n",
              "0         R                  F        2.0      31397                7.0   \n",
              "1         S                  F        2.0      31397                7.0   \n",
              "\n",
              "  type_of_admission severity_of_illness  visitors_with_patient    age  \\\n",
              "0         Emergency             Extreme                      2  51-60   \n",
              "1            Trauma             Extreme                      2  51-60   \n",
              "\n",
              "   admission_deposit   stay  \n",
              "0               4911   0-10  \n",
              "1               5954  41-50  "
            ]
          },
          "execution_count": 78,
          "metadata": {},
          "output_type": "execute_result"
        }
      ],
      "source": [
        "df.head(2)"
      ]
    },
    {
      "cell_type": "markdown",
      "id": "79f27f44",
      "metadata": {
        "id": "79f27f44"
      },
      "source": [
        "- From previous section, we have understood that the data is imbalanced with respect to both features and target. In such case if we sample data randomly, there is chance to introduce some bias in the final prediction. So, we will use statified sampling technique. \n",
        "\n",
        "- Let's assume that department is crucial feature affecting the duaration of stay. We have already that, for the department section, the amount of patients admitted to Gynacology department is much higher than other departments. \n",
        "\n",
        "- We want to ensure that the test set is representative of the various categories of departments in the whole dataset. We will use 'department' column to proportionally sample the data."
      ]
    },
    {
      "cell_type": "code",
      "execution_count": 79,
      "id": "90034277",
      "metadata": {
        "id": "90034277"
      },
      "outputs": [],
      "source": [
        "#instantiationg object for StratifiedShuffleSplit\n",
        "strata_split = StratifiedShuffleSplit(n_splits=1, test_size=0.2, random_state=42)\n",
        "\n",
        "for train_index, test_index in strata_split.split(df, df[\"department\"]):\n",
        "    strat_train_set = df.loc[train_index]\n",
        "    strat_test_set = df.loc[test_index]"
      ]
    },
    {
      "cell_type": "code",
      "execution_count": 80,
      "id": "fdca3d10",
      "metadata": {
        "colab": {
          "base_uri": "https://localhost:8080/"
        },
        "id": "fdca3d10",
        "outputId": "d8ce3ea7-444c-436b-88c3-1f5cce3dea75"
      },
      "outputs": [
        {
          "name": "stdout",
          "output_type": "stream",
          "text": [
            "df (318438, 18)\n",
            "train (254750, 18)\n",
            "test (63688, 18)\n"
          ]
        }
      ],
      "source": [
        "#checking data shapes\n",
        "print('df', df.shape)\n",
        "print('train', strat_train_set.shape)\n",
        "print('test', strat_test_set.shape)"
      ]
    },
    {
      "cell_type": "markdown",
      "id": "8680aab3",
      "metadata": {
        "id": "8680aab3"
      },
      "source": [
        "Let's cross check whether proportion of the departments remained constant or not?"
      ]
    },
    {
      "cell_type": "code",
      "execution_count": 81,
      "id": "0c0b9cb2",
      "metadata": {
        "colab": {
          "base_uri": "https://localhost:8080/"
        },
        "id": "0c0b9cb2",
        "outputId": "1ebd34fd-a9f8-45db-9542-c5a364a09fec"
      },
      "outputs": [
        {
          "data": {
            "text/plain": [
              "gynecology            0.783468\n",
              "anesthesia            0.093108\n",
              "radiotherapy          0.089550\n",
              "TB & Chest disease    0.030103\n",
              "surgery               0.003772\n",
              "Name: department, dtype: float64"
            ]
          },
          "execution_count": 81,
          "metadata": {},
          "output_type": "execute_result"
        }
      ],
      "source": [
        "#for orignal dataset\n",
        "df['department'].value_counts()/len(df)"
      ]
    },
    {
      "cell_type": "code",
      "execution_count": 82,
      "id": "8bee5470",
      "metadata": {
        "colab": {
          "base_uri": "https://localhost:8080/"
        },
        "id": "8bee5470",
        "outputId": "3ea70fcb-f782-4d78-9a14-130a20ef9afb"
      },
      "outputs": [
        {
          "data": {
            "text/plain": [
              "gynecology            0.783466\n",
              "anesthesia            0.093107\n",
              "radiotherapy          0.089551\n",
              "TB & Chest disease    0.030104\n",
              "surgery               0.003772\n",
              "Name: department, dtype: float64"
            ]
          },
          "execution_count": 82,
          "metadata": {},
          "output_type": "execute_result"
        }
      ],
      "source": [
        "#for shuffled data\n",
        "strat_train_set['department'].value_counts()/len(strat_train_set)"
      ]
    },
    {
      "cell_type": "markdown",
      "id": "bMrAQFElCp_Q",
      "metadata": {
        "id": "bMrAQFElCp_Q"
      },
      "source": [
        "The proportions of department wise entries are same for both original and shuffled data which indicates that the data is correctly splitted into train and test sets"
      ]
    },
    {
      "cell_type": "markdown",
      "id": "aff16334",
      "metadata": {
        "id": "aff16334"
      },
      "source": [
        "## Removing ID columns"
      ]
    },
    {
      "cell_type": "markdown",
      "id": "79213430",
      "metadata": {
        "id": "79213430"
      },
      "source": [
        "ID columns are generally unique values assgined to objects and people. They are not considered in affecting the target variable. So lets remove case_id and patientid columns from the dataset. Otherwise they are increasing the dimentionality of the dataset for no reason."
      ]
    },
    {
      "cell_type": "code",
      "execution_count": 83,
      "id": "1fe76d99",
      "metadata": {
        "id": "1fe76d99"
      },
      "outputs": [],
      "source": [
        "# train\n",
        "strat_train_set.drop(columns=['case_id', 'patientid'], inplace=True)\n",
        "# test\n",
        "strat_test_set.drop(columns=['case_id', 'patientid'], inplace=True)"
      ]
    },
    {
      "cell_type": "markdown",
      "id": "110c2d3c",
      "metadata": {
        "id": "110c2d3c"
      },
      "source": [
        "## Missing Values"
      ]
    },
    {
      "cell_type": "code",
      "execution_count": 84,
      "id": "9961e146",
      "metadata": {
        "colab": {
          "base_uri": "https://localhost:8080/"
        },
        "id": "9961e146",
        "outputId": "5d04c99a-2dc1-451d-8cce-9e371510996f"
      },
      "outputs": [
        {
          "data": {
            "text/plain": [
              "hospital_code                        0.000000\n",
              "hospital_type_code                   0.000000\n",
              "city_code_hospital                   0.000000\n",
              "hospital_region_code                 0.000000\n",
              "available_extra_rooms_in_hospital    0.000000\n",
              "department                           0.000000\n",
              "ward_type                            0.000000\n",
              "ward_facility_code                   0.000000\n",
              "bed_grade                            0.036506\n",
              "city_code_patient                    1.426104\n",
              "type_of_admission                    0.000000\n",
              "severity_of_illness                  0.000000\n",
              "visitors_with_patient                0.000000\n",
              "age                                  0.000000\n",
              "admission_deposit                    0.000000\n",
              "stay                                 0.000000\n",
              "dtype: float64"
            ]
          },
          "execution_count": 84,
          "metadata": {},
          "output_type": "execute_result"
        }
      ],
      "source": [
        "strat_train_set.isna().mean()*100"
      ]
    },
    {
      "cell_type": "markdown",
      "id": "95197e92",
      "metadata": {
        "id": "95197e92"
      },
      "source": [
        "Proportion of missing values is very less. We will remove the columns where the data contains missing values as it would not significanly harm our original data distribution.\n",
        "\n",
        "- bed_grade contains 0.03% missing values\n",
        "- city_code_patient contains 1.42% missing values"
      ]
    },
    {
      "cell_type": "code",
      "execution_count": 85,
      "id": "ccbc8bc0",
      "metadata": {
        "id": "ccbc8bc0"
      },
      "outputs": [],
      "source": [
        "#train_set\n",
        "strat_train_set.dropna(how='any', inplace=True)\n",
        "#test_set\n",
        "strat_test_set.dropna(how='any', inplace=True)"
      ]
    },
    {
      "cell_type": "code",
      "execution_count": 86,
      "id": "aa02ef71",
      "metadata": {
        "colab": {
          "base_uri": "https://localhost:8080/"
        },
        "id": "aa02ef71",
        "outputId": "aaef914b-7421-4a40-ecc5-641e7565a2ee"
      },
      "outputs": [
        {
          "data": {
            "text/plain": [
              "hospital_code                        0\n",
              "hospital_type_code                   0\n",
              "city_code_hospital                   0\n",
              "hospital_region_code                 0\n",
              "available_extra_rooms_in_hospital    0\n",
              "department                           0\n",
              "ward_type                            0\n",
              "ward_facility_code                   0\n",
              "bed_grade                            0\n",
              "city_code_patient                    0\n",
              "type_of_admission                    0\n",
              "severity_of_illness                  0\n",
              "visitors_with_patient                0\n",
              "age                                  0\n",
              "admission_deposit                    0\n",
              "stay                                 0\n",
              "dtype: int64"
            ]
          },
          "execution_count": 86,
          "metadata": {},
          "output_type": "execute_result"
        }
      ],
      "source": [
        "#cross checking the missing values\n",
        "strat_train_set.isna().sum()"
      ]
    },
    {
      "cell_type": "markdown",
      "id": "af9ddcbc",
      "metadata": {
        "id": "af9ddcbc"
      },
      "source": [
        "## Dropping Outliers"
      ]
    },
    {
      "cell_type": "markdown",
      "id": "0bd8fca4",
      "metadata": {
        "id": "0bd8fca4"
      },
      "source": [
        "During EDA part, we have already seen that the dataset contained outliers in 'visitors_with_patient' and 'admission_deposit'. There proportions are approximately 3% for both. Since it is less that 5%, we are safe to drop them all without much affecting the orginal distribution."
      ]
    },
    {
      "cell_type": "code",
      "execution_count": 87,
      "id": "26fcb9b6",
      "metadata": {
        "id": "26fcb9b6"
      },
      "outputs": [],
      "source": [
        "## visitors_with_patient column\n",
        "# train set\n",
        "iqr_train= stats.iqr(strat_train_set['visitors_with_patient'])\n",
        "min_limit_train=np.percentile(strat_train_set['visitors_with_patient'], 25, interpolation='midpoint')- 1.5*iqr_train\n",
        "max_limit_train=np.percentile(strat_train_set['visitors_with_patient'], 75, interpolation='midpoint')+ 1.5*iqr_train\n",
        "\n",
        "\n",
        "# test set\n",
        "iqr_test= stats.iqr(strat_test_set['visitors_with_patient'])\n",
        "min_limit_test=np.percentile(strat_test_set['visitors_with_patient'], 25, interpolation='midpoint')- 1.5*iqr_test\n",
        "max_limit_test=np.percentile(strat_test_set['visitors_with_patient'], 75, interpolation='midpoint')+ 1.5*iqr_test"
      ]
    },
    {
      "cell_type": "code",
      "execution_count": 88,
      "id": "39099329",
      "metadata": {
        "colab": {
          "base_uri": "https://localhost:8080/"
        },
        "id": "39099329",
        "outputId": "9767eaf7-6fe6-44c9-de52-de34a0b3c31b"
      },
      "outputs": [
        {
          "data": {
            "text/plain": [
              "hospital_code                        0.030802\n",
              "hospital_type_code                   0.030802\n",
              "city_code_hospital                   0.030802\n",
              "hospital_region_code                 0.030802\n",
              "available_extra_rooms_in_hospital    0.030802\n",
              "department                           0.030802\n",
              "ward_type                            0.030802\n",
              "ward_facility_code                   0.030802\n",
              "bed_grade                            0.030802\n",
              "city_code_patient                    0.030802\n",
              "type_of_admission                    0.030802\n",
              "severity_of_illness                  0.030802\n",
              "visitors_with_patient                0.030802\n",
              "age                                  0.030802\n",
              "admission_deposit                    0.030802\n",
              "stay                                 0.030802\n",
              "dtype: float64"
            ]
          },
          "execution_count": 88,
          "metadata": {},
          "output_type": "execute_result"
        }
      ],
      "source": [
        "#finding proportion of outliers for train set\n",
        "strat_train_set[strat_train_set['visitors_with_patient']> max_limit_train].count()/strat_train_set.shape[0]"
      ]
    },
    {
      "cell_type": "code",
      "execution_count": 89,
      "id": "da8f498b",
      "metadata": {
        "colab": {
          "base_uri": "https://localhost:8080/"
        },
        "id": "da8f498b",
        "outputId": "c4870ee0-15d0-4d7e-efae-10da3780ce17"
      },
      "outputs": [
        {
          "data": {
            "text/plain": [
              "hospital_code                        0.029951\n",
              "hospital_type_code                   0.029951\n",
              "city_code_hospital                   0.029951\n",
              "hospital_region_code                 0.029951\n",
              "available_extra_rooms_in_hospital    0.029951\n",
              "department                           0.029951\n",
              "ward_type                            0.029951\n",
              "ward_facility_code                   0.029951\n",
              "bed_grade                            0.029951\n",
              "city_code_patient                    0.029951\n",
              "type_of_admission                    0.029951\n",
              "severity_of_illness                  0.029951\n",
              "visitors_with_patient                0.029951\n",
              "age                                  0.029951\n",
              "admission_deposit                    0.029951\n",
              "stay                                 0.029951\n",
              "dtype: float64"
            ]
          },
          "execution_count": 89,
          "metadata": {},
          "output_type": "execute_result"
        }
      ],
      "source": [
        "#finding proportion of outliers for test set\n",
        "strat_test_set[strat_test_set['visitors_with_patient']> max_limit_test].count()/strat_test_set.shape[0]"
      ]
    },
    {
      "cell_type": "code",
      "execution_count": 90,
      "id": "17d05bac",
      "metadata": {
        "id": "17d05bac"
      },
      "outputs": [],
      "source": [
        "##admission_deposit column\n",
        "#train set\n",
        "iqr_train1= stats.iqr(strat_train_set['admission_deposit'])\n",
        "min_limit_train1=np.percentile(strat_train_set['admission_deposit'], 25, interpolation='midpoint')- 1.5*iqr_train1\n",
        "max_limit_train1=np.percentile(strat_train_set['admission_deposit'], 75, interpolation='midpoint')+ 1.5*iqr_train1\n",
        "\n",
        "#test set\n",
        "iqr_test1= stats.iqr(strat_test_set['admission_deposit'])\n",
        "min_limit_test1=np.percentile(strat_test_set['admission_deposit'], 25, interpolation='midpoint')- 1.5*iqr_test1\n",
        "max_limit_test1=np.percentile(strat_test_set['admission_deposit'], 75, interpolation='midpoint')+ 1.5*iqr_test1"
      ]
    },
    {
      "cell_type": "code",
      "execution_count": 91,
      "id": "07d08407",
      "metadata": {
        "colab": {
          "base_uri": "https://localhost:8080/"
        },
        "id": "07d08407",
        "outputId": "b587d8cc-1b2c-45e2-cb6b-eb8c58213378"
      },
      "outputs": [
        {
          "data": {
            "text/plain": [
              "hospital_code                        0.038363\n",
              "hospital_type_code                   0.038363\n",
              "city_code_hospital                   0.038363\n",
              "hospital_region_code                 0.038363\n",
              "available_extra_rooms_in_hospital    0.038363\n",
              "department                           0.038363\n",
              "ward_type                            0.038363\n",
              "ward_facility_code                   0.038363\n",
              "bed_grade                            0.038363\n",
              "city_code_patient                    0.038363\n",
              "type_of_admission                    0.038363\n",
              "severity_of_illness                  0.038363\n",
              "visitors_with_patient                0.038363\n",
              "age                                  0.038363\n",
              "admission_deposit                    0.038363\n",
              "stay                                 0.038363\n",
              "dtype: float64"
            ]
          },
          "execution_count": 91,
          "metadata": {},
          "output_type": "execute_result"
        }
      ],
      "source": [
        "#finding proportion of outliers for test set\n",
        "strat_train_set[(strat_train_set['admission_deposit']> max_limit_train1) | (strat_train_set['admission_deposit']< min_limit_train1)].count()/strat_train_set.shape[0]"
      ]
    },
    {
      "cell_type": "code",
      "execution_count": 92,
      "id": "92fe7e30",
      "metadata": {
        "colab": {
          "base_uri": "https://localhost:8080/"
        },
        "id": "92fe7e30",
        "outputId": "df0322c0-b1c5-4e1d-ade5-9f9d51fcc67c"
      },
      "outputs": [
        {
          "data": {
            "text/plain": [
              "hospital_code                        0.039207\n",
              "hospital_type_code                   0.039207\n",
              "city_code_hospital                   0.039207\n",
              "hospital_region_code                 0.039207\n",
              "available_extra_rooms_in_hospital    0.039207\n",
              "department                           0.039207\n",
              "ward_type                            0.039207\n",
              "ward_facility_code                   0.039207\n",
              "bed_grade                            0.039207\n",
              "city_code_patient                    0.039207\n",
              "type_of_admission                    0.039207\n",
              "severity_of_illness                  0.039207\n",
              "visitors_with_patient                0.039207\n",
              "age                                  0.039207\n",
              "admission_deposit                    0.039207\n",
              "stay                                 0.039207\n",
              "dtype: float64"
            ]
          },
          "execution_count": 92,
          "metadata": {},
          "output_type": "execute_result"
        }
      ],
      "source": [
        "#finding proportion of outliers for test set\n",
        "strat_test_set[(strat_test_set['admission_deposit']> max_limit_test1) | (strat_test_set['admission_deposit']< min_limit_test1)].count()/strat_test_set.shape[0]"
      ]
    },
    {
      "cell_type": "code",
      "execution_count": 93,
      "id": "57da067e",
      "metadata": {},
      "outputs": [],
      "source": [
        "##availble extra rooms in hospital column\n",
        "#train set\n",
        "iqr_train2= stats.iqr(strat_train_set['available_extra_rooms_in_hospital'])\n",
        "min_limit_train2=np.percentile(strat_train_set['available_extra_rooms_in_hospital'], 25, interpolation='midpoint')- 1.5*iqr_train2\n",
        "max_limit_train2=np.percentile(strat_train_set['available_extra_rooms_in_hospital'], 75, interpolation='midpoint')+ 1.5*iqr_train2\n",
        "\n",
        "#test set\n",
        "iqr_test2= stats.iqr(strat_test_set['available_extra_rooms_in_hospital'])\n",
        "min_limit_test2=np.percentile(strat_test_set['available_extra_rooms_in_hospital'], 25, interpolation='midpoint')- 1.5*iqr_test2\n",
        "max_limit_test2=np.percentile(strat_test_set['available_extra_rooms_in_hospital'], 75, interpolation='midpoint')+ 1.5*iqr_test2"
      ]
    },
    {
      "cell_type": "code",
      "execution_count": 94,
      "id": "b85eea97",
      "metadata": {},
      "outputs": [
        {
          "data": {
            "text/plain": [
              "hospital_code                        0.004334\n",
              "hospital_type_code                   0.004334\n",
              "city_code_hospital                   0.004334\n",
              "hospital_region_code                 0.004334\n",
              "available_extra_rooms_in_hospital    0.004334\n",
              "department                           0.004334\n",
              "ward_type                            0.004334\n",
              "ward_facility_code                   0.004334\n",
              "bed_grade                            0.004334\n",
              "city_code_patient                    0.004334\n",
              "type_of_admission                    0.004334\n",
              "severity_of_illness                  0.004334\n",
              "visitors_with_patient                0.004334\n",
              "age                                  0.004334\n",
              "admission_deposit                    0.004334\n",
              "stay                                 0.004334\n",
              "dtype: float64"
            ]
          },
          "execution_count": 94,
          "metadata": {},
          "output_type": "execute_result"
        }
      ],
      "source": [
        "#finding proportion of outliers for test set\n",
        "strat_train_set[(strat_train_set['available_extra_rooms_in_hospital']> max_limit_train2) | (strat_train_set['available_extra_rooms_in_hospital']< min_limit_train2)].count()/strat_train_set.shape[0]"
      ]
    },
    {
      "cell_type": "code",
      "execution_count": 95,
      "id": "6ce92e6b",
      "metadata": {},
      "outputs": [
        {
          "data": {
            "text/plain": [
              "hospital_code                        0.003951\n",
              "hospital_type_code                   0.003951\n",
              "city_code_hospital                   0.003951\n",
              "hospital_region_code                 0.003951\n",
              "available_extra_rooms_in_hospital    0.003951\n",
              "department                           0.003951\n",
              "ward_type                            0.003951\n",
              "ward_facility_code                   0.003951\n",
              "bed_grade                            0.003951\n",
              "city_code_patient                    0.003951\n",
              "type_of_admission                    0.003951\n",
              "severity_of_illness                  0.003951\n",
              "visitors_with_patient                0.003951\n",
              "age                                  0.003951\n",
              "admission_deposit                    0.003951\n",
              "stay                                 0.003951\n",
              "dtype: float64"
            ]
          },
          "execution_count": 95,
          "metadata": {},
          "output_type": "execute_result"
        }
      ],
      "source": [
        "#finding proportion of outliers for test set\n",
        "strat_test_set[(strat_test_set['available_extra_rooms_in_hospital']> max_limit_test2) | (strat_test_set['available_extra_rooms_in_hospital']< min_limit_test2)].count()/strat_test_set.shape[0]"
      ]
    },
    {
      "cell_type": "code",
      "execution_count": 96,
      "id": "cee89631",
      "metadata": {
        "id": "cee89631"
      },
      "outputs": [],
      "source": [
        "##dropping outliers\n",
        "# train set\n",
        "outliers_train1= strat_train_set[strat_train_set['visitors_with_patient']> max_limit_train].index\n",
        "strat_train_set.drop(index=list(outliers_train1), inplace=True)\n",
        "outliers_train2= strat_train_set[(strat_train_set['admission_deposit']> max_limit_train1) | (strat_train_set['admission_deposit']< min_limit_train1)].index\n",
        "strat_train_set.drop(index=list(outliers_train2), inplace=True)\n",
        "outliers_train3= strat_train_set[(strat_train_set['available_extra_rooms_in_hospital']> max_limit_train2) | (strat_train_set['available_extra_rooms_in_hospital']< min_limit_train2)].index\n",
        "strat_train_set.drop(index=list(outliers_train3), inplace=True)\n",
        "\n",
        "# test set\n",
        "outliers_test1= strat_test_set[strat_test_set['visitors_with_patient']> max_limit_test].index\n",
        "strat_test_set.drop(index=list(outliers_test1), inplace=True)\n",
        "outliers_test2= strat_test_set[(strat_test_set['admission_deposit']> max_limit_test1) | (strat_test_set['admission_deposit']< min_limit_test1)].index\n",
        "strat_test_set.drop(index=list(outliers_test2), inplace=True)\n",
        "outliers_test3= strat_test_set[(strat_test_set['available_extra_rooms_in_hospital']> max_limit_test2) | (strat_test_set['available_extra_rooms_in_hospital']< min_limit_test2)].index\n",
        "strat_test_set.drop(index=list(outliers_test3), inplace=True)"
      ]
    },
    {
      "cell_type": "markdown",
      "id": "8a94bf5a",
      "metadata": {
        "id": "8a94bf5a"
      },
      "source": [
        "## Modifying 'age'and 'labels' values"
      ]
    },
    {
      "cell_type": "markdown",
      "id": "9615b9df",
      "metadata": {
        "id": "9615b9df"
      },
      "source": [
        "Age and stay columns contained ages and length of stays (Days) grouped in size of 10 each. One of the groups is written as 'Nov-20' instead of '11-20'. We will correct it in the following steps"
      ]
    },
    {
      "cell_type": "code",
      "execution_count": 99,
      "id": "7a40119a",
      "metadata": {
        "id": "7a40119a"
      },
      "outputs": [],
      "source": [
        "strat_train_set['age'].replace('Nov-20', '11-20', inplace=True)\n",
        "strat_train_set['stay'].replace('Nov-20', '11-20', inplace=True)"
      ]
    },
    {
      "cell_type": "code",
      "execution_count": 100,
      "id": "a5287989",
      "metadata": {
        "id": "a5287989"
      },
      "outputs": [],
      "source": [
        "strat_test_set['age'].replace('Nov-20', '11-20', inplace=True)\n",
        "strat_test_set['stay'].replace('Nov-20', '11-20', inplace=True)"
      ]
    },
    {
      "cell_type": "markdown",
      "id": "5dae7213",
      "metadata": {
        "id": "5dae7213"
      },
      "source": [
        "Further data processing involves encoding and scaling of the data. These processes will be performed on the features and not on the target columns. Hence, lets split the features and the labels from the train and test sets. "
      ]
    },
    {
      "cell_type": "markdown",
      "id": "5aba3ad6",
      "metadata": {
        "id": "5aba3ad6"
      },
      "source": [
        "## Seperating Features and Labels"
      ]
    },
    {
      "cell_type": "markdown",
      "id": "lF4daZwfGvJk",
      "metadata": {
        "id": "lF4daZwfGvJk"
      },
      "source": [
        "Before we move to the encoding part, let's first separate the features and labels from both train and test. It will simplify labling the features and targets"
      ]
    },
    {
      "cell_type": "code",
      "execution_count": 101,
      "id": "d897a94a",
      "metadata": {
        "id": "d897a94a"
      },
      "outputs": [],
      "source": [
        "train_data=strat_train_set.drop('stay', axis=1)\n",
        "train_labels=strat_train_set[['stay']]"
      ]
    },
    {
      "cell_type": "code",
      "execution_count": 102,
      "id": "61de5ab1",
      "metadata": {
        "id": "61de5ab1"
      },
      "outputs": [],
      "source": [
        "test_data=strat_test_set.drop('stay', axis=1)\n",
        "test_labels=strat_test_set[['stay']]"
      ]
    },
    {
      "cell_type": "code",
      "execution_count": 103,
      "id": "688uk1ETjetM",
      "metadata": {
        "id": "688uk1ETjetM"
      },
      "outputs": [],
      "source": [
        "#manual label encoding\n",
        "new_labels={'0-10':0, '11-20':1, '21-30':2, '31-40':3, '41-50':4, '51-60':5, '61-70':6, '71-80':6, '81-90':6, '91-100':6, 'More than 100 Days':6}\n",
        "\n",
        "#new_labels={'0-10':0, '11-20':0, '21-30':0, '31-40':1, '41-50':1, '51-60':1, '61-70':2, '71-80':2, '81-90':2, '91-100':3, 'More than 100 Days':3}"
      ]
    },
    {
      "cell_type": "code",
      "execution_count": 104,
      "id": "JQaiWlBHjed1",
      "metadata": {
        "id": "JQaiWlBHjed1"
      },
      "outputs": [],
      "source": [
        "#train labels\n",
        "train_labels['stay']= train_labels['stay'].replace(new_labels)"
      ]
    },
    {
      "cell_type": "code",
      "execution_count": 105,
      "id": "5Sqiv5N3k1fg",
      "metadata": {
        "id": "5Sqiv5N3k1fg"
      },
      "outputs": [],
      "source": [
        "#test labels\n",
        "test_labels['stay']=test_labels['stay'].replace(new_labels)"
      ]
    },
    {
      "cell_type": "code",
      "execution_count": 111,
      "id": "ca19c0f7",
      "metadata": {},
      "outputs": [
        {
          "data": {
            "text/plain": [
              "2    65961\n",
              "1    59447\n",
              "3    40780\n",
              "5    24995\n",
              "0    17827\n",
              "6    15671\n",
              "4     8621\n",
              "Name: stay, dtype: int64"
            ]
          },
          "execution_count": 111,
          "metadata": {},
          "output_type": "execute_result"
        }
      ],
      "source": [
        "train_labels['stay'].value_counts()"
      ]
    },
    {
      "cell_type": "markdown",
      "id": "3fee29c6",
      "metadata": {
        "id": "3fee29c6"
      },
      "source": [
        "## Encoding"
      ]
    },
    {
      "cell_type": "code",
      "execution_count": 106,
      "id": "813efd06",
      "metadata": {
        "id": "813efd06"
      },
      "outputs": [],
      "source": [
        "# instantiating OrdinalEncoder object\n",
        "encoder=OrdinalEncoder()"
      ]
    },
    {
      "cell_type": "code",
      "execution_count": 107,
      "id": "ed9b54c1",
      "metadata": {
        "id": "ed9b54c1"
      },
      "outputs": [],
      "source": [
        "# list of columns for encoding\n",
        "cols=['hospital_type_code', 'hospital_region_code', 'department', 'ward_type', 'ward_facility_code', 'type_of_admission', 'severity_of_illness', 'age']\n",
        "\n",
        "# train set encoding\n",
        "train_data[cols]=encoder.fit_transform(train_data[cols])\n",
        "\n",
        "# test set encoding\n",
        "test_data[cols]=encoder.transform(test_data[cols])"
      ]
    },
    {
      "cell_type": "code",
      "execution_count": 108,
      "id": "779f5c65",
      "metadata": {
        "colab": {
          "base_uri": "https://localhost:8080/",
          "height": 207
        },
        "id": "779f5c65",
        "outputId": "bcb054db-528d-4482-a141-3a1b52040710"
      },
      "outputs": [
        {
          "data": {
            "text/html": [
              "<div>\n",
              "<style scoped>\n",
              "    .dataframe tbody tr th:only-of-type {\n",
              "        vertical-align: middle;\n",
              "    }\n",
              "\n",
              "    .dataframe tbody tr th {\n",
              "        vertical-align: top;\n",
              "    }\n",
              "\n",
              "    .dataframe thead th {\n",
              "        text-align: right;\n",
              "    }\n",
              "</style>\n",
              "<table border=\"1\" class=\"dataframe\">\n",
              "  <thead>\n",
              "    <tr style=\"text-align: right;\">\n",
              "      <th></th>\n",
              "      <th>hospital_code</th>\n",
              "      <th>hospital_type_code</th>\n",
              "      <th>city_code_hospital</th>\n",
              "      <th>hospital_region_code</th>\n",
              "      <th>available_extra_rooms_in_hospital</th>\n",
              "      <th>department</th>\n",
              "      <th>ward_type</th>\n",
              "      <th>ward_facility_code</th>\n",
              "      <th>bed_grade</th>\n",
              "      <th>city_code_patient</th>\n",
              "      <th>type_of_admission</th>\n",
              "      <th>severity_of_illness</th>\n",
              "      <th>visitors_with_patient</th>\n",
              "      <th>age</th>\n",
              "      <th>admission_deposit</th>\n",
              "    </tr>\n",
              "  </thead>\n",
              "  <tbody>\n",
              "    <tr>\n",
              "      <th>233402</th>\n",
              "      <td>26</td>\n",
              "      <td>1.0</td>\n",
              "      <td>2</td>\n",
              "      <td>1.0</td>\n",
              "      <td>4</td>\n",
              "      <td>2.0</td>\n",
              "      <td>1.0</td>\n",
              "      <td>3.0</td>\n",
              "      <td>2.0</td>\n",
              "      <td>7.0</td>\n",
              "      <td>2.0</td>\n",
              "      <td>2.0</td>\n",
              "      <td>4</td>\n",
              "      <td>5.0</td>\n",
              "      <td>3742</td>\n",
              "    </tr>\n",
              "    <tr>\n",
              "      <th>58103</th>\n",
              "      <td>19</td>\n",
              "      <td>0.0</td>\n",
              "      <td>7</td>\n",
              "      <td>1.0</td>\n",
              "      <td>4</td>\n",
              "      <td>2.0</td>\n",
              "      <td>1.0</td>\n",
              "      <td>2.0</td>\n",
              "      <td>2.0</td>\n",
              "      <td>8.0</td>\n",
              "      <td>0.0</td>\n",
              "      <td>2.0</td>\n",
              "      <td>4</td>\n",
              "      <td>3.0</td>\n",
              "      <td>4785</td>\n",
              "    </tr>\n",
              "    <tr>\n",
              "      <th>247279</th>\n",
              "      <td>11</td>\n",
              "      <td>1.0</td>\n",
              "      <td>2</td>\n",
              "      <td>1.0</td>\n",
              "      <td>5</td>\n",
              "      <td>1.0</td>\n",
              "      <td>1.0</td>\n",
              "      <td>3.0</td>\n",
              "      <td>4.0</td>\n",
              "      <td>8.0</td>\n",
              "      <td>0.0</td>\n",
              "      <td>2.0</td>\n",
              "      <td>4</td>\n",
              "      <td>5.0</td>\n",
              "      <td>3958</td>\n",
              "    </tr>\n",
              "  </tbody>\n",
              "</table>\n",
              "</div>"
            ],
            "text/plain": [
              "        hospital_code  hospital_type_code  city_code_hospital  \\\n",
              "233402             26                 1.0                   2   \n",
              "58103              19                 0.0                   7   \n",
              "247279             11                 1.0                   2   \n",
              "\n",
              "        hospital_region_code  available_extra_rooms_in_hospital  department  \\\n",
              "233402                   1.0                                  4         2.0   \n",
              "58103                    1.0                                  4         2.0   \n",
              "247279                   1.0                                  5         1.0   \n",
              "\n",
              "        ward_type  ward_facility_code  bed_grade  city_code_patient  \\\n",
              "233402        1.0                 3.0        2.0                7.0   \n",
              "58103         1.0                 2.0        2.0                8.0   \n",
              "247279        1.0                 3.0        4.0                8.0   \n",
              "\n",
              "        type_of_admission  severity_of_illness  visitors_with_patient  age  \\\n",
              "233402                2.0                  2.0                      4  5.0   \n",
              "58103                 0.0                  2.0                      4  3.0   \n",
              "247279                0.0                  2.0                      4  5.0   \n",
              "\n",
              "        admission_deposit  \n",
              "233402               3742  \n",
              "58103                4785  \n",
              "247279               3958  "
            ]
          },
          "execution_count": 108,
          "metadata": {},
          "output_type": "execute_result"
        }
      ],
      "source": [
        "train_data.head(3)"
      ]
    },
    {
      "cell_type": "code",
      "execution_count": 109,
      "id": "c31d4ef8",
      "metadata": {
        "id": "c31d4ef8",
        "outputId": "064d9592-f5b1-4963-ae42-7b19518573fe"
      },
      "outputs": [
        {
          "data": {
            "text/plain": [
              "[array(['a', 'b', 'c', 'd', 'e', 'f', 'g'], dtype=object),\n",
              " array(['X', 'Y', 'Z'], dtype=object),\n",
              " array(['TB & Chest disease', 'anesthesia', 'gynecology', 'radiotherapy',\n",
              "        'surgery'], dtype=object),\n",
              " array(['P', 'Q', 'R', 'S', 'T', 'U'], dtype=object),\n",
              " array(['A', 'B', 'C', 'D', 'E', 'F'], dtype=object),\n",
              " array(['Emergency', 'Trauma', 'Urgent'], dtype=object),\n",
              " array(['Extreme', 'Minor', 'Moderate'], dtype=object),\n",
              " array(['0-10', '11-20', '21-30', '31-40', '41-50', '51-60', '61-70',\n",
              "        '71-80', '81-90', '91-100'], dtype=object)]"
            ]
          },
          "execution_count": 109,
          "metadata": {},
          "output_type": "execute_result"
        }
      ],
      "source": [
        "encoder.categories_"
      ]
    },
    {
      "cell_type": "markdown",
      "id": "aadac06f",
      "metadata": {
        "id": "aadac06f"
      },
      "source": [
        "## Scaling"
      ]
    },
    {
      "cell_type": "code",
      "execution_count": 113,
      "id": "5abec71e",
      "metadata": {
        "id": "5abec71e"
      },
      "outputs": [
        {
          "data": {
            "text/html": [
              "<div>\n",
              "<style scoped>\n",
              "    .dataframe tbody tr th:only-of-type {\n",
              "        vertical-align: middle;\n",
              "    }\n",
              "\n",
              "    .dataframe tbody tr th {\n",
              "        vertical-align: top;\n",
              "    }\n",
              "\n",
              "    .dataframe thead th {\n",
              "        text-align: right;\n",
              "    }\n",
              "</style>\n",
              "<table border=\"1\" class=\"dataframe\">\n",
              "  <thead>\n",
              "    <tr style=\"text-align: right;\">\n",
              "      <th></th>\n",
              "      <th>0</th>\n",
              "      <th>1</th>\n",
              "      <th>2</th>\n",
              "      <th>3</th>\n",
              "      <th>4</th>\n",
              "      <th>5</th>\n",
              "      <th>6</th>\n",
              "      <th>7</th>\n",
              "      <th>8</th>\n",
              "      <th>9</th>\n",
              "      <th>10</th>\n",
              "      <th>11</th>\n",
              "      <th>12</th>\n",
              "      <th>13</th>\n",
              "      <th>14</th>\n",
              "    </tr>\n",
              "  </thead>\n",
              "  <tbody>\n",
              "    <tr>\n",
              "      <th>0</th>\n",
              "      <td>0.888651</td>\n",
              "      <td>-0.170895</td>\n",
              "      <td>-0.895947</td>\n",
              "      <td>0.291195</td>\n",
              "      <td>0.736831</td>\n",
              "      <td>0.094898</td>\n",
              "      <td>-1.118456</td>\n",
              "      <td>-0.162630</td>\n",
              "      <td>-0.693322</td>\n",
              "      <td>-0.056325</td>\n",
              "      <td>1.759417</td>\n",
              "      <td>0.813637</td>\n",
              "      <td>0.764956</td>\n",
              "      <td>0.467516</td>\n",
              "      <td>-1.185114</td>\n",
              "    </tr>\n",
              "    <tr>\n",
              "      <th>1</th>\n",
              "      <td>0.077631</td>\n",
              "      <td>-0.819066</td>\n",
              "      <td>0.713252</td>\n",
              "      <td>0.291195</td>\n",
              "      <td>0.736831</td>\n",
              "      <td>0.094898</td>\n",
              "      <td>-1.118456</td>\n",
              "      <td>-0.754418</td>\n",
              "      <td>-0.693322</td>\n",
              "      <td>0.154192</td>\n",
              "      <td>-1.137744</td>\n",
              "      <td>0.813637</td>\n",
              "      <td>0.764956</td>\n",
              "      <td>-0.591485</td>\n",
              "      <td>-0.006209</td>\n",
              "    </tr>\n",
              "    <tr>\n",
              "      <th>2</th>\n",
              "      <td>-0.849249</td>\n",
              "      <td>-0.170895</td>\n",
              "      <td>-0.895947</td>\n",
              "      <td>0.291195</td>\n",
              "      <td>1.634314</td>\n",
              "      <td>-1.709931</td>\n",
              "      <td>-1.118456</td>\n",
              "      <td>-0.162630</td>\n",
              "      <td>1.604753</td>\n",
              "      <td>0.154192</td>\n",
              "      <td>-1.137744</td>\n",
              "      <td>0.813637</td>\n",
              "      <td>0.764956</td>\n",
              "      <td>0.467516</td>\n",
              "      <td>-0.940969</td>\n",
              "    </tr>\n",
              "    <tr>\n",
              "      <th>3</th>\n",
              "      <td>-1.428548</td>\n",
              "      <td>-0.819066</td>\n",
              "      <td>0.391412</td>\n",
              "      <td>-1.038910</td>\n",
              "      <td>-0.160653</td>\n",
              "      <td>0.094898</td>\n",
              "      <td>-1.118456</td>\n",
              "      <td>1.020947</td>\n",
              "      <td>-0.693322</td>\n",
              "      <td>-1.108906</td>\n",
              "      <td>-1.137744</td>\n",
              "      <td>-0.487752</td>\n",
              "      <td>-0.871601</td>\n",
              "      <td>-1.120986</td>\n",
              "      <td>0.590590</td>\n",
              "    </tr>\n",
              "    <tr>\n",
              "      <th>4</th>\n",
              "      <td>1.583810</td>\n",
              "      <td>2.421786</td>\n",
              "      <td>1.356932</td>\n",
              "      <td>0.291195</td>\n",
              "      <td>-1.058137</td>\n",
              "      <td>0.094898</td>\n",
              "      <td>1.380161</td>\n",
              "      <td>-1.346207</td>\n",
              "      <td>0.455715</td>\n",
              "      <td>0.154192</td>\n",
              "      <td>-1.137744</td>\n",
              "      <td>-1.789140</td>\n",
              "      <td>0.764956</td>\n",
              "      <td>1.526516</td>\n",
              "      <td>0.050306</td>\n",
              "    </tr>\n",
              "    <tr>\n",
              "      <th>...</th>\n",
              "      <td>...</td>\n",
              "      <td>...</td>\n",
              "      <td>...</td>\n",
              "      <td>...</td>\n",
              "      <td>...</td>\n",
              "      <td>...</td>\n",
              "      <td>...</td>\n",
              "      <td>...</td>\n",
              "      <td>...</td>\n",
              "      <td>...</td>\n",
              "      <td>...</td>\n",
              "      <td>...</td>\n",
              "      <td>...</td>\n",
              "      <td>...</td>\n",
              "      <td>...</td>\n",
              "    </tr>\n",
              "    <tr>\n",
              "      <th>233297</th>\n",
              "      <td>1.120370</td>\n",
              "      <td>-0.170895</td>\n",
              "      <td>2.000612</td>\n",
              "      <td>-1.038910</td>\n",
              "      <td>-0.160653</td>\n",
              "      <td>0.094898</td>\n",
              "      <td>0.130852</td>\n",
              "      <td>1.020947</td>\n",
              "      <td>0.455715</td>\n",
              "      <td>0.154192</td>\n",
              "      <td>0.310837</td>\n",
              "      <td>0.813637</td>\n",
              "      <td>-0.871601</td>\n",
              "      <td>0.997016</td>\n",
              "      <td>-0.003949</td>\n",
              "    </tr>\n",
              "    <tr>\n",
              "      <th>233298</th>\n",
              "      <td>0.541071</td>\n",
              "      <td>-0.819066</td>\n",
              "      <td>0.391412</td>\n",
              "      <td>-1.038910</td>\n",
              "      <td>0.736831</td>\n",
              "      <td>0.094898</td>\n",
              "      <td>0.130852</td>\n",
              "      <td>1.020947</td>\n",
              "      <td>-1.842360</td>\n",
              "      <td>-1.108906</td>\n",
              "      <td>1.759417</td>\n",
              "      <td>0.813637</td>\n",
              "      <td>2.401514</td>\n",
              "      <td>-0.061985</td>\n",
              "      <td>-2.073530</td>\n",
              "    </tr>\n",
              "    <tr>\n",
              "      <th>233299</th>\n",
              "      <td>1.004510</td>\n",
              "      <td>-0.819066</td>\n",
              "      <td>0.713252</td>\n",
              "      <td>0.291195</td>\n",
              "      <td>0.736831</td>\n",
              "      <td>0.094898</td>\n",
              "      <td>0.130852</td>\n",
              "      <td>-0.754418</td>\n",
              "      <td>0.455715</td>\n",
              "      <td>4.154001</td>\n",
              "      <td>0.310837</td>\n",
              "      <td>-0.487752</td>\n",
              "      <td>-0.053323</td>\n",
              "      <td>0.997016</td>\n",
              "      <td>-1.377265</td>\n",
              "    </tr>\n",
              "    <tr>\n",
              "      <th>233300</th>\n",
              "      <td>0.077631</td>\n",
              "      <td>-0.819066</td>\n",
              "      <td>0.713252</td>\n",
              "      <td>0.291195</td>\n",
              "      <td>0.736831</td>\n",
              "      <td>0.094898</td>\n",
              "      <td>-1.118456</td>\n",
              "      <td>-0.754418</td>\n",
              "      <td>0.455715</td>\n",
              "      <td>0.154192</td>\n",
              "      <td>-1.137744</td>\n",
              "      <td>-1.789140</td>\n",
              "      <td>0.764956</td>\n",
              "      <td>1.526516</td>\n",
              "      <td>-1.329792</td>\n",
              "    </tr>\n",
              "    <tr>\n",
              "      <th>233301</th>\n",
              "      <td>0.541071</td>\n",
              "      <td>-0.819066</td>\n",
              "      <td>0.391412</td>\n",
              "      <td>-1.038910</td>\n",
              "      <td>1.634314</td>\n",
              "      <td>0.094898</td>\n",
              "      <td>-1.118456</td>\n",
              "      <td>1.020947</td>\n",
              "      <td>-0.693322</td>\n",
              "      <td>0.154192</td>\n",
              "      <td>0.310837</td>\n",
              "      <td>-1.789140</td>\n",
              "      <td>-0.053323</td>\n",
              "      <td>-0.591485</td>\n",
              "      <td>-2.369669</td>\n",
              "    </tr>\n",
              "  </tbody>\n",
              "</table>\n",
              "<p>233302 rows × 15 columns</p>\n",
              "</div>"
            ],
            "text/plain": [
              "              0         1         2         3         4         5         6   \\\n",
              "0       0.888651 -0.170895 -0.895947  0.291195  0.736831  0.094898 -1.118456   \n",
              "1       0.077631 -0.819066  0.713252  0.291195  0.736831  0.094898 -1.118456   \n",
              "2      -0.849249 -0.170895 -0.895947  0.291195  1.634314 -1.709931 -1.118456   \n",
              "3      -1.428548 -0.819066  0.391412 -1.038910 -0.160653  0.094898 -1.118456   \n",
              "4       1.583810  2.421786  1.356932  0.291195 -1.058137  0.094898  1.380161   \n",
              "...          ...       ...       ...       ...       ...       ...       ...   \n",
              "233297  1.120370 -0.170895  2.000612 -1.038910 -0.160653  0.094898  0.130852   \n",
              "233298  0.541071 -0.819066  0.391412 -1.038910  0.736831  0.094898  0.130852   \n",
              "233299  1.004510 -0.819066  0.713252  0.291195  0.736831  0.094898  0.130852   \n",
              "233300  0.077631 -0.819066  0.713252  0.291195  0.736831  0.094898 -1.118456   \n",
              "233301  0.541071 -0.819066  0.391412 -1.038910  1.634314  0.094898 -1.118456   \n",
              "\n",
              "              7         8         9         10        11        12        13  \\\n",
              "0      -0.162630 -0.693322 -0.056325  1.759417  0.813637  0.764956  0.467516   \n",
              "1      -0.754418 -0.693322  0.154192 -1.137744  0.813637  0.764956 -0.591485   \n",
              "2      -0.162630  1.604753  0.154192 -1.137744  0.813637  0.764956  0.467516   \n",
              "3       1.020947 -0.693322 -1.108906 -1.137744 -0.487752 -0.871601 -1.120986   \n",
              "4      -1.346207  0.455715  0.154192 -1.137744 -1.789140  0.764956  1.526516   \n",
              "...          ...       ...       ...       ...       ...       ...       ...   \n",
              "233297  1.020947  0.455715  0.154192  0.310837  0.813637 -0.871601  0.997016   \n",
              "233298  1.020947 -1.842360 -1.108906  1.759417  0.813637  2.401514 -0.061985   \n",
              "233299 -0.754418  0.455715  4.154001  0.310837 -0.487752 -0.053323  0.997016   \n",
              "233300 -0.754418  0.455715  0.154192 -1.137744 -1.789140  0.764956  1.526516   \n",
              "233301  1.020947 -0.693322  0.154192  0.310837 -1.789140 -0.053323 -0.591485   \n",
              "\n",
              "              14  \n",
              "0      -1.185114  \n",
              "1      -0.006209  \n",
              "2      -0.940969  \n",
              "3       0.590590  \n",
              "4       0.050306  \n",
              "...          ...  \n",
              "233297 -0.003949  \n",
              "233298 -2.073530  \n",
              "233299 -1.377265  \n",
              "233300 -1.329792  \n",
              "233301 -2.369669  \n",
              "\n",
              "[233302 rows x 15 columns]"
            ]
          },
          "execution_count": 113,
          "metadata": {},
          "output_type": "execute_result"
        }
      ],
      "source": [
        "#instantiating StandardScaler object\n",
        "scaler= StandardScaler()\n",
        "\n",
        "# scaling the train data\n",
        "train_data_scaled=scaler.fit_transform(train_data)\n",
        "pd.DataFrame(train_data_scaled)"
      ]
    },
    {
      "cell_type": "code",
      "execution_count": 114,
      "id": "1e74c901",
      "metadata": {
        "id": "1e74c901"
      },
      "outputs": [],
      "source": [
        "# scaling the test data\n",
        "test_data_scaled=scaler.transform(test_data)"
      ]
    },
    {
      "cell_type": "markdown",
      "id": "40a93a04",
      "metadata": {
        "id": "40a93a04"
      },
      "source": [
        "# Model Development"
      ]
    },
    {
      "cell_type": "markdown",
      "id": "d152852b",
      "metadata": {
        "id": "d152852b"
      },
      "source": [
        "Let's use standard froms of X_train, X_test, y_train, y_test "
      ]
    },
    {
      "cell_type": "code",
      "execution_count": 115,
      "id": "bb394b64",
      "metadata": {
        "id": "bb394b64"
      },
      "outputs": [],
      "source": [
        "X_train=train_data_scaled.copy()\n",
        "y_train= train_labels.copy()"
      ]
    },
    {
      "cell_type": "code",
      "execution_count": 116,
      "id": "032a52b3",
      "metadata": {
        "id": "032a52b3"
      },
      "outputs": [],
      "source": [
        "X_test=test_data_scaled.copy()\n",
        "y_test=test_labels.copy()"
      ]
    },
    {
      "cell_type": "code",
      "execution_count": 117,
      "id": "bd621a7b",
      "metadata": {
        "id": "bd621a7b"
      },
      "outputs": [],
      "source": [
        "def class_report (test, pred):\n",
        "    '''The function return classification report'''\n",
        "    \n",
        "    print(\"Classification report is:\")\n",
        "    print(classification_report(test, pred))"
      ]
    },
    {
      "cell_type": "code",
      "execution_count": null,
      "id": "Bpom4rlq5j1q",
      "metadata": {
        "colab": {
          "base_uri": "https://localhost:8080/",
          "height": 166
        },
        "id": "Bpom4rlq5j1q",
        "outputId": "c0c318c5-7557-4405-b246-29bc70b2fd45"
      },
      "outputs": [
        {
          "ename": "NameError",
          "evalue": "name 'stopper' is not defined",
          "output_type": "error",
          "traceback": [
            "\u001b[0;31m---------------------------------------------------------------------------\u001b[0m",
            "\u001b[0;31mNameError\u001b[0m                                 Traceback (most recent call last)",
            "\u001b[0;32m/var/folders/n0/s9fgc6f50t52rltt7_gdn9cm0000gn/T/ipykernel_1203/2329210996.py\u001b[0m in \u001b[0;36m<module>\u001b[0;34m\u001b[0m\n\u001b[0;32m----> 1\u001b[0;31m \u001b[0mstopper\u001b[0m\u001b[0;34m\u001b[0m\u001b[0;34m\u001b[0m\u001b[0m\n\u001b[0m",
            "\u001b[0;31mNameError\u001b[0m: name 'stopper' is not defined"
          ]
        }
      ],
      "source": [
        "stopper"
      ]
    },
    {
      "cell_type": "markdown",
      "id": "f2f8d16f",
      "metadata": {
        "id": "f2f8d16f"
      },
      "source": [
        "## Logistic Regression"
      ]
    },
    {
      "cell_type": "code",
      "execution_count": 118,
      "id": "e59d96fc",
      "metadata": {
        "colab": {
          "base_uri": "https://localhost:8080/"
        },
        "id": "e59d96fc",
        "outputId": "c1dbbe1f-203e-4fb1-cb11-8913995df233"
      },
      "outputs": [
        {
          "data": {
            "text/plain": [
              "0.37862247433634383"
            ]
          },
          "execution_count": 118,
          "metadata": {},
          "output_type": "execute_result"
        }
      ],
      "source": [
        "#instantiating the object\n",
        "log_reg= LogisticRegression(multi_class='multinomial')\n",
        "#training the model\n",
        "log_reg.fit(X_train, y_train)\n",
        "#predicting\n",
        "y_pred_log_reg= log_reg.predict(X_test)\n",
        "#accuracy score\n",
        "log_reg_acc=accuracy_score(y_test, y_pred_log_reg)\n",
        "log_reg_acc"
      ]
    },
    {
      "cell_type": "code",
      "execution_count": 119,
      "id": "60e0f0b9",
      "metadata": {
        "colab": {
          "base_uri": "https://localhost:8080/"
        },
        "id": "60e0f0b9",
        "outputId": "27399f51-616d-4129-a7a6-8ca1cc45bbb9"
      },
      "outputs": [
        {
          "name": "stdout",
          "output_type": "stream",
          "text": [
            "Classification report is:\n",
            "              precision    recall  f1-score   support\n",
            "\n",
            "           0       0.46      0.04      0.07      4686\n",
            "           1       0.36      0.41      0.38     14716\n",
            "           2       0.40      0.67      0.50     16538\n",
            "           3       0.32      0.18      0.23     10163\n",
            "           4       0.00      0.00      0.00      2220\n",
            "           5       0.36      0.47      0.41      6076\n",
            "           6       0.45      0.06      0.10      3952\n",
            "\n",
            "    accuracy                           0.38     58351\n",
            "   macro avg       0.34      0.26      0.24     58351\n",
            "weighted avg       0.37      0.38      0.33     58351\n",
            "\n"
          ]
        }
      ],
      "source": [
        "class_report(y_test, y_pred_log_reg)"
      ]
    },
    {
      "cell_type": "markdown",
      "id": "XRw8yPNZmf4M",
      "metadata": {
        "id": "XRw8yPNZmf4M"
      },
      "source": [
        "## KNN"
      ]
    },
    {
      "cell_type": "code",
      "execution_count": null,
      "id": "Ey607OU6mfRH",
      "metadata": {
        "id": "Ey607OU6mfRH"
      },
      "outputs": [],
      "source": [
        "# finding optimum value of number if neighbours\n",
        "#error_rate = []\n",
        "\n",
        "#for i in range(1,16):\n",
        "    #knn = KNeighborsClassifier(n_neighbors=i)\n",
        "    #knn.fit(X_train,y_train)\n",
        "    #pred_i = knn.predict(X_test)\n",
        "    #error_rate.append(np.mean(pred_i != y_test.stay))"
      ]
    },
    {
      "cell_type": "code",
      "execution_count": null,
      "id": "623f2039",
      "metadata": {
        "id": "623f2039"
      },
      "outputs": [],
      "source": [
        "#plt.plot(np.arange(1,16), error_rate);"
      ]
    },
    {
      "cell_type": "code",
      "execution_count": 120,
      "id": "10fea6c2",
      "metadata": {
        "id": "10fea6c2"
      },
      "outputs": [
        {
          "data": {
            "text/plain": [
              "0.37366968860859284"
            ]
          },
          "execution_count": 120,
          "metadata": {},
          "output_type": "execute_result"
        }
      ],
      "source": [
        "knn=KNeighborsClassifier(n_neighbors=12)\n",
        "knn.fit(X_train, y_train)\n",
        "y_pred_knn=knn.predict(X_test)\n",
        "knn_acc=accuracy_score(y_test, y_pred_knn)\n",
        "knn_acc"
      ]
    },
    {
      "cell_type": "code",
      "execution_count": 121,
      "id": "oBpRqf-enMwJ",
      "metadata": {
        "colab": {
          "base_uri": "https://localhost:8080/"
        },
        "id": "oBpRqf-enMwJ",
        "outputId": "bdc60f81-3320-49c9-a2d6-92f870604b01"
      },
      "outputs": [
        {
          "name": "stdout",
          "output_type": "stream",
          "text": [
            "Classification report is:\n",
            "              precision    recall  f1-score   support\n",
            "\n",
            "           0       0.27      0.14      0.19      4686\n",
            "           1       0.37      0.49      0.42     14716\n",
            "           2       0.40      0.55      0.46     16538\n",
            "           3       0.33      0.22      0.27     10163\n",
            "           4       0.08      0.00      0.01      2220\n",
            "           5       0.39      0.32      0.35      6076\n",
            "           6       0.42      0.18      0.25      3952\n",
            "\n",
            "    accuracy                           0.37     58351\n",
            "   macro avg       0.32      0.27      0.28     58351\n",
            "weighted avg       0.36      0.37      0.35     58351\n",
            "\n"
          ]
        }
      ],
      "source": [
        "class_report(y_test, y_pred_knn)"
      ]
    },
    {
      "cell_type": "markdown",
      "id": "081d47e1",
      "metadata": {
        "id": "081d47e1"
      },
      "source": [
        "## Decision Tree"
      ]
    },
    {
      "cell_type": "code",
      "execution_count": 122,
      "id": "030cf91c",
      "metadata": {
        "id": "030cf91c"
      },
      "outputs": [
        {
          "data": {
            "text/plain": [
              "0.3006975030419359"
            ]
          },
          "execution_count": 122,
          "metadata": {},
          "output_type": "execute_result"
        }
      ],
      "source": [
        "#instantiating DecisionTreeClassifier object\n",
        "tree=DecisionTreeClassifier()\n",
        "#training the model\n",
        "tree.fit(X_train, y_train)\n",
        "#predicting\n",
        "y_pred_tree= tree.predict(X_test)\n",
        "#accuracy score\n",
        "tree_acc=accuracy_score(y_test, y_pred_tree)\n",
        "tree_acc"
      ]
    },
    {
      "cell_type": "code",
      "execution_count": 123,
      "id": "f7d9b3cf",
      "metadata": {
        "colab": {
          "base_uri": "https://localhost:8080/"
        },
        "id": "f7d9b3cf",
        "outputId": "a2239903-3c18-4df1-8918-22196be9abfe"
      },
      "outputs": [
        {
          "name": "stdout",
          "output_type": "stream",
          "text": [
            "Classification report is:\n",
            "              precision    recall  f1-score   support\n",
            "\n",
            "           0       0.19      0.19      0.19      4686\n",
            "           1       0.33      0.33      0.33     14716\n",
            "           2       0.38      0.37      0.38     16538\n",
            "           3       0.25      0.25      0.25     10163\n",
            "           4       0.06      0.06      0.06      2220\n",
            "           5       0.30      0.31      0.31      6076\n",
            "           6       0.26      0.27      0.26      3952\n",
            "\n",
            "    accuracy                           0.30     58351\n",
            "   macro avg       0.25      0.25      0.25     58351\n",
            "weighted avg       0.30      0.30      0.30     58351\n",
            "\n"
          ]
        }
      ],
      "source": [
        "class_report(y_test, y_pred_tree)"
      ]
    },
    {
      "cell_type": "markdown",
      "id": "0feefe76",
      "metadata": {
        "id": "0feefe76"
      },
      "source": [
        "## Random Forest"
      ]
    },
    {
      "cell_type": "code",
      "execution_count": 124,
      "id": "6f5a4ab7",
      "metadata": {
        "id": "6f5a4ab7"
      },
      "outputs": [
        {
          "data": {
            "text/plain": [
              "0.3812273997018046"
            ]
          },
          "execution_count": 124,
          "metadata": {},
          "output_type": "execute_result"
        }
      ],
      "source": [
        "#instantiating object\n",
        "rf = RandomForestClassifier()\n",
        "#fitting the model\n",
        "rf.fit(X_train, y_train)\n",
        "#predicting\n",
        "y_pred_rf= rf.predict(X_test)\n",
        "#accuracy score\n",
        "rf_acc=accuracy_score(y_test, y_pred_rf)\n",
        "rf_acc"
      ]
    },
    {
      "cell_type": "code",
      "execution_count": 125,
      "id": "aFErxUOD6dMC",
      "metadata": {
        "colab": {
          "base_uri": "https://localhost:8080/"
        },
        "id": "aFErxUOD6dMC",
        "outputId": "29583337-d4fd-4371-f60d-a066da2b7c9d"
      },
      "outputs": [
        {
          "name": "stdout",
          "output_type": "stream",
          "text": [
            "Classification report is:\n",
            "              precision    recall  f1-score   support\n",
            "\n",
            "           0       0.29      0.18      0.22      4686\n",
            "           1       0.38      0.44      0.41     14716\n",
            "           2       0.41      0.53      0.46     16538\n",
            "           3       0.33      0.25      0.29     10163\n",
            "           4       0.09      0.02      0.04      2220\n",
            "           5       0.39      0.39      0.39      6076\n",
            "           6       0.41      0.28      0.34      3952\n",
            "\n",
            "    accuracy                           0.38     58351\n",
            "   macro avg       0.33      0.30      0.31     58351\n",
            "weighted avg       0.37      0.38      0.37     58351\n",
            "\n"
          ]
        }
      ],
      "source": [
        "class_report(y_test, y_pred_rf)"
      ]
    },
    {
      "cell_type": "markdown",
      "id": "xg5mtbR1OPuh",
      "metadata": {
        "id": "xg5mtbR1OPuh"
      },
      "source": [
        "## GradientBoost"
      ]
    },
    {
      "cell_type": "code",
      "execution_count": 126,
      "id": "QfYfahm-PVk9",
      "metadata": {
        "id": "QfYfahm-PVk9"
      },
      "outputs": [
        {
          "data": {
            "text/plain": [
              "0.4188617161659612"
            ]
          },
          "execution_count": 126,
          "metadata": {},
          "output_type": "execute_result"
        }
      ],
      "source": [
        "#instantiating the object\n",
        "grad_boost= GradientBoostingClassifier()\n",
        "#fitting the model\n",
        "grad_boost.fit(X_train, y_train)\n",
        "#predicting\n",
        "y_pred_grad_boost=grad_boost.predict(X_test)\n",
        "#accuracy score\n",
        "grad_boost_acc=accuracy_score(y_test, y_pred_grad_boost)\n",
        "grad_boost_acc"
      ]
    },
    {
      "cell_type": "code",
      "execution_count": 127,
      "id": "nqRQip56TTaz",
      "metadata": {
        "colab": {
          "base_uri": "https://localhost:8080/"
        },
        "id": "nqRQip56TTaz",
        "outputId": "5661ae02-e000-4247-9b66-4973cd896038"
      },
      "outputs": [
        {
          "name": "stdout",
          "output_type": "stream",
          "text": [
            "Classification report is:\n",
            "              precision    recall  f1-score   support\n",
            "\n",
            "           0       0.43      0.12      0.19      4686\n",
            "           1       0.41      0.52      0.46     14716\n",
            "           2       0.42      0.65      0.51     16538\n",
            "           3       0.42      0.20      0.27     10163\n",
            "           4       0.00      0.00      0.00      2220\n",
            "           5       0.40      0.45      0.42      6076\n",
            "           6       0.52      0.20      0.29      3952\n",
            "\n",
            "    accuracy                           0.42     58351\n",
            "   macro avg       0.37      0.31      0.31     58351\n",
            "weighted avg       0.41      0.42      0.39     58351\n",
            "\n"
          ]
        }
      ],
      "source": [
        "class_report(y_test, y_pred_grad_boost)"
      ]
    },
    {
      "cell_type": "markdown",
      "id": "dGAp6AP0V4wY",
      "metadata": {
        "id": "dGAp6AP0V4wY"
      },
      "source": [
        "## XGBoost"
      ]
    },
    {
      "cell_type": "code",
      "execution_count": 128,
      "id": "K1RggC5NWC_l",
      "metadata": {
        "id": "K1RggC5NWC_l"
      },
      "outputs": [
        {
          "data": {
            "text/plain": [
              "0.42604239858785625"
            ]
          },
          "execution_count": 128,
          "metadata": {},
          "output_type": "execute_result"
        }
      ],
      "source": [
        "#instantiating the object\n",
        "xgboost= XGBClassifier()\n",
        "#fitting the model\n",
        "xgboost.fit(X_train, y_train)\n",
        "#predicting\n",
        "y_pred_xgboost= xgboost.predict(X_test)\n",
        "#accuracy score\n",
        "xgboost_acc=accuracy_score(y_test, y_pred_xgboost)\n",
        "xgboost_acc"
      ]
    },
    {
      "cell_type": "code",
      "execution_count": 129,
      "id": "KDroeMn-Xuhg",
      "metadata": {
        "colab": {
          "base_uri": "https://localhost:8080/"
        },
        "id": "KDroeMn-Xuhg",
        "outputId": "1fef3de8-ef98-41e6-e20c-866e6c52778b"
      },
      "outputs": [
        {
          "name": "stdout",
          "output_type": "stream",
          "text": [
            "Classification report is:\n",
            "              precision    recall  f1-score   support\n",
            "\n",
            "           0       0.41      0.17      0.24      4686\n",
            "           1       0.42      0.50      0.46     14716\n",
            "           2       0.43      0.66      0.52     16538\n",
            "           3       0.43      0.22      0.29     10163\n",
            "           4       0.21      0.00      0.01      2220\n",
            "           5       0.42      0.42      0.42      6076\n",
            "           6       0.48      0.25      0.33      3952\n",
            "\n",
            "    accuracy                           0.43     58351\n",
            "   macro avg       0.40      0.32      0.32     58351\n",
            "weighted avg       0.42      0.43      0.40     58351\n",
            "\n"
          ]
        }
      ],
      "source": [
        "class_report(y_test, y_pred_xgboost)"
      ]
    },
    {
      "cell_type": "markdown",
      "id": "woTSyYQ0Yn07",
      "metadata": {
        "id": "woTSyYQ0Yn07"
      },
      "source": [
        "## ANN"
      ]
    },
    {
      "cell_type": "code",
      "execution_count": 130,
      "id": "2Umqh95pYt27",
      "metadata": {
        "colab": {
          "base_uri": "https://localhost:8080/"
        },
        "id": "2Umqh95pYt27",
        "outputId": "39d4cb64-ad87-464f-8efa-60803efe3358"
      },
      "outputs": [
        {
          "data": {
            "text/plain": [
              "0.3518877140066151"
            ]
          },
          "execution_count": 130,
          "metadata": {},
          "output_type": "execute_result"
        }
      ],
      "source": [
        "#instantiating the object\n",
        "ann= MLPClassifier(hidden_layer_sizes=(100,5),\n",
        "                       learning_rate_init=0.1,\n",
        "                       max_iter=100,\n",
        "                       random_state=42)\n",
        "#training the model\n",
        "ann.fit(X_train, y_train)\n",
        "#predicting\n",
        "y_pred_ann= ann.predict(X_test)\n",
        "#accuracy score\n",
        "ann_acc=accuracy_score(y_test, y_pred_ann)\n",
        "ann_acc"
      ]
    },
    {
      "cell_type": "code",
      "execution_count": 131,
      "id": "0v6OmHFbZToy",
      "metadata": {
        "colab": {
          "base_uri": "https://localhost:8080/"
        },
        "id": "0v6OmHFbZToy",
        "outputId": "45bc65ec-e7ab-44cb-b3db-9fe3a6c09021"
      },
      "outputs": [
        {
          "name": "stdout",
          "output_type": "stream",
          "text": [
            "Classification report is:\n",
            "              precision    recall  f1-score   support\n",
            "\n",
            "           0       0.00      0.00      0.00      4686\n",
            "           1       0.00      0.00      0.00     14716\n",
            "           2       0.36      0.96      0.52     16538\n",
            "           3       0.00      0.00      0.00     10163\n",
            "           4       0.00      0.00      0.00      2220\n",
            "           5       0.34      0.76      0.47      6076\n",
            "           6       0.00      0.00      0.00      3952\n",
            "\n",
            "    accuracy                           0.35     58351\n",
            "   macro avg       0.10      0.25      0.14     58351\n",
            "weighted avg       0.14      0.35      0.20     58351\n",
            "\n"
          ]
        }
      ],
      "source": [
        "class_report(y_test, y_pred_ann)"
      ]
    },
    {
      "cell_type": "code",
      "execution_count": null,
      "id": "YUBwiYwS5dvv",
      "metadata": {
        "id": "YUBwiYwS5dvv"
      },
      "outputs": [],
      "source": [
        "stopper"
      ]
    },
    {
      "cell_type": "markdown",
      "id": "nPH0iQlImsKt",
      "metadata": {
        "id": "nPH0iQlImsKt"
      },
      "source": [
        "# Model Result Compilation"
      ]
    },
    {
      "cell_type": "code",
      "execution_count": null,
      "id": "GQFbf4-cmpID",
      "metadata": {
        "id": "GQFbf4-cmpID"
      },
      "outputs": [],
      "source": [
        "from sklearn.model_selection import cross_val_score\n",
        "def classifiers_grid(train_data,train_lables):\n",
        "\n",
        "    grid_dict = {\n",
        "        'classifiers': ['Logistic_Regression', 'KNN', 'Decision_Tree', 'Random_Forest', 'Gradient Boost', 'XGBoost', 'ANN'],\n",
        "        'test_accuracy': [log_reg_acc, knn_acc, tree_acc, rf_acc, grad_boost_acc, xgboost_acc, ann_acc]\n",
        "    }\n",
        "\n",
        "    grid1 = pd.DataFrame.from_dict(grid_dict)\n",
        "    \n",
        "    # K-Fold Closs Validation K=3\n",
        "\n",
        "    classifiers =[log_reg, knn, tree, rf, grad_boost, xgboost, ann]\n",
        "\n",
        "    cv_dict ={}\n",
        "    class_names=['Logistic_Regression', 'KNN', 'Decision_Tree', 'Random_Forest', 'Gradient Boost', 'XGBoost', 'ANN']\n",
        "    mean_accuracy_list= []\n",
        "    std_dev_list=[]\n",
        "    for classifier in classifiers:\n",
        "        accuracy = cross_val_score(classifier, train_data, train_lables, cv=3, scoring='accuracy', n_jobs=-1)\n",
        "        mean_accuracy=np.mean(accuracy)\n",
        "        std_dev =np.std(accuracy)\n",
        "\n",
        "        mean_accuracy_list.append(mean_accuracy)\n",
        "        std_dev_list.append(std_dev)\n",
        "\n",
        "    cv_dict['classifiers']=class_names\n",
        "    cv_dict['mean_cross_valid_accuracy']=mean_accuracy_list\n",
        "    cv_dict['standard_deviation']=std_dev_list\n",
        "        \n",
        "\n",
        "    grid2= pd.DataFrame.from_dict(cv_dict)\n",
        "    \n",
        "    grid = grid1.merge(grid2, on=\"classifiers\", how=\"left\")\n",
        "\n",
        "    return grid"
      ]
    },
    {
      "cell_type": "code",
      "execution_count": null,
      "id": "ZHVOVRxUuc8M",
      "metadata": {
        "colab": {
          "base_uri": "https://localhost:8080/",
          "height": 269
        },
        "id": "ZHVOVRxUuc8M",
        "outputId": "3a35d6b8-321b-4d74-85f4-5739911548ef"
      },
      "outputs": [
        {
          "data": {
            "text/html": [
              "\n",
              "  <div id=\"df-6695afde-115a-458e-9821-4df0fb773fad\">\n",
              "    <div class=\"colab-df-container\">\n",
              "      <div>\n",
              "<style scoped>\n",
              "    .dataframe tbody tr th:only-of-type {\n",
              "        vertical-align: middle;\n",
              "    }\n",
              "\n",
              "    .dataframe tbody tr th {\n",
              "        vertical-align: top;\n",
              "    }\n",
              "\n",
              "    .dataframe thead th {\n",
              "        text-align: right;\n",
              "    }\n",
              "</style>\n",
              "<table border=\"1\" class=\"dataframe\">\n",
              "  <thead>\n",
              "    <tr style=\"text-align: right;\">\n",
              "      <th></th>\n",
              "      <th>classifiers</th>\n",
              "      <th>test_accuracy</th>\n",
              "      <th>mean_cross_valid_accuracy</th>\n",
              "      <th>standard_deviation</th>\n",
              "    </tr>\n",
              "  </thead>\n",
              "  <tbody>\n",
              "    <tr>\n",
              "      <th>0</th>\n",
              "      <td>Logistic_Regression</td>\n",
              "      <td>0.387626</td>\n",
              "      <td>0.391966</td>\n",
              "      <td>0.001952</td>\n",
              "    </tr>\n",
              "    <tr>\n",
              "      <th>1</th>\n",
              "      <td>KNN</td>\n",
              "      <td>0.364896</td>\n",
              "      <td>0.370576</td>\n",
              "      <td>0.000151</td>\n",
              "    </tr>\n",
              "    <tr>\n",
              "      <th>2</th>\n",
              "      <td>Decision_Tree</td>\n",
              "      <td>0.312710</td>\n",
              "      <td>0.304475</td>\n",
              "      <td>0.001412</td>\n",
              "    </tr>\n",
              "    <tr>\n",
              "      <th>3</th>\n",
              "      <td>Random_Forest</td>\n",
              "      <td>0.400807</td>\n",
              "      <td>0.400136</td>\n",
              "      <td>0.001760</td>\n",
              "    </tr>\n",
              "    <tr>\n",
              "      <th>4</th>\n",
              "      <td>Gradient Boost</td>\n",
              "      <td>0.427169</td>\n",
              "      <td>0.425390</td>\n",
              "      <td>0.002743</td>\n",
              "    </tr>\n",
              "    <tr>\n",
              "      <th>5</th>\n",
              "      <td>XGBoost</td>\n",
              "      <td>0.419502</td>\n",
              "      <td>0.426441</td>\n",
              "      <td>0.002446</td>\n",
              "    </tr>\n",
              "    <tr>\n",
              "      <th>6</th>\n",
              "      <td>ANN</td>\n",
              "      <td>0.377404</td>\n",
              "      <td>0.356575</td>\n",
              "      <td>0.033764</td>\n",
              "    </tr>\n",
              "  </tbody>\n",
              "</table>\n",
              "</div>\n",
              "      <button class=\"colab-df-convert\" onclick=\"convertToInteractive('df-6695afde-115a-458e-9821-4df0fb773fad')\"\n",
              "              title=\"Convert this dataframe to an interactive table.\"\n",
              "              style=\"display:none;\">\n",
              "        \n",
              "  <svg xmlns=\"http://www.w3.org/2000/svg\" height=\"24px\"viewBox=\"0 0 24 24\"\n",
              "       width=\"24px\">\n",
              "    <path d=\"M0 0h24v24H0V0z\" fill=\"none\"/>\n",
              "    <path d=\"M18.56 5.44l.94 2.06.94-2.06 2.06-.94-2.06-.94-.94-2.06-.94 2.06-2.06.94zm-11 1L8.5 8.5l.94-2.06 2.06-.94-2.06-.94L8.5 2.5l-.94 2.06-2.06.94zm10 10l.94 2.06.94-2.06 2.06-.94-2.06-.94-.94-2.06-.94 2.06-2.06.94z\"/><path d=\"M17.41 7.96l-1.37-1.37c-.4-.4-.92-.59-1.43-.59-.52 0-1.04.2-1.43.59L10.3 9.45l-7.72 7.72c-.78.78-.78 2.05 0 2.83L4 21.41c.39.39.9.59 1.41.59.51 0 1.02-.2 1.41-.59l7.78-7.78 2.81-2.81c.8-.78.8-2.07 0-2.86zM5.41 20L4 18.59l7.72-7.72 1.47 1.35L5.41 20z\"/>\n",
              "  </svg>\n",
              "      </button>\n",
              "      \n",
              "  <style>\n",
              "    .colab-df-container {\n",
              "      display:flex;\n",
              "      flex-wrap:wrap;\n",
              "      gap: 12px;\n",
              "    }\n",
              "\n",
              "    .colab-df-convert {\n",
              "      background-color: #E8F0FE;\n",
              "      border: none;\n",
              "      border-radius: 50%;\n",
              "      cursor: pointer;\n",
              "      display: none;\n",
              "      fill: #1967D2;\n",
              "      height: 32px;\n",
              "      padding: 0 0 0 0;\n",
              "      width: 32px;\n",
              "    }\n",
              "\n",
              "    .colab-df-convert:hover {\n",
              "      background-color: #E2EBFA;\n",
              "      box-shadow: 0px 1px 2px rgba(60, 64, 67, 0.3), 0px 1px 3px 1px rgba(60, 64, 67, 0.15);\n",
              "      fill: #174EA6;\n",
              "    }\n",
              "\n",
              "    [theme=dark] .colab-df-convert {\n",
              "      background-color: #3B4455;\n",
              "      fill: #D2E3FC;\n",
              "    }\n",
              "\n",
              "    [theme=dark] .colab-df-convert:hover {\n",
              "      background-color: #434B5C;\n",
              "      box-shadow: 0px 1px 3px 1px rgba(0, 0, 0, 0.15);\n",
              "      filter: drop-shadow(0px 1px 2px rgba(0, 0, 0, 0.3));\n",
              "      fill: #FFFFFF;\n",
              "    }\n",
              "  </style>\n",
              "\n",
              "      <script>\n",
              "        const buttonEl =\n",
              "          document.querySelector('#df-6695afde-115a-458e-9821-4df0fb773fad button.colab-df-convert');\n",
              "        buttonEl.style.display =\n",
              "          google.colab.kernel.accessAllowed ? 'block' : 'none';\n",
              "\n",
              "        async function convertToInteractive(key) {\n",
              "          const element = document.querySelector('#df-6695afde-115a-458e-9821-4df0fb773fad');\n",
              "          const dataTable =\n",
              "            await google.colab.kernel.invokeFunction('convertToInteractive',\n",
              "                                                     [key], {});\n",
              "          if (!dataTable) return;\n",
              "\n",
              "          const docLinkHtml = 'Like what you see? Visit the ' +\n",
              "            '<a target=\"_blank\" href=https://colab.research.google.com/notebooks/data_table.ipynb>data table notebook</a>'\n",
              "            + ' to learn more about interactive tables.';\n",
              "          element.innerHTML = '';\n",
              "          dataTable['output_type'] = 'display_data';\n",
              "          await google.colab.output.renderOutput(dataTable, element);\n",
              "          const docLink = document.createElement('div');\n",
              "          docLink.innerHTML = docLinkHtml;\n",
              "          element.appendChild(docLink);\n",
              "        }\n",
              "      </script>\n",
              "    </div>\n",
              "  </div>\n",
              "  "
            ],
            "text/plain": [
              "           classifiers  test_accuracy  mean_cross_valid_accuracy  \\\n",
              "0  Logistic_Regression       0.387626                   0.391966   \n",
              "1                  KNN       0.364896                   0.370576   \n",
              "2        Decision_Tree       0.312710                   0.304475   \n",
              "3        Random_Forest       0.400807                   0.400136   \n",
              "4       Gradient Boost       0.427169                   0.425390   \n",
              "5              XGBoost       0.419502                   0.426441   \n",
              "6                  ANN       0.377404                   0.356575   \n",
              "\n",
              "   standard_deviation  \n",
              "0            0.001952  \n",
              "1            0.000151  \n",
              "2            0.001412  \n",
              "3            0.001760  \n",
              "4            0.002743  \n",
              "5            0.002446  \n",
              "6            0.033764  "
            ]
          },
          "execution_count": 101,
          "metadata": {},
          "output_type": "execute_result"
        }
      ],
      "source": [
        "classifiers_grid(X_train, y_train)"
      ]
    },
    {
      "cell_type": "markdown",
      "id": "QqaL7gBGN9RA",
      "metadata": {
        "id": "QqaL7gBGN9RA"
      },
      "source": [
        "The first observation from the above grid is that the default accuracy is less that 50% for all the models ran with default parameters. Hence the dataset is not much supporting and complementing to the higher accuracy.\n",
        "\n",
        "The computational time required for SVM model is much higher, hence we have excluded SVC model.\n",
        "\n",
        "In order to increase the performance of out machine learning model, we would need to consider other features such as:\n",
        "\n",
        "Medical conditions and treatments: The severity of a patient's medical condition and the type of treatment required can greatly impact LOS. Patients with more complex or chronic conditions may require a longer stay in the hospital.\n",
        "\n",
        "Co-morbidities: Patients with multiple chronic conditions may require a longer stay in the hospital as they may be more prone to complications.\n",
        "\n",
        "Availability of resources: A lack of resources, such as beds or staff, can increase LOS.\n",
        "\n",
        "Insurance coverage: Insurance coverage and reimbursement policies can also affect LOS. Some insurance providers may limit the length of hospital stays, which can impact patient care.\n",
        "\n",
        "Patient preference: Some patients may prefer to stay in the hospital for a longer period, even if they are medically stable, in order to receive additional care and monitoring.\n",
        "\n",
        "Hospital policies and procedures: Hospital policies and procedures, such as discharge planning, can also affect LOS. A well-coordinated discharge process can help reduce LOS and improve patient outcomes.\n",
        "\n",
        "Social and environmental factors: Patients' social and environmental factors, such as their living situation, support network, and access to transportation, can also impact LOS.\n",
        "\n",
        "Quality of care: The quality of care a patient receives can also impact LOS. Patients who receive high-quality care may be able to leave the hospital sooner, while those who receive substandard care may experience delays or complications that prolong their stay.\n"
      ]
    },
    {
      "cell_type": "markdown",
      "id": "725fX3l3RHM4",
      "metadata": {
        "id": "725fX3l3RHM4"
      },
      "source": [
        "Top performing classifiers on the given dataset are Gradient Boost and XGBoost. When we run the basic models with default parameters, the maximum test accuracy obtained were around to 40% for each. Cross validation scores of the models are also 40% with low standard deviation which suggests that the variance of the model to the new queries is significanlty less. "
      ]
    },
    {
      "cell_type": "markdown",
      "id": "4VBISJAxS8CA",
      "metadata": {
        "id": "4VBISJAxS8CA"
      },
      "source": [
        "For model selection, we will do the hyper-parameter tuning. It might improve the accuracy score and in turn helps us selecting model with highest accuracy score"
      ]
    },
    {
      "cell_type": "code",
      "execution_count": null,
      "id": "OWhkLZe75Xje",
      "metadata": {
        "id": "OWhkLZe75Xje"
      },
      "outputs": [],
      "source": [
        "stopper"
      ]
    },
    {
      "cell_type": "markdown",
      "id": "ykVj-rC1TJs4",
      "metadata": {
        "id": "ykVj-rC1TJs4"
      },
      "source": [
        "# Hyper-parameter Tuning"
      ]
    },
    {
      "cell_type": "markdown",
      "id": "g8v5AWbxR7pg",
      "metadata": {
        "id": "g8v5AWbxR7pg"
      },
      "source": [
        "Since the dataset is considerably large, it will take a many hours of time to find best parameters using GridSearchCV because it performs an exhaustive search over specified parameter values for an estimator. Insead we will use RandomizedSearchCV. Instead of exhaustively searching over all possible combinations of hyperparameters, RandomizedSearchCV samples a random subset of combinations, making it a more computationally efficient alternative to GridSearchCV. "
      ]
    },
    {
      "cell_type": "markdown",
      "id": "3SjuRpZATyiK",
      "metadata": {
        "id": "3SjuRpZATyiK"
      },
      "source": [
        "## Gradient Boosting"
      ]
    },
    {
      "cell_type": "code",
      "execution_count": null,
      "id": "Hq5CFcsvVTvF",
      "metadata": {
        "id": "Hq5CFcsvVTvF"
      },
      "outputs": [],
      "source": [
        "## THIS CELL WILL TAKE MORE THAN AN HOUR TO EXECUTE\n",
        "from sklearn.model_selection import RandomizedSearchCV\n",
        "\n",
        "# parameter grid\n",
        "param_dist = {\n",
        "    'n_estimators': np.arange(100, 1000, 100),\n",
        "    'max_depth': np.arange(1, 10),\n",
        "    'learning_rate': np.logspace(-3, -1, 5),\n",
        "    'subsample': np.linspace(0.1, 1, 10),\n",
        "    'min_samples_split': np.arange(2, 10),\n",
        "    'min_samples_leaf': np.arange(1, 10),\n",
        "    'max_features': ['auto', 'sqrt', 'log2', None],\n",
        "    'loss': ['deviance', 'exponential']\n",
        "}\n",
        "\n",
        "# Initialize the gradient boosting classifier\n",
        "gbc = GradientBoostingClassifier(random_state=42)\n",
        "\n",
        "# Initialize the randomized search\n",
        "n_iter = 25\n",
        "random_search = RandomizedSearchCV(gbc, param_distributions=param_dist, n_iter=n_iter, cv=3, verbose=2, scoring='accuracy', random_state=42)\n",
        "\n",
        "# Fit the randomized search to the data\n",
        "random_search.fit(X_train, y_train)\n",
        "\n",
        "# Print the best hyperparameters found during the search\n",
        "print(\"Best hyperparameters: \", random_search.best_params_)\n"
      ]
    },
    {
      "cell_type": "code",
      "execution_count": null,
      "id": "7wEtXh0UJc0q",
      "metadata": {
        "id": "7wEtXh0UJc0q"
      },
      "outputs": [],
      "source": [
        "best_params_gbc= random_search.best_params_\n",
        "\n",
        "gbc_final = GradientBoostingClassifier(**best_params_gbc)\n",
        "gbc_final.fit(X_train, y_train)\n",
        "y_pred_gbc_final= gbc_final.predict(X_test)"
      ]
    },
    {
      "cell_type": "code",
      "execution_count": null,
      "id": "meuU7DfXRbfi",
      "metadata": {
        "id": "meuU7DfXRbfi"
      },
      "outputs": [],
      "source": [
        "class_report(y_test, y_pred_gbc_final)"
      ]
    },
    {
      "cell_type": "markdown",
      "id": "6XXciEAhTRGH",
      "metadata": {
        "id": "6XXciEAhTRGH"
      },
      "source": [
        "After finding the best parameters using the RandomizedSearchCV, the accuracy of the model has increased from 40% to 41%"
      ]
    },
    {
      "cell_type": "markdown",
      "id": "tN_GCoAOTlj8",
      "metadata": {
        "id": "tN_GCoAOTlj8"
      },
      "source": [
        "## XGBoost"
      ]
    },
    {
      "cell_type": "code",
      "execution_count": null,
      "id": "RydhPv7QTO1a",
      "metadata": {
        "id": "RydhPv7QTO1a"
      },
      "outputs": [],
      "source": [
        "## THIS CELL WILL TAKE MORE THAN AN HOUR TO EXECUTE\n",
        "from sklearn.model_selection import RandomizedSearchCV\n",
        "\n",
        "param_grid = {\n",
        "    'learning_rate': np.logspace(-3, -1, 5), \n",
        "    'n_estimator': np.arange(150, 1000, 100),\n",
        "    'max_depth' : np.arange(1,15),\n",
        "    'gamma': [0, 0.1, 0.2, 0.5],\n",
        "    'reg_alpha': [0, 0.1, 0.5, 1.0],\n",
        "    'reg_lambda': [0, 0.1, 0.5, 1.0],\n",
        "    'subsample': np.linspace(0.1, 1, 10)\n",
        "}\n",
        "\n",
        "xgb_final = XGBClassifier(random_state=42)\n",
        "\n",
        "random_search_xgb = RandomizedSearchCV(xgb_final, param_grid, n_iter= 25, cv=3, scoring=\"accuracy\", verbose=2, n_jobs=-1, random_state=42)\n",
        "\n",
        "random_search_xgb.fit(X_train, y_train)\n",
        "\n",
        "best_params_xgb = random_search_xgb.best_params_\n",
        "\n",
        "print(\"best parameters are: \", best_params_xgb)"
      ]
    },
    {
      "cell_type": "code",
      "execution_count": null,
      "id": "oluWAUr8uLVJ",
      "metadata": {
        "id": "oluWAUr8uLVJ"
      },
      "outputs": [],
      "source": [
        "#original best params\n",
        "best_params_xgb={'subsample': 0.9, 'reg_lambda': 0.1, 'reg_alpha': 1.0, 'n_estimator': 750, 'max_depth': 5, 'learning_rate': 0.1, 'gamma': 0}\n",
        "#params with less trees giving same accuracy\n",
        "best_params_xgb1={'subsample': 0.9, 'reg_lambda': 0.1, 'reg_alpha': 1.0, 'n_estimator': 100, 'max_depth': 5, 'learning_rate': 0.1, 'gamma': 0}"
      ]
    },
    {
      "cell_type": "code",
      "execution_count": null,
      "id": "wnFdVPlHUQsa",
      "metadata": {
        "colab": {
          "base_uri": "https://localhost:8080/"
        },
        "id": "wnFdVPlHUQsa",
        "outputId": "d37125bf-eda1-4c3a-cb2a-8fa134a7fe4d"
      },
      "outputs": [
        {
          "name": "stdout",
          "output_type": "stream",
          "text": [
            "[18:27:50] WARNING: /Users/runner/work/xgboost/xgboost/python-package/build/temp.macosx-10.9-x86_64-cpython-38/xgboost/src/learner.cc:767: \n",
            "Parameters: { \"n_estimator\" } are not used.\n",
            "\n"
          ]
        },
        {
          "data": {
            "text/html": [
              "<style>#sk-container-id-1 {color: black;background-color: white;}#sk-container-id-1 pre{padding: 0;}#sk-container-id-1 div.sk-toggleable {background-color: white;}#sk-container-id-1 label.sk-toggleable__label {cursor: pointer;display: block;width: 100%;margin-bottom: 0;padding: 0.3em;box-sizing: border-box;text-align: center;}#sk-container-id-1 label.sk-toggleable__label-arrow:before {content: \"▸\";float: left;margin-right: 0.25em;color: #696969;}#sk-container-id-1 label.sk-toggleable__label-arrow:hover:before {color: black;}#sk-container-id-1 div.sk-estimator:hover label.sk-toggleable__label-arrow:before {color: black;}#sk-container-id-1 div.sk-toggleable__content {max-height: 0;max-width: 0;overflow: hidden;text-align: left;background-color: #f0f8ff;}#sk-container-id-1 div.sk-toggleable__content pre {margin: 0.2em;color: black;border-radius: 0.25em;background-color: #f0f8ff;}#sk-container-id-1 input.sk-toggleable__control:checked~div.sk-toggleable__content {max-height: 200px;max-width: 100%;overflow: auto;}#sk-container-id-1 input.sk-toggleable__control:checked~label.sk-toggleable__label-arrow:before {content: \"▾\";}#sk-container-id-1 div.sk-estimator input.sk-toggleable__control:checked~label.sk-toggleable__label {background-color: #d4ebff;}#sk-container-id-1 div.sk-label input.sk-toggleable__control:checked~label.sk-toggleable__label {background-color: #d4ebff;}#sk-container-id-1 input.sk-hidden--visually {border: 0;clip: rect(1px 1px 1px 1px);clip: rect(1px, 1px, 1px, 1px);height: 1px;margin: -1px;overflow: hidden;padding: 0;position: absolute;width: 1px;}#sk-container-id-1 div.sk-estimator {font-family: monospace;background-color: #f0f8ff;border: 1px dotted black;border-radius: 0.25em;box-sizing: border-box;margin-bottom: 0.5em;}#sk-container-id-1 div.sk-estimator:hover {background-color: #d4ebff;}#sk-container-id-1 div.sk-parallel-item::after {content: \"\";width: 100%;border-bottom: 1px solid gray;flex-grow: 1;}#sk-container-id-1 div.sk-label:hover label.sk-toggleable__label {background-color: #d4ebff;}#sk-container-id-1 div.sk-serial::before {content: \"\";position: absolute;border-left: 1px solid gray;box-sizing: border-box;top: 0;bottom: 0;left: 50%;z-index: 0;}#sk-container-id-1 div.sk-serial {display: flex;flex-direction: column;align-items: center;background-color: white;padding-right: 0.2em;padding-left: 0.2em;position: relative;}#sk-container-id-1 div.sk-item {position: relative;z-index: 1;}#sk-container-id-1 div.sk-parallel {display: flex;align-items: stretch;justify-content: center;background-color: white;position: relative;}#sk-container-id-1 div.sk-item::before, #sk-container-id-1 div.sk-parallel-item::before {content: \"\";position: absolute;border-left: 1px solid gray;box-sizing: border-box;top: 0;bottom: 0;left: 50%;z-index: -1;}#sk-container-id-1 div.sk-parallel-item {display: flex;flex-direction: column;z-index: 1;position: relative;background-color: white;}#sk-container-id-1 div.sk-parallel-item:first-child::after {align-self: flex-end;width: 50%;}#sk-container-id-1 div.sk-parallel-item:last-child::after {align-self: flex-start;width: 50%;}#sk-container-id-1 div.sk-parallel-item:only-child::after {width: 0;}#sk-container-id-1 div.sk-dashed-wrapped {border: 1px dashed gray;margin: 0 0.4em 0.5em 0.4em;box-sizing: border-box;padding-bottom: 0.4em;background-color: white;}#sk-container-id-1 div.sk-label label {font-family: monospace;font-weight: bold;display: inline-block;line-height: 1.2em;}#sk-container-id-1 div.sk-label-container {text-align: center;}#sk-container-id-1 div.sk-container {/* jupyter's `normalize.less` sets `[hidden] { display: none; }` but bootstrap.min.css set `[hidden] { display: none !important; }` so we also need the `!important` here to be able to override the default hidden behavior on the sphinx rendered scikit-learn.org. See: https://github.com/scikit-learn/scikit-learn/issues/21755 */display: inline-block !important;position: relative;}#sk-container-id-1 div.sk-text-repr-fallback {display: none;}</style><div id=\"sk-container-id-1\" class=\"sk-top-container\"><div class=\"sk-text-repr-fallback\"><pre>XGBClassifier(base_score=0.5, booster=&#x27;gbtree&#x27;, callbacks=None,\n",
              "              colsample_bylevel=1, colsample_bynode=1, colsample_bytree=1,\n",
              "              early_stopping_rounds=None, enable_categorical=False,\n",
              "              eval_metric=None, feature_types=None, gamma=0, gpu_id=-1,\n",
              "              grow_policy=&#x27;depthwise&#x27;, importance_type=None,\n",
              "              interaction_constraints=&#x27;&#x27;, learning_rate=0.1, max_bin=256,\n",
              "              max_cat_threshold=64, max_cat_to_onehot=4, max_delta_step=0,\n",
              "              max_depth=5, max_leaves=0, min_child_weight=1, missing=nan,\n",
              "              monotone_constraints=&#x27;()&#x27;, n_estimator=100, n_estimators=100,\n",
              "              n_jobs=0, num_parallel_tree=1, objective=&#x27;multi:softprob&#x27;, ...)</pre><b>In a Jupyter environment, please rerun this cell to show the HTML representation or trust the notebook. <br />On GitHub, the HTML representation is unable to render, please try loading this page with nbviewer.org.</b></div><div class=\"sk-container\" hidden><div class=\"sk-item\"><div class=\"sk-estimator sk-toggleable\"><input class=\"sk-toggleable__control sk-hidden--visually\" id=\"sk-estimator-id-1\" type=\"checkbox\" checked><label for=\"sk-estimator-id-1\" class=\"sk-toggleable__label sk-toggleable__label-arrow\">XGBClassifier</label><div class=\"sk-toggleable__content\"><pre>XGBClassifier(base_score=0.5, booster=&#x27;gbtree&#x27;, callbacks=None,\n",
              "              colsample_bylevel=1, colsample_bynode=1, colsample_bytree=1,\n",
              "              early_stopping_rounds=None, enable_categorical=False,\n",
              "              eval_metric=None, feature_types=None, gamma=0, gpu_id=-1,\n",
              "              grow_policy=&#x27;depthwise&#x27;, importance_type=None,\n",
              "              interaction_constraints=&#x27;&#x27;, learning_rate=0.1, max_bin=256,\n",
              "              max_cat_threshold=64, max_cat_to_onehot=4, max_delta_step=0,\n",
              "              max_depth=5, max_leaves=0, min_child_weight=1, missing=nan,\n",
              "              monotone_constraints=&#x27;()&#x27;, n_estimator=100, n_estimators=100,\n",
              "              n_jobs=0, num_parallel_tree=1, objective=&#x27;multi:softprob&#x27;, ...)</pre></div></div></div></div></div>"
            ],
            "text/plain": [
              "XGBClassifier(base_score=0.5, booster='gbtree', callbacks=None,\n",
              "              colsample_bylevel=1, colsample_bynode=1, colsample_bytree=1,\n",
              "              early_stopping_rounds=None, enable_categorical=False,\n",
              "              eval_metric=None, feature_types=None, gamma=0, gpu_id=-1,\n",
              "              grow_policy='depthwise', importance_type=None,\n",
              "              interaction_constraints='', learning_rate=0.1, max_bin=256,\n",
              "              max_cat_threshold=64, max_cat_to_onehot=4, max_delta_step=0,\n",
              "              max_depth=5, max_leaves=0, min_child_weight=1, missing=nan,\n",
              "              monotone_constraints='()', n_estimator=100, n_estimators=100,\n",
              "              n_jobs=0, num_parallel_tree=1, objective='multi:softprob', ...)"
            ]
          },
          "execution_count": 87,
          "metadata": {},
          "output_type": "execute_result"
        }
      ],
      "source": [
        "from xgboost import XGBClassifier\n",
        "xgb_final = XGBClassifier(**best_params_xgb1)\n",
        "xgb_final.fit(X_train, y_train)"
      ]
    },
    {
      "cell_type": "code",
      "execution_count": null,
      "id": "H2ckGM5qd6Bs",
      "metadata": {
        "id": "H2ckGM5qd6Bs"
      },
      "outputs": [],
      "source": [
        "y_pred_xgb_final= xgb_final.predict(X_test)"
      ]
    },
    {
      "cell_type": "code",
      "execution_count": null,
      "id": "dtds8LC7eGyA",
      "metadata": {
        "colab": {
          "base_uri": "https://localhost:8080/"
        },
        "id": "dtds8LC7eGyA",
        "outputId": "53f3c8ae-365f-4507-e77c-58ba0a98a7e3"
      },
      "outputs": [
        {
          "name": "stdout",
          "output_type": "stream",
          "text": [
            "Accuracy score is: 0.41951894023455505\n",
            "======================================================\n",
            "Classification report is:\n",
            "              precision    recall  f1-score   support\n",
            "\n",
            "           0       0.42      0.13      0.20      4702\n",
            "           1       0.42      0.52      0.46     14762\n",
            "           2       0.43      0.65      0.52     16638\n",
            "           3       0.43      0.22      0.29     10198\n",
            "           4       0.00      0.00      0.00      2234\n",
            "           5       0.40      0.49      0.44      6083\n",
            "           6       0.00      0.00      0.00       454\n",
            "           7       0.00      0.00      0.00      1710\n",
            "           8       0.37      0.20      0.25       701\n",
            "           9       0.00      0.00      0.00       435\n",
            "          10       0.39      0.06      0.11       662\n",
            "\n",
            "    accuracy                           0.42     58579\n",
            "   macro avg       0.26      0.21      0.21     58579\n",
            "weighted avg       0.38      0.42      0.38     58579\n",
            "\n"
          ]
        }
      ],
      "source": [
        "class_report(y_test, y_pred_xgb_final)"
      ]
    },
    {
      "cell_type": "markdown",
      "id": "p_2SU4Vjefig",
      "metadata": {
        "id": "p_2SU4Vjefig"
      },
      "source": [
        "The accuracy score of XGBOost classifer with selection of best parameters is also increased from 40% to 42%"
      ]
    },
    {
      "cell_type": "markdown",
      "id": "f63b5dcc",
      "metadata": {
        "id": "f63b5dcc"
      },
      "source": [
        "The choice between Gradient Boosting and XGBoost may come down to the specific requirements of the project. While both models deliver similar accuracy scores, there are a few key differences between the two algorithms:\n",
        "\n",
        "Training Time: XGBoost is generally faster than Gradient Boosting due to its optimized parallel processing capabilities and efficient data structure.\n",
        "\n",
        "Memory Usage: XGBoost is more memory efficient than Gradient Boosting as it handles the trees in a more compact representation.\n",
        "\n",
        "Robustness to Overfitting: XGBoost has a variety of built-in regularization options, such as tree pruning and feature sub-sampling, which can help prevent overfitting.\n",
        "\n",
        "In conclusion, there is a lot of data to process, XGBoost is a better choice and hence is selected as our machine learning model for the project."
      ]
    },
    {
      "cell_type": "markdown",
      "id": "UlQ-_70zn1t6",
      "metadata": {
        "id": "UlQ-_70zn1t6"
      },
      "source": [
        "# Recommendations"
      ]
    },
    {
      "cell_type": "markdown",
      "id": "s5Ki4cBKjfhL",
      "metadata": {
        "id": "s5Ki4cBKjfhL"
      },
      "source": [
        "Even after hyperparameter tuning, the accuracy score is very low close to 41%. Some reasons for the low accuracy score are:\n",
        "\n",
        "- Domain knowledge: We need to gather more knowledge around the dataset. It contain several features such as hospital region code, hospital code, hospital type code, ward type, city code patient etc. which do not directly imply how they are affecting the target variables. We need more information about them.\n",
        "\n",
        "- Data distribution: class imbalance has dominating effect on the performance. It can be seen that when we reduce the number of target classes, the accuracy score of the model tends to increase. However, if we widen the group the size in the target variable, it reduces the preciseness of the prediction. In the backend, we have run the models using multiple combinations of target variable group. We have experimented by creating following labels groups\n",
        "\n",
        "'labels1': It is the normal labelling that we have used during initial development of our model. ie. each target category is separately labelled from 0 to 10.\n",
        "\n",
        "'labels2': Hospital stay till 10 days is categorized in first group, stay till 11 to 50 days is assigned with second group, 51 to 80 is with third group and more than 80 days is with fourth group\n",
        "\n",
        "'labels3': Sequencially grouped with size of 30 days. ie. 0 to 30 days in first group, 31 to 60 days in second group, 61 to 90 days in third group and more than 90 days in fourth group.\n",
        "\n",
        "'labels4': Sequencially grouped with size of 20 days. ie. 0 to 20 days in first group, 21 to 40 days in second group, 41 to 60 days in third group, and more than 60 days in fourth group\n",
        "\n",
        "- We have created a function 'experimenting_group' which takes target labels as argument and return accuracy scores of different models. Using this function we will create another grid which helps us compare and understand the performance of the models when we used different target labels."
      ]
    },
    {
      "cell_type": "code",
      "execution_count": 132,
      "id": "BKEBuHBQfFzg",
      "metadata": {
        "id": "BKEBuHBQfFzg"
      },
      "outputs": [],
      "source": [
        "def experimenting_group(target_labels):\n",
        "  '''The function returns accuracy scores of different models'''\n",
        "\n",
        "  # Reassigning train and test data\n",
        "  train_data1=strat_train_set.drop('stay', axis=1)\n",
        "  train_labels1=strat_train_set[['stay']]\n",
        "\n",
        "  test_data1=strat_test_set.drop('stay', axis=1)\n",
        "  test_labels1=strat_test_set[['stay']]\n",
        "\n",
        "  # assigning new labels to train and test targets\n",
        "  train_labels1['stay']= train_labels1['stay'].replace(target_labels)\n",
        "  test_labels1['stay']=test_labels1['stay'].replace(target_labels)\n",
        "\n",
        "  # Encoding\n",
        "  # list of columns for encoding\n",
        "  cols=['hospital_type_code', 'hospital_region_code', 'department', 'ward_type', 'ward_facility_code', 'type_of_admission', 'severity_of_illness', 'age']\n",
        "\n",
        "  # train set encoding\n",
        "  train_data1[cols]=encoder.fit_transform(train_data1[cols])\n",
        "\n",
        "  # test set encoding\n",
        "  test_data1[cols]=encoder.transform(test_data1[cols])\n",
        "\n",
        "  # Scaling\n",
        "  train_data_scaled1=scaler.fit_transform(train_data1)\n",
        "  test_data_scaled1=scaler.transform(test_data1)\n",
        "\n",
        "\n",
        "  # Model Development\n",
        "  X_train1=train_data_scaled1.copy()\n",
        "  y_train1= train_labels1.copy()\n",
        "\n",
        "  X_test1=test_data_scaled1.copy()\n",
        "  y_test1=test_labels1.copy()\n",
        "\n",
        "\n",
        "  # Logistic Regression\n",
        "  log_reg.fit(X_train1, y_train1)\n",
        "  y_pred_log_reg1= log_reg.predict(X_test1)\n",
        "  log_reg_acc1=accuracy_score(y_test1, y_pred_log_reg1)\n",
        "\n",
        "\n",
        "  # KNN\n",
        "  knn.fit(X_train1, y_train1)\n",
        "  y_pred_knn1=knn.predict(X_test1)\n",
        "  knn_acc1=accuracy_score(y_test1, y_pred_knn1)\n",
        "\n",
        "  # Decision Tree\n",
        "  tree.fit(X_train1, y_train1)\n",
        "  y_pred_tree1= tree.predict(X_test1)\n",
        "  tree_acc1=accuracy_score(y_test1, y_pred_tree1)\n",
        "\n",
        "\n",
        "  # Random Forest\n",
        "  rf.fit(X_train1, y_train1)\n",
        "  y_pred_rf1= rf.predict(X_test1)\n",
        "  rf_acc1=accuracy_score(y_test1, y_pred_rf1)\n",
        "\n",
        "\n",
        "  # Gradient Boosing\n",
        "  grad_boost.fit(X_train1, y_train1)\n",
        "  y_pred_grad_boost1=grad_boost.predict(X_test1)\n",
        "  grad_boost_acc1=accuracy_score(y_test1, y_pred_grad_boost1)\n",
        "\n",
        "\n",
        "  # XGBoost\n",
        "  xgboost.fit(X_train1, y_train1)\n",
        "  y_pred_xgboost1= xgboost.predict(X_test1)\n",
        "  xgboost_acc1=accuracy_score(y_test1, y_pred_xgboost1)\n",
        "\n",
        "\n",
        "  # ANN\n",
        "  ann.fit(X_train1, y_train1)\n",
        "  y_pred_ann1= ann.predict(X_test1)\n",
        "  ann_acc1=accuracy_score(y_test1, y_pred_ann1)\n",
        "  \n",
        "  accuracy= [log_reg_acc1, knn_acc1, tree_acc1, rf_acc1, grad_boost_acc1, xgboost_acc1, ann_acc1]\n",
        "    \n",
        "  return accuracy\n"
      ]
    },
    {
      "cell_type": "code",
      "execution_count": 134,
      "id": "bNn1_xihGa5w",
      "metadata": {
        "id": "bNn1_xihGa5w"
      },
      "outputs": [
        {
          "ename": "KeyboardInterrupt",
          "evalue": "",
          "output_type": "error",
          "traceback": [
            "\u001b[0;31m---------------------------------------------------------------------------\u001b[0m",
            "\u001b[0;31mKeyboardInterrupt\u001b[0m                         Traceback (most recent call last)",
            "\u001b[0;32m/var/folders/n0/s9fgc6f50t52rltt7_gdn9cm0000gn/T/ipykernel_1203/3004348011.py\u001b[0m in \u001b[0;36m<module>\u001b[0;34m\u001b[0m\n\u001b[1;32m     12\u001b[0m \u001b[0;32mfor\u001b[0m \u001b[0mlabel\u001b[0m \u001b[0;32min\u001b[0m \u001b[0mtarget_labels\u001b[0m\u001b[0;34m:\u001b[0m\u001b[0;34m\u001b[0m\u001b[0;34m\u001b[0m\u001b[0m\n\u001b[1;32m     13\u001b[0m \u001b[0;34m\u001b[0m\u001b[0m\n\u001b[0;32m---> 14\u001b[0;31m   \u001b[0macc_score\u001b[0m\u001b[0;34m=\u001b[0m \u001b[0mexperimenting_group\u001b[0m\u001b[0;34m(\u001b[0m\u001b[0mlabels\u001b[0m\u001b[0;34m[\u001b[0m\u001b[0mlabel\u001b[0m\u001b[0;34m]\u001b[0m\u001b[0;34m)\u001b[0m\u001b[0;34m\u001b[0m\u001b[0;34m\u001b[0m\u001b[0m\n\u001b[0m\u001b[1;32m     15\u001b[0m \u001b[0;34m\u001b[0m\u001b[0m\n\u001b[1;32m     16\u001b[0m   \u001b[0mbase\u001b[0m\u001b[0;34m[\u001b[0m\u001b[0mlabel\u001b[0m\u001b[0;34m]\u001b[0m\u001b[0;34m=\u001b[0m\u001b[0macc_score\u001b[0m\u001b[0;34m\u001b[0m\u001b[0;34m\u001b[0m\u001b[0m\n",
            "\u001b[0;32m/var/folders/n0/s9fgc6f50t52rltt7_gdn9cm0000gn/T/ipykernel_1203/2683117333.py\u001b[0m in \u001b[0;36mexperimenting_group\u001b[0;34m(target_labels)\u001b[0m\n\u001b[1;32m     54\u001b[0m \u001b[0;34m\u001b[0m\u001b[0m\n\u001b[1;32m     55\u001b[0m   \u001b[0;31m# Random Forest\u001b[0m\u001b[0;34m\u001b[0m\u001b[0;34m\u001b[0m\u001b[0m\n\u001b[0;32m---> 56\u001b[0;31m   \u001b[0mrf\u001b[0m\u001b[0;34m.\u001b[0m\u001b[0mfit\u001b[0m\u001b[0;34m(\u001b[0m\u001b[0mX_train1\u001b[0m\u001b[0;34m,\u001b[0m \u001b[0my_train1\u001b[0m\u001b[0;34m)\u001b[0m\u001b[0;34m\u001b[0m\u001b[0;34m\u001b[0m\u001b[0m\n\u001b[0m\u001b[1;32m     57\u001b[0m   \u001b[0my_pred_rf1\u001b[0m\u001b[0;34m=\u001b[0m \u001b[0mrf\u001b[0m\u001b[0;34m.\u001b[0m\u001b[0mpredict\u001b[0m\u001b[0;34m(\u001b[0m\u001b[0mX_test1\u001b[0m\u001b[0;34m)\u001b[0m\u001b[0;34m\u001b[0m\u001b[0;34m\u001b[0m\u001b[0m\n\u001b[1;32m     58\u001b[0m   \u001b[0mrf_acc1\u001b[0m\u001b[0;34m=\u001b[0m\u001b[0maccuracy_score\u001b[0m\u001b[0;34m(\u001b[0m\u001b[0my_test1\u001b[0m\u001b[0;34m,\u001b[0m \u001b[0my_pred_rf1\u001b[0m\u001b[0;34m)\u001b[0m\u001b[0;34m\u001b[0m\u001b[0;34m\u001b[0m\u001b[0m\n",
            "\u001b[0;32m~/opt/anaconda3/lib/python3.9/site-packages/sklearn/ensemble/_forest.py\u001b[0m in \u001b[0;36mfit\u001b[0;34m(self, X, y, sample_weight)\u001b[0m\n\u001b[1;32m    472\u001b[0m             \u001b[0;31m# parallel_backend contexts set at a higher level,\u001b[0m\u001b[0;34m\u001b[0m\u001b[0;34m\u001b[0m\u001b[0m\n\u001b[1;32m    473\u001b[0m             \u001b[0;31m# since correctness does not rely on using threads.\u001b[0m\u001b[0;34m\u001b[0m\u001b[0;34m\u001b[0m\u001b[0m\n\u001b[0;32m--> 474\u001b[0;31m             trees = Parallel(\n\u001b[0m\u001b[1;32m    475\u001b[0m                 \u001b[0mn_jobs\u001b[0m\u001b[0;34m=\u001b[0m\u001b[0mself\u001b[0m\u001b[0;34m.\u001b[0m\u001b[0mn_jobs\u001b[0m\u001b[0;34m,\u001b[0m\u001b[0;34m\u001b[0m\u001b[0;34m\u001b[0m\u001b[0m\n\u001b[1;32m    476\u001b[0m                 \u001b[0mverbose\u001b[0m\u001b[0;34m=\u001b[0m\u001b[0mself\u001b[0m\u001b[0;34m.\u001b[0m\u001b[0mverbose\u001b[0m\u001b[0;34m,\u001b[0m\u001b[0;34m\u001b[0m\u001b[0;34m\u001b[0m\u001b[0m\n",
            "\u001b[0;32m~/opt/anaconda3/lib/python3.9/site-packages/joblib/parallel.py\u001b[0m in \u001b[0;36m__call__\u001b[0;34m(self, iterable)\u001b[0m\n\u001b[1;32m   1086\u001b[0m                 \u001b[0mself\u001b[0m\u001b[0;34m.\u001b[0m\u001b[0m_iterating\u001b[0m \u001b[0;34m=\u001b[0m \u001b[0mself\u001b[0m\u001b[0;34m.\u001b[0m\u001b[0m_original_iterator\u001b[0m \u001b[0;32mis\u001b[0m \u001b[0;32mnot\u001b[0m \u001b[0;32mNone\u001b[0m\u001b[0;34m\u001b[0m\u001b[0;34m\u001b[0m\u001b[0m\n\u001b[1;32m   1087\u001b[0m \u001b[0;34m\u001b[0m\u001b[0m\n\u001b[0;32m-> 1088\u001b[0;31m             \u001b[0;32mwhile\u001b[0m \u001b[0mself\u001b[0m\u001b[0;34m.\u001b[0m\u001b[0mdispatch_one_batch\u001b[0m\u001b[0;34m(\u001b[0m\u001b[0miterator\u001b[0m\u001b[0;34m)\u001b[0m\u001b[0;34m:\u001b[0m\u001b[0;34m\u001b[0m\u001b[0;34m\u001b[0m\u001b[0m\n\u001b[0m\u001b[1;32m   1089\u001b[0m                 \u001b[0;32mpass\u001b[0m\u001b[0;34m\u001b[0m\u001b[0;34m\u001b[0m\u001b[0m\n\u001b[1;32m   1090\u001b[0m \u001b[0;34m\u001b[0m\u001b[0m\n",
            "\u001b[0;32m~/opt/anaconda3/lib/python3.9/site-packages/joblib/parallel.py\u001b[0m in \u001b[0;36mdispatch_one_batch\u001b[0;34m(self, iterator)\u001b[0m\n\u001b[1;32m    899\u001b[0m                 \u001b[0;32mreturn\u001b[0m \u001b[0;32mFalse\u001b[0m\u001b[0;34m\u001b[0m\u001b[0;34m\u001b[0m\u001b[0m\n\u001b[1;32m    900\u001b[0m             \u001b[0;32melse\u001b[0m\u001b[0;34m:\u001b[0m\u001b[0;34m\u001b[0m\u001b[0;34m\u001b[0m\u001b[0m\n\u001b[0;32m--> 901\u001b[0;31m                 \u001b[0mself\u001b[0m\u001b[0;34m.\u001b[0m\u001b[0m_dispatch\u001b[0m\u001b[0;34m(\u001b[0m\u001b[0mtasks\u001b[0m\u001b[0;34m)\u001b[0m\u001b[0;34m\u001b[0m\u001b[0;34m\u001b[0m\u001b[0m\n\u001b[0m\u001b[1;32m    902\u001b[0m                 \u001b[0;32mreturn\u001b[0m \u001b[0;32mTrue\u001b[0m\u001b[0;34m\u001b[0m\u001b[0;34m\u001b[0m\u001b[0m\n\u001b[1;32m    903\u001b[0m \u001b[0;34m\u001b[0m\u001b[0m\n",
            "\u001b[0;32m~/opt/anaconda3/lib/python3.9/site-packages/joblib/parallel.py\u001b[0m in \u001b[0;36m_dispatch\u001b[0;34m(self, batch)\u001b[0m\n\u001b[1;32m    817\u001b[0m         \u001b[0;32mwith\u001b[0m \u001b[0mself\u001b[0m\u001b[0;34m.\u001b[0m\u001b[0m_lock\u001b[0m\u001b[0;34m:\u001b[0m\u001b[0;34m\u001b[0m\u001b[0;34m\u001b[0m\u001b[0m\n\u001b[1;32m    818\u001b[0m             \u001b[0mjob_idx\u001b[0m \u001b[0;34m=\u001b[0m \u001b[0mlen\u001b[0m\u001b[0;34m(\u001b[0m\u001b[0mself\u001b[0m\u001b[0;34m.\u001b[0m\u001b[0m_jobs\u001b[0m\u001b[0;34m)\u001b[0m\u001b[0;34m\u001b[0m\u001b[0;34m\u001b[0m\u001b[0m\n\u001b[0;32m--> 819\u001b[0;31m             \u001b[0mjob\u001b[0m \u001b[0;34m=\u001b[0m \u001b[0mself\u001b[0m\u001b[0;34m.\u001b[0m\u001b[0m_backend\u001b[0m\u001b[0;34m.\u001b[0m\u001b[0mapply_async\u001b[0m\u001b[0;34m(\u001b[0m\u001b[0mbatch\u001b[0m\u001b[0;34m,\u001b[0m \u001b[0mcallback\u001b[0m\u001b[0;34m=\u001b[0m\u001b[0mcb\u001b[0m\u001b[0;34m)\u001b[0m\u001b[0;34m\u001b[0m\u001b[0;34m\u001b[0m\u001b[0m\n\u001b[0m\u001b[1;32m    820\u001b[0m             \u001b[0;31m# A job can complete so quickly than its callback is\u001b[0m\u001b[0;34m\u001b[0m\u001b[0;34m\u001b[0m\u001b[0m\n\u001b[1;32m    821\u001b[0m             \u001b[0;31m# called before we get here, causing self._jobs to\u001b[0m\u001b[0;34m\u001b[0m\u001b[0;34m\u001b[0m\u001b[0m\n",
            "\u001b[0;32m~/opt/anaconda3/lib/python3.9/site-packages/joblib/_parallel_backends.py\u001b[0m in \u001b[0;36mapply_async\u001b[0;34m(self, func, callback)\u001b[0m\n\u001b[1;32m    206\u001b[0m     \u001b[0;32mdef\u001b[0m \u001b[0mapply_async\u001b[0m\u001b[0;34m(\u001b[0m\u001b[0mself\u001b[0m\u001b[0;34m,\u001b[0m \u001b[0mfunc\u001b[0m\u001b[0;34m,\u001b[0m \u001b[0mcallback\u001b[0m\u001b[0;34m=\u001b[0m\u001b[0;32mNone\u001b[0m\u001b[0;34m)\u001b[0m\u001b[0;34m:\u001b[0m\u001b[0;34m\u001b[0m\u001b[0;34m\u001b[0m\u001b[0m\n\u001b[1;32m    207\u001b[0m         \u001b[0;34m\"\"\"Schedule a func to be run\"\"\"\u001b[0m\u001b[0;34m\u001b[0m\u001b[0;34m\u001b[0m\u001b[0m\n\u001b[0;32m--> 208\u001b[0;31m         \u001b[0mresult\u001b[0m \u001b[0;34m=\u001b[0m \u001b[0mImmediateResult\u001b[0m\u001b[0;34m(\u001b[0m\u001b[0mfunc\u001b[0m\u001b[0;34m)\u001b[0m\u001b[0;34m\u001b[0m\u001b[0;34m\u001b[0m\u001b[0m\n\u001b[0m\u001b[1;32m    209\u001b[0m         \u001b[0;32mif\u001b[0m \u001b[0mcallback\u001b[0m\u001b[0;34m:\u001b[0m\u001b[0;34m\u001b[0m\u001b[0;34m\u001b[0m\u001b[0m\n\u001b[1;32m    210\u001b[0m             \u001b[0mcallback\u001b[0m\u001b[0;34m(\u001b[0m\u001b[0mresult\u001b[0m\u001b[0;34m)\u001b[0m\u001b[0;34m\u001b[0m\u001b[0;34m\u001b[0m\u001b[0m\n",
            "\u001b[0;32m~/opt/anaconda3/lib/python3.9/site-packages/joblib/_parallel_backends.py\u001b[0m in \u001b[0;36m__init__\u001b[0;34m(self, batch)\u001b[0m\n\u001b[1;32m    595\u001b[0m         \u001b[0;31m# Don't delay the application, to avoid keeping the input\u001b[0m\u001b[0;34m\u001b[0m\u001b[0;34m\u001b[0m\u001b[0m\n\u001b[1;32m    596\u001b[0m         \u001b[0;31m# arguments in memory\u001b[0m\u001b[0;34m\u001b[0m\u001b[0;34m\u001b[0m\u001b[0m\n\u001b[0;32m--> 597\u001b[0;31m         \u001b[0mself\u001b[0m\u001b[0;34m.\u001b[0m\u001b[0mresults\u001b[0m \u001b[0;34m=\u001b[0m \u001b[0mbatch\u001b[0m\u001b[0;34m(\u001b[0m\u001b[0;34m)\u001b[0m\u001b[0;34m\u001b[0m\u001b[0;34m\u001b[0m\u001b[0m\n\u001b[0m\u001b[1;32m    598\u001b[0m \u001b[0;34m\u001b[0m\u001b[0m\n\u001b[1;32m    599\u001b[0m     \u001b[0;32mdef\u001b[0m \u001b[0mget\u001b[0m\u001b[0;34m(\u001b[0m\u001b[0mself\u001b[0m\u001b[0;34m)\u001b[0m\u001b[0;34m:\u001b[0m\u001b[0;34m\u001b[0m\u001b[0;34m\u001b[0m\u001b[0m\n",
            "\u001b[0;32m~/opt/anaconda3/lib/python3.9/site-packages/joblib/parallel.py\u001b[0m in \u001b[0;36m__call__\u001b[0;34m(self)\u001b[0m\n\u001b[1;32m    286\u001b[0m         \u001b[0;31m# change the default number of processes to -1\u001b[0m\u001b[0;34m\u001b[0m\u001b[0;34m\u001b[0m\u001b[0m\n\u001b[1;32m    287\u001b[0m         \u001b[0;32mwith\u001b[0m \u001b[0mparallel_backend\u001b[0m\u001b[0;34m(\u001b[0m\u001b[0mself\u001b[0m\u001b[0;34m.\u001b[0m\u001b[0m_backend\u001b[0m\u001b[0;34m,\u001b[0m \u001b[0mn_jobs\u001b[0m\u001b[0;34m=\u001b[0m\u001b[0mself\u001b[0m\u001b[0;34m.\u001b[0m\u001b[0m_n_jobs\u001b[0m\u001b[0;34m)\u001b[0m\u001b[0;34m:\u001b[0m\u001b[0;34m\u001b[0m\u001b[0;34m\u001b[0m\u001b[0m\n\u001b[0;32m--> 288\u001b[0;31m             return [func(*args, **kwargs)\n\u001b[0m\u001b[1;32m    289\u001b[0m                     for func, args, kwargs in self.items]\n\u001b[1;32m    290\u001b[0m \u001b[0;34m\u001b[0m\u001b[0m\n",
            "\u001b[0;32m~/opt/anaconda3/lib/python3.9/site-packages/joblib/parallel.py\u001b[0m in \u001b[0;36m<listcomp>\u001b[0;34m(.0)\u001b[0m\n\u001b[1;32m    286\u001b[0m         \u001b[0;31m# change the default number of processes to -1\u001b[0m\u001b[0;34m\u001b[0m\u001b[0;34m\u001b[0m\u001b[0m\n\u001b[1;32m    287\u001b[0m         \u001b[0;32mwith\u001b[0m \u001b[0mparallel_backend\u001b[0m\u001b[0;34m(\u001b[0m\u001b[0mself\u001b[0m\u001b[0;34m.\u001b[0m\u001b[0m_backend\u001b[0m\u001b[0;34m,\u001b[0m \u001b[0mn_jobs\u001b[0m\u001b[0;34m=\u001b[0m\u001b[0mself\u001b[0m\u001b[0;34m.\u001b[0m\u001b[0m_n_jobs\u001b[0m\u001b[0;34m)\u001b[0m\u001b[0;34m:\u001b[0m\u001b[0;34m\u001b[0m\u001b[0;34m\u001b[0m\u001b[0m\n\u001b[0;32m--> 288\u001b[0;31m             return [func(*args, **kwargs)\n\u001b[0m\u001b[1;32m    289\u001b[0m                     for func, args, kwargs in self.items]\n\u001b[1;32m    290\u001b[0m \u001b[0;34m\u001b[0m\u001b[0m\n",
            "\u001b[0;32m~/opt/anaconda3/lib/python3.9/site-packages/sklearn/utils/fixes.py\u001b[0m in \u001b[0;36m__call__\u001b[0;34m(self, *args, **kwargs)\u001b[0m\n\u001b[1;32m    115\u001b[0m     \u001b[0;32mdef\u001b[0m \u001b[0m__call__\u001b[0m\u001b[0;34m(\u001b[0m\u001b[0mself\u001b[0m\u001b[0;34m,\u001b[0m \u001b[0;34m*\u001b[0m\u001b[0margs\u001b[0m\u001b[0;34m,\u001b[0m \u001b[0;34m**\u001b[0m\u001b[0mkwargs\u001b[0m\u001b[0;34m)\u001b[0m\u001b[0;34m:\u001b[0m\u001b[0;34m\u001b[0m\u001b[0;34m\u001b[0m\u001b[0m\n\u001b[1;32m    116\u001b[0m         \u001b[0;32mwith\u001b[0m \u001b[0mconfig_context\u001b[0m\u001b[0;34m(\u001b[0m\u001b[0;34m**\u001b[0m\u001b[0mself\u001b[0m\u001b[0;34m.\u001b[0m\u001b[0mconfig\u001b[0m\u001b[0;34m)\u001b[0m\u001b[0;34m:\u001b[0m\u001b[0;34m\u001b[0m\u001b[0;34m\u001b[0m\u001b[0m\n\u001b[0;32m--> 117\u001b[0;31m             \u001b[0;32mreturn\u001b[0m \u001b[0mself\u001b[0m\u001b[0;34m.\u001b[0m\u001b[0mfunction\u001b[0m\u001b[0;34m(\u001b[0m\u001b[0;34m*\u001b[0m\u001b[0margs\u001b[0m\u001b[0;34m,\u001b[0m \u001b[0;34m**\u001b[0m\u001b[0mkwargs\u001b[0m\u001b[0;34m)\u001b[0m\u001b[0;34m\u001b[0m\u001b[0;34m\u001b[0m\u001b[0m\n\u001b[0m\u001b[1;32m    118\u001b[0m \u001b[0;34m\u001b[0m\u001b[0m\n\u001b[1;32m    119\u001b[0m \u001b[0;34m\u001b[0m\u001b[0m\n",
            "\u001b[0;32m~/opt/anaconda3/lib/python3.9/site-packages/sklearn/ensemble/_forest.py\u001b[0m in \u001b[0;36m_parallel_build_trees\u001b[0;34m(tree, bootstrap, X, y, sample_weight, tree_idx, n_trees, verbose, class_weight, n_samples_bootstrap)\u001b[0m\n\u001b[1;32m    183\u001b[0m             \u001b[0mcurr_sample_weight\u001b[0m \u001b[0;34m*=\u001b[0m \u001b[0mcompute_sample_weight\u001b[0m\u001b[0;34m(\u001b[0m\u001b[0;34m\"balanced\"\u001b[0m\u001b[0;34m,\u001b[0m \u001b[0my\u001b[0m\u001b[0;34m,\u001b[0m \u001b[0mindices\u001b[0m\u001b[0;34m=\u001b[0m\u001b[0mindices\u001b[0m\u001b[0;34m)\u001b[0m\u001b[0;34m\u001b[0m\u001b[0;34m\u001b[0m\u001b[0m\n\u001b[1;32m    184\u001b[0m \u001b[0;34m\u001b[0m\u001b[0m\n\u001b[0;32m--> 185\u001b[0;31m         \u001b[0mtree\u001b[0m\u001b[0;34m.\u001b[0m\u001b[0mfit\u001b[0m\u001b[0;34m(\u001b[0m\u001b[0mX\u001b[0m\u001b[0;34m,\u001b[0m \u001b[0my\u001b[0m\u001b[0;34m,\u001b[0m \u001b[0msample_weight\u001b[0m\u001b[0;34m=\u001b[0m\u001b[0mcurr_sample_weight\u001b[0m\u001b[0;34m,\u001b[0m \u001b[0mcheck_input\u001b[0m\u001b[0;34m=\u001b[0m\u001b[0;32mFalse\u001b[0m\u001b[0;34m)\u001b[0m\u001b[0;34m\u001b[0m\u001b[0;34m\u001b[0m\u001b[0m\n\u001b[0m\u001b[1;32m    186\u001b[0m     \u001b[0;32melse\u001b[0m\u001b[0;34m:\u001b[0m\u001b[0;34m\u001b[0m\u001b[0;34m\u001b[0m\u001b[0m\n\u001b[1;32m    187\u001b[0m         \u001b[0mtree\u001b[0m\u001b[0;34m.\u001b[0m\u001b[0mfit\u001b[0m\u001b[0;34m(\u001b[0m\u001b[0mX\u001b[0m\u001b[0;34m,\u001b[0m \u001b[0my\u001b[0m\u001b[0;34m,\u001b[0m \u001b[0msample_weight\u001b[0m\u001b[0;34m=\u001b[0m\u001b[0msample_weight\u001b[0m\u001b[0;34m,\u001b[0m \u001b[0mcheck_input\u001b[0m\u001b[0;34m=\u001b[0m\u001b[0;32mFalse\u001b[0m\u001b[0;34m)\u001b[0m\u001b[0;34m\u001b[0m\u001b[0;34m\u001b[0m\u001b[0m\n",
            "\u001b[0;32m~/opt/anaconda3/lib/python3.9/site-packages/sklearn/tree/_classes.py\u001b[0m in \u001b[0;36mfit\u001b[0;34m(self, X, y, sample_weight, check_input)\u001b[0m\n\u001b[1;32m    887\u001b[0m         \"\"\"\n\u001b[1;32m    888\u001b[0m \u001b[0;34m\u001b[0m\u001b[0m\n\u001b[0;32m--> 889\u001b[0;31m         super().fit(\n\u001b[0m\u001b[1;32m    890\u001b[0m             \u001b[0mX\u001b[0m\u001b[0;34m,\u001b[0m\u001b[0;34m\u001b[0m\u001b[0;34m\u001b[0m\u001b[0m\n\u001b[1;32m    891\u001b[0m             \u001b[0my\u001b[0m\u001b[0;34m,\u001b[0m\u001b[0;34m\u001b[0m\u001b[0;34m\u001b[0m\u001b[0m\n",
            "\u001b[0;32m~/opt/anaconda3/lib/python3.9/site-packages/sklearn/tree/_classes.py\u001b[0m in \u001b[0;36mfit\u001b[0;34m(self, X, y, sample_weight, check_input)\u001b[0m\n\u001b[1;32m    377\u001b[0m             )\n\u001b[1;32m    378\u001b[0m \u001b[0;34m\u001b[0m\u001b[0m\n\u001b[0;32m--> 379\u001b[0;31m         \u001b[0mbuilder\u001b[0m\u001b[0;34m.\u001b[0m\u001b[0mbuild\u001b[0m\u001b[0;34m(\u001b[0m\u001b[0mself\u001b[0m\u001b[0;34m.\u001b[0m\u001b[0mtree_\u001b[0m\u001b[0;34m,\u001b[0m \u001b[0mX\u001b[0m\u001b[0;34m,\u001b[0m \u001b[0my\u001b[0m\u001b[0;34m,\u001b[0m \u001b[0msample_weight\u001b[0m\u001b[0;34m)\u001b[0m\u001b[0;34m\u001b[0m\u001b[0;34m\u001b[0m\u001b[0m\n\u001b[0m\u001b[1;32m    380\u001b[0m \u001b[0;34m\u001b[0m\u001b[0m\n\u001b[1;32m    381\u001b[0m         \u001b[0;32mif\u001b[0m \u001b[0mself\u001b[0m\u001b[0;34m.\u001b[0m\u001b[0mn_outputs_\u001b[0m \u001b[0;34m==\u001b[0m \u001b[0;36m1\u001b[0m \u001b[0;32mand\u001b[0m \u001b[0mis_classifier\u001b[0m\u001b[0;34m(\u001b[0m\u001b[0mself\u001b[0m\u001b[0;34m)\u001b[0m\u001b[0;34m:\u001b[0m\u001b[0;34m\u001b[0m\u001b[0;34m\u001b[0m\u001b[0m\n",
            "\u001b[0;31mKeyboardInterrupt\u001b[0m: "
          ]
        }
      ],
      "source": [
        "labels= {'labels1':{'0-10':0, '11-20':1, '21-30':2, '31-40':3, '41-50':4, '51-60':5, '61-70':6, '71-80':7, '81-90':8, '91-100':9, 'More than 100 Days':10},\n",
        "'labels2':{'0-10':0, '11-20':1, '21-30':1, '31-40':2, '41-50':2, '51-60':3, '61-70':3, '71-80':3, '81-90':4, '91-100':4, 'More than 100 Days':4},\n",
        "'labels3':{'0-10':0, '11-20':0, '21-30':0, '31-40':1, '41-50':1, '51-60':1, '61-70':2, '71-80':2, '81-90':2, '91-100':3, 'More than 100 Days':3},\n",
        "'labels4':{'0-10':0, '11-20':0, '21-30':1, '31-40':1, '41-50':2, '51-60':2, '61-70':3, '71-80':3, '81-90':3, '91-100':3, 'More than 100 Days':3},\n",
        "'labels5':{'0-10':0, '11-20':1, '21-30':1, '31-40':2, '41-50':2, '51-60':3, '61-70':3, '71-80':3, '81-90':3, '91-100':3, 'More than 100 Days':3}\n",
        "}\n",
        "\n",
        "target_labels= list(labels.keys())\n",
        "\n",
        "base= {'classifiers': ['Logistic_Regression', 'KNN', 'Decision_Tree', 'Random_Forest', 'Gradient Boost', 'XGBoost', 'ANN']}\n",
        "\n",
        "for label in target_labels:\n",
        "\n",
        "  acc_score= experimenting_group(labels[label])\n",
        " n.\n",
        "  base[label]=acc_score\n"
      ]
    },
    {
      "cell_type": "code",
      "execution_count": null,
      "id": "S5qc6QHHH_gw",
      "metadata": {
        "colab": {
          "base_uri": "https://localhost:8080/",
          "height": 269
        },
        "id": "S5qc6QHHH_gw",
        "outputId": "7198f5c6-fd5f-420b-9a68-c0de420c1760"
      },
      "outputs": [
        {
          "data": {
            "text/html": [
              "\n",
              "  <div id=\"df-fb36a22a-f5b1-4817-9e84-bc4258de6c83\">\n",
              "    <div class=\"colab-df-container\">\n",
              "      <div>\n",
              "<style scoped>\n",
              "    .dataframe tbody tr th:only-of-type {\n",
              "        vertical-align: middle;\n",
              "    }\n",
              "\n",
              "    .dataframe tbody tr th {\n",
              "        vertical-align: top;\n",
              "    }\n",
              "\n",
              "    .dataframe thead th {\n",
              "        text-align: right;\n",
              "    }\n",
              "</style>\n",
              "<table border=\"1\" class=\"dataframe\">\n",
              "  <thead>\n",
              "    <tr style=\"text-align: right;\">\n",
              "      <th></th>\n",
              "      <th>classifiers</th>\n",
              "      <th>labels1</th>\n",
              "      <th>labels2</th>\n",
              "      <th>labels3</th>\n",
              "      <th>labels4</th>\n",
              "    </tr>\n",
              "  </thead>\n",
              "  <tbody>\n",
              "    <tr>\n",
              "      <th>0</th>\n",
              "      <td>Logistic_Regression</td>\n",
              "      <td>0.387626</td>\n",
              "      <td>0.622999</td>\n",
              "      <td>0.729388</td>\n",
              "      <td>0.508137</td>\n",
              "    </tr>\n",
              "    <tr>\n",
              "      <th>1</th>\n",
              "      <td>KNN</td>\n",
              "      <td>0.364896</td>\n",
              "      <td>0.597983</td>\n",
              "      <td>0.700740</td>\n",
              "      <td>0.510827</td>\n",
              "    </tr>\n",
              "    <tr>\n",
              "      <th>2</th>\n",
              "      <td>Decision_Tree</td>\n",
              "      <td>0.310020</td>\n",
              "      <td>0.499933</td>\n",
              "      <td>0.621789</td>\n",
              "      <td>0.448823</td>\n",
              "    </tr>\n",
              "    <tr>\n",
              "      <th>3</th>\n",
              "      <td>Random_Forest</td>\n",
              "      <td>0.397041</td>\n",
              "      <td>0.635911</td>\n",
              "      <td>0.730061</td>\n",
              "      <td>0.537727</td>\n",
              "    </tr>\n",
              "    <tr>\n",
              "      <th>4</th>\n",
              "      <td>Gradient Boost</td>\n",
              "      <td>0.427169</td>\n",
              "      <td>0.645057</td>\n",
              "      <td>0.740148</td>\n",
              "      <td>0.557229</td>\n",
              "    </tr>\n",
              "    <tr>\n",
              "      <th>5</th>\n",
              "      <td>XGBoost</td>\n",
              "      <td>0.419502</td>\n",
              "      <td>0.643443</td>\n",
              "      <td>0.738130</td>\n",
              "      <td>0.552387</td>\n",
              "    </tr>\n",
              "    <tr>\n",
              "      <th>6</th>\n",
              "      <td>ANN</td>\n",
              "      <td>0.377404</td>\n",
              "      <td>0.633356</td>\n",
              "      <td>0.735037</td>\n",
              "      <td>0.518494</td>\n",
              "    </tr>\n",
              "  </tbody>\n",
              "</table>\n",
              "</div>\n",
              "      <button class=\"colab-df-convert\" onclick=\"convertToInteractive('df-fb36a22a-f5b1-4817-9e84-bc4258de6c83')\"\n",
              "              title=\"Convert this dataframe to an interactive table.\"\n",
              "              style=\"display:none;\">\n",
              "        \n",
              "  <svg xmlns=\"http://www.w3.org/2000/svg\" height=\"24px\"viewBox=\"0 0 24 24\"\n",
              "       width=\"24px\">\n",
              "    <path d=\"M0 0h24v24H0V0z\" fill=\"none\"/>\n",
              "    <path d=\"M18.56 5.44l.94 2.06.94-2.06 2.06-.94-2.06-.94-.94-2.06-.94 2.06-2.06.94zm-11 1L8.5 8.5l.94-2.06 2.06-.94-2.06-.94L8.5 2.5l-.94 2.06-2.06.94zm10 10l.94 2.06.94-2.06 2.06-.94-2.06-.94-.94-2.06-.94 2.06-2.06.94z\"/><path d=\"M17.41 7.96l-1.37-1.37c-.4-.4-.92-.59-1.43-.59-.52 0-1.04.2-1.43.59L10.3 9.45l-7.72 7.72c-.78.78-.78 2.05 0 2.83L4 21.41c.39.39.9.59 1.41.59.51 0 1.02-.2 1.41-.59l7.78-7.78 2.81-2.81c.8-.78.8-2.07 0-2.86zM5.41 20L4 18.59l7.72-7.72 1.47 1.35L5.41 20z\"/>\n",
              "  </svg>\n",
              "      </button>\n",
              "      \n",
              "  <style>\n",
              "    .colab-df-container {\n",
              "      display:flex;\n",
              "      flex-wrap:wrap;\n",
              "      gap: 12px;\n",
              "    }\n",
              "\n",
              "    .colab-df-convert {\n",
              "      background-color: #E8F0FE;\n",
              "      border: none;\n",
              "      border-radius: 50%;\n",
              "      cursor: pointer;\n",
              "      display: none;\n",
              "      fill: #1967D2;\n",
              "      height: 32px;\n",
              "      padding: 0 0 0 0;\n",
              "      width: 32px;\n",
              "    }\n",
              "\n",
              "    .colab-df-convert:hover {\n",
              "      background-color: #E2EBFA;\n",
              "      box-shadow: 0px 1px 2px rgba(60, 64, 67, 0.3), 0px 1px 3px 1px rgba(60, 64, 67, 0.15);\n",
              "      fill: #174EA6;\n",
              "    }\n",
              "\n",
              "    [theme=dark] .colab-df-convert {\n",
              "      background-color: #3B4455;\n",
              "      fill: #D2E3FC;\n",
              "    }\n",
              "\n",
              "    [theme=dark] .colab-df-convert:hover {\n",
              "      background-color: #434B5C;\n",
              "      box-shadow: 0px 1px 3px 1px rgba(0, 0, 0, 0.15);\n",
              "      filter: drop-shadow(0px 1px 2px rgba(0, 0, 0, 0.3));\n",
              "      fill: #FFFFFF;\n",
              "    }\n",
              "  </style>\n",
              "\n",
              "      <script>\n",
              "        const buttonEl =\n",
              "          document.querySelector('#df-fb36a22a-f5b1-4817-9e84-bc4258de6c83 button.colab-df-convert');\n",
              "        buttonEl.style.display =\n",
              "          google.colab.kernel.accessAllowed ? 'block' : 'none';\n",
              "\n",
              "        async function convertToInteractive(key) {\n",
              "          const element = document.querySelector('#df-fb36a22a-f5b1-4817-9e84-bc4258de6c83');\n",
              "          const dataTable =\n",
              "            await google.colab.kernel.invokeFunction('convertToInteractive',\n",
              "                                                     [key], {});\n",
              "          if (!dataTable) return;\n",
              "\n",
              "          const docLinkHtml = 'Like what you see? Visit the ' +\n",
              "            '<a target=\"_blank\" href=https://colab.research.google.com/notebooks/data_table.ipynb>data table notebook</a>'\n",
              "            + ' to learn more about interactive tables.';\n",
              "          element.innerHTML = '';\n",
              "          dataTable['output_type'] = 'display_data';\n",
              "          await google.colab.output.renderOutput(dataTable, element);\n",
              "          const docLink = document.createElement('div');\n",
              "          docLink.innerHTML = docLinkHtml;\n",
              "          element.appendChild(docLink);\n",
              "        }\n",
              "      </script>\n",
              "    </div>\n",
              "  </div>\n",
              "  "
            ],
            "text/plain": [
              "           classifiers   labels1   labels2   labels3   labels4\n",
              "0  Logistic_Regression  0.387626  0.622999  0.729388  0.508137\n",
              "1                  KNN  0.364896  0.597983  0.700740  0.510827\n",
              "2        Decision_Tree  0.310020  0.499933  0.621789  0.448823\n",
              "3        Random_Forest  0.397041  0.635911  0.730061  0.537727\n",
              "4       Gradient Boost  0.427169  0.645057  0.740148  0.557229\n",
              "5              XGBoost  0.419502  0.643443  0.738130  0.552387\n",
              "6                  ANN  0.377404  0.633356  0.735037  0.518494"
            ]
          },
          "execution_count": 104,
          "metadata": {},
          "output_type": "execute_result"
        }
      ],
      "source": [
        "labels_acc= pd.DataFrame.from_dict(base)\n",
        "labels_acc"
      ]
    },
    {
      "cell_type": "code",
      "execution_count": null,
      "id": "J2Nc44FNVgMv",
      "metadata": {
        "colab": {
          "base_uri": "https://localhost:8080/",
          "height": 300
        },
        "id": "J2Nc44FNVgMv",
        "outputId": "3c916a34-e90a-47ca-9432-a3afbb9621f3"
      },
      "outputs": [
        {
          "data": {
            "text/html": [
              "\n",
              "  <div id=\"df-debd42b4-6b52-4247-9a3a-538ea5754249\">\n",
              "    <div class=\"colab-df-container\">\n",
              "      <div>\n",
              "<style scoped>\n",
              "    .dataframe tbody tr th:only-of-type {\n",
              "        vertical-align: middle;\n",
              "    }\n",
              "\n",
              "    .dataframe tbody tr th {\n",
              "        vertical-align: top;\n",
              "    }\n",
              "\n",
              "    .dataframe thead th {\n",
              "        text-align: right;\n",
              "    }\n",
              "</style>\n",
              "<table border=\"1\" class=\"dataframe\">\n",
              "  <thead>\n",
              "    <tr style=\"text-align: right;\">\n",
              "      <th></th>\n",
              "      <th>labels1</th>\n",
              "      <th>labels2</th>\n",
              "      <th>labels3</th>\n",
              "      <th>labels4</th>\n",
              "    </tr>\n",
              "  </thead>\n",
              "  <tbody>\n",
              "    <tr>\n",
              "      <th>count</th>\n",
              "      <td>7.000000</td>\n",
              "      <td>7.000000</td>\n",
              "      <td>7.000000</td>\n",
              "      <td>7.000000</td>\n",
              "    </tr>\n",
              "    <tr>\n",
              "      <th>mean</th>\n",
              "      <td>0.383380</td>\n",
              "      <td>0.611240</td>\n",
              "      <td>0.713613</td>\n",
              "      <td>0.519089</td>\n",
              "    </tr>\n",
              "    <tr>\n",
              "      <th>std</th>\n",
              "      <td>0.039128</td>\n",
              "      <td>0.051610</td>\n",
              "      <td>0.042585</td>\n",
              "      <td>0.036598</td>\n",
              "    </tr>\n",
              "    <tr>\n",
              "      <th>min</th>\n",
              "      <td>0.310020</td>\n",
              "      <td>0.499933</td>\n",
              "      <td>0.621789</td>\n",
              "      <td>0.448823</td>\n",
              "    </tr>\n",
              "    <tr>\n",
              "      <th>25%</th>\n",
              "      <td>0.371150</td>\n",
              "      <td>0.610491</td>\n",
              "      <td>0.715064</td>\n",
              "      <td>0.509482</td>\n",
              "    </tr>\n",
              "    <tr>\n",
              "      <th>50%</th>\n",
              "      <td>0.387626</td>\n",
              "      <td>0.633356</td>\n",
              "      <td>0.730061</td>\n",
              "      <td>0.518494</td>\n",
              "    </tr>\n",
              "    <tr>\n",
              "      <th>75%</th>\n",
              "      <td>0.408272</td>\n",
              "      <td>0.639677</td>\n",
              "      <td>0.736584</td>\n",
              "      <td>0.545057</td>\n",
              "    </tr>\n",
              "    <tr>\n",
              "      <th>max</th>\n",
              "      <td>0.427169</td>\n",
              "      <td>0.645057</td>\n",
              "      <td>0.740148</td>\n",
              "      <td>0.557229</td>\n",
              "    </tr>\n",
              "  </tbody>\n",
              "</table>\n",
              "</div>\n",
              "      <button class=\"colab-df-convert\" onclick=\"convertToInteractive('df-debd42b4-6b52-4247-9a3a-538ea5754249')\"\n",
              "              title=\"Convert this dataframe to an interactive table.\"\n",
              "              style=\"display:none;\">\n",
              "        \n",
              "  <svg xmlns=\"http://www.w3.org/2000/svg\" height=\"24px\"viewBox=\"0 0 24 24\"\n",
              "       width=\"24px\">\n",
              "    <path d=\"M0 0h24v24H0V0z\" fill=\"none\"/>\n",
              "    <path d=\"M18.56 5.44l.94 2.06.94-2.06 2.06-.94-2.06-.94-.94-2.06-.94 2.06-2.06.94zm-11 1L8.5 8.5l.94-2.06 2.06-.94-2.06-.94L8.5 2.5l-.94 2.06-2.06.94zm10 10l.94 2.06.94-2.06 2.06-.94-2.06-.94-.94-2.06-.94 2.06-2.06.94z\"/><path d=\"M17.41 7.96l-1.37-1.37c-.4-.4-.92-.59-1.43-.59-.52 0-1.04.2-1.43.59L10.3 9.45l-7.72 7.72c-.78.78-.78 2.05 0 2.83L4 21.41c.39.39.9.59 1.41.59.51 0 1.02-.2 1.41-.59l7.78-7.78 2.81-2.81c.8-.78.8-2.07 0-2.86zM5.41 20L4 18.59l7.72-7.72 1.47 1.35L5.41 20z\"/>\n",
              "  </svg>\n",
              "      </button>\n",
              "      \n",
              "  <style>\n",
              "    .colab-df-container {\n",
              "      display:flex;\n",
              "      flex-wrap:wrap;\n",
              "      gap: 12px;\n",
              "    }\n",
              "\n",
              "    .colab-df-convert {\n",
              "      background-color: #E8F0FE;\n",
              "      border: none;\n",
              "      border-radius: 50%;\n",
              "      cursor: pointer;\n",
              "      display: none;\n",
              "      fill: #1967D2;\n",
              "      height: 32px;\n",
              "      padding: 0 0 0 0;\n",
              "      width: 32px;\n",
              "    }\n",
              "\n",
              "    .colab-df-convert:hover {\n",
              "      background-color: #E2EBFA;\n",
              "      box-shadow: 0px 1px 2px rgba(60, 64, 67, 0.3), 0px 1px 3px 1px rgba(60, 64, 67, 0.15);\n",
              "      fill: #174EA6;\n",
              "    }\n",
              "\n",
              "    [theme=dark] .colab-df-convert {\n",
              "      background-color: #3B4455;\n",
              "      fill: #D2E3FC;\n",
              "    }\n",
              "\n",
              "    [theme=dark] .colab-df-convert:hover {\n",
              "      background-color: #434B5C;\n",
              "      box-shadow: 0px 1px 3px 1px rgba(0, 0, 0, 0.15);\n",
              "      filter: drop-shadow(0px 1px 2px rgba(0, 0, 0, 0.3));\n",
              "      fill: #FFFFFF;\n",
              "    }\n",
              "  </style>\n",
              "\n",
              "      <script>\n",
              "        const buttonEl =\n",
              "          document.querySelector('#df-debd42b4-6b52-4247-9a3a-538ea5754249 button.colab-df-convert');\n",
              "        buttonEl.style.display =\n",
              "          google.colab.kernel.accessAllowed ? 'block' : 'none';\n",
              "\n",
              "        async function convertToInteractive(key) {\n",
              "          const element = document.querySelector('#df-debd42b4-6b52-4247-9a3a-538ea5754249');\n",
              "          const dataTable =\n",
              "            await google.colab.kernel.invokeFunction('convertToInteractive',\n",
              "                                                     [key], {});\n",
              "          if (!dataTable) return;\n",
              "\n",
              "          const docLinkHtml = 'Like what you see? Visit the ' +\n",
              "            '<a target=\"_blank\" href=https://colab.research.google.com/notebooks/data_table.ipynb>data table notebook</a>'\n",
              "            + ' to learn more about interactive tables.';\n",
              "          element.innerHTML = '';\n",
              "          dataTable['output_type'] = 'display_data';\n",
              "          await google.colab.output.renderOutput(dataTable, element);\n",
              "          const docLink = document.createElement('div');\n",
              "          docLink.innerHTML = docLinkHtml;\n",
              "          element.appendChild(docLink);\n",
              "        }\n",
              "      </script>\n",
              "    </div>\n",
              "  </div>\n",
              "  "
            ],
            "text/plain": [
              "        labels1   labels2   labels3   labels4\n",
              "count  7.000000  7.000000  7.000000  7.000000\n",
              "mean   0.383380  0.611240  0.713613  0.519089\n",
              "std    0.039128  0.051610  0.042585  0.036598\n",
              "min    0.310020  0.499933  0.621789  0.448823\n",
              "25%    0.371150  0.610491  0.715064  0.509482\n",
              "50%    0.387626  0.633356  0.730061  0.518494\n",
              "75%    0.408272  0.639677  0.736584  0.545057\n",
              "max    0.427169  0.645057  0.740148  0.557229"
            ]
          },
          "execution_count": 105,
          "metadata": {},
          "output_type": "execute_result"
        }
      ],
      "source": [
        "labels_acc.describe()"
      ]
    },
    {
      "cell_type": "markdown",
      "id": "EcZRPfI9dRvd",
      "metadata": {
        "id": "EcZRPfI9dRvd"
      },
      "source": [
        "- Accuracy score with labels2 and labels3 is higher than the remaining two. \n",
        "\n",
        "- Mean accuracy score for labels2 is 61% and for labels3 is 71% \n",
        "\n",
        "- While looking at group sizes in labels2 and labels3, models will predict the target group more accurately but the precision in the prediction will be significanlty reduced. Lets understand this using example. \n",
        "\n",
        "\n",
        "Lets say we use labels3 grouping. ie\n",
        "\n",
        "0 to 30 days: 0 \n",
        "\n",
        "31 to 60 days: 1\n",
        "\n",
        "61 to 90 days: 2 \n",
        "\n",
        "More than 90 days: 3\n"
      ]
    },
    {
      "cell_type": "markdown",
      "id": "xHh963hyfrDW",
      "metadata": {
        "id": "xHh963hyfrDW"
      },
      "source": [
        "Now even if our model is accurately predicting the group 0, it will still not help management because label for patient staying 5 days will be same as that for patient staying 30 days. With such grouping we have increase the tolerance of the model.\n"
      ]
    },
    {
      "cell_type": "markdown",
      "id": "zp4AMXPugeSl",
      "metadata": {
        "id": "zp4AMXPugeSl"
      },
      "source": [
        "lables2 is slighly better than labels3 as it tried to reduce the tolerance \n",
        "\n",
        "0 to 10 days : 0\n",
        "\n",
        "11 to 30 days : 1\n",
        "\n",
        "31 to 50 days: 2\n",
        "\n",
        "51 to 80 days: 3 \n",
        "\n",
        "more than 80 days: 4\n",
        "\n",
        "\n"
      ]
    },
    {
      "cell_type": "markdown",
      "id": "0CNe38nUh03O",
      "metadata": {
        "id": "0CNe38nUh03O"
      },
      "source": [
        "Decision on selecting target labelling is solely dependent on business need. We would need to talk with project sponser and customers. If structuring the target labels using labels2 or labels3 satisfy project objective, we can directly incorporate it in the model deployment. Otherwise, we would need do experimentation with more diverse features which are currently not available in the dataset to increase the model accuracy for the exsiting target groups. This will increase the scope, schedule and budget of the project. Hence, for now, we will keep the exisiting target groups as is"
      ]
    },
    {
      "cell_type": "markdown",
      "id": "2zpG8blTlWe5",
      "metadata": {
        "id": "2zpG8blTlWe5"
      },
      "source": [
        "# Model Deployment"
      ]
    },
    {
      "cell_type": "code",
      "execution_count": null,
      "id": "58edf6e1",
      "metadata": {
        "id": "58edf6e1"
      },
      "outputs": [],
      "source": [
        "import pickle"
      ]
    },
    {
      "cell_type": "code",
      "execution_count": null,
      "id": "99a3fffc",
      "metadata": {
        "id": "99a3fffc"
      },
      "outputs": [],
      "source": [
        "pickle.dump(xgb_final, open(\"model.pkl\", \"wb\"))"
      ]
    },
    {
      "cell_type": "code",
      "execution_count": null,
      "id": "7de06af0",
      "metadata": {
        "id": "7de06af0"
      },
      "outputs": [],
      "source": [
        "pickle.dump(encoder, open(\"encoder.pkl\", \"wb\"))"
      ]
    },
    {
      "cell_type": "code",
      "execution_count": null,
      "id": "f6d1c43c",
      "metadata": {
        "id": "f6d1c43c"
      },
      "outputs": [],
      "source": [
        "pickle.dump(scaler, open(\"scaler.pkl\", \"wb\"))"
      ]
    }
  ],
  "metadata": {
    "colab": {
      "provenance": []
    },
    "kernelspec": {
      "display_name": "Python 3.9.7 ('base')",
      "language": "python",
      "name": "python3"
    },
    "language_info": {
      "codemirror_mode": {
        "name": "ipython",
        "version": 3
      },
      "file_extension": ".py",
      "mimetype": "text/x-python",
      "name": "python",
      "nbconvert_exporter": "python",
      "pygments_lexer": "ipython3",
      "version": "3.9.7"
    },
    "vscode": {
      "interpreter": {
        "hash": "a830059a9c722dc07a2d3b6438b71a1ebbefa5368f89a311b0b30f271271817c"
      }
    }
  },
  "nbformat": 4,
  "nbformat_minor": 5
}
